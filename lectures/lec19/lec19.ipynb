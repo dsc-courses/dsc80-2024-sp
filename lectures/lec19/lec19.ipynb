{
 "cells": [
  {
   "cell_type": "code",
   "execution_count": 1,
   "id": "8c8a44b8",
   "metadata": {
    "slideshow": {
     "slide_type": "skip"
    }
   },
   "outputs": [],
   "source": [
    "from dsc80_utils import *"
   ]
  },
  {
   "cell_type": "markdown",
   "id": "6ca51859",
   "metadata": {
    "slideshow": {
     "slide_type": "slide"
    }
   },
   "source": [
    "# Lecture 19 – Building a Data Science Career, Final Exam Review\n",
    "\n",
    "## DSC 80, Spring 2024"
   ]
  },
  {
   "cell_type": "markdown",
   "id": "22824200",
   "metadata": {
    "slideshow": {
     "slide_type": "slide"
    }
   },
   "source": [
    "### Announcements 📣\n",
    "\n",
    "\n",
    "- Last day for all redemptions is **tomorrow**.\n",
    "- If at least 80% of the class fills out both [**SETs**](https://academicaffairs.ucsd.edu/Modules/Evals/) and the [**End-of-Quarter Survey**](https://forms.gle/yLY34FqUiRLyCn9F9) by **tomorrow, June 7th at 11:59PM**, then everyone will earn an extra 2% on the Final Exam.\n",
    "- The Final Exam is on **Saturday, June 8th from 8AM-11AM in CENTER 216**.\n",
    "    - Practice by working through old exams at [practice.dsc80.com](https://practice.dsc80.com).\n",
    "    - You can bring two double-sided notes sheets (you can bring your midterm notes sheet, if you want).\n",
    "    - Check Ed for more details.\n",
    "- The Final Project is due on **Wednesday, June 12th**.\n",
    "    - **No slip days allowed!**"
   ]
  },
  {
   "cell_type": "markdown",
   "id": "20847d71",
   "metadata": {
    "slideshow": {
     "slide_type": "slide"
    }
   },
   "source": [
    "## Building a Data Science Career"
   ]
  },
  {
   "cell_type": "markdown",
   "id": "b3a5de70",
   "metadata": {
    "slideshow": {
     "slide_type": "slide"
    }
   },
   "source": [
    "### Do Grades Matter?\n",
    "\n",
    "- Not as much as you probably think.\n",
    "\n",
    "What you might imagine:\n",
    "\n",
    "1. Student works hard to get As in their DSC classes.\n",
    "1. High GPA looks good on resume.\n",
    "1. Resume leads to interview, student aces interview.\n",
    "1. Good job!\n",
    "\n",
    "But this is what I actually see:\n",
    "\n",
    "1. Student works hard to get As in ALL OF THEIR classes and takes a minor / double major. \n",
    "1. High GPA looks decent on resume, but lots of students have high GPAs.\n",
    "1. Resume doesn't stand out very much, and student has trouble finding job after graduation."
   ]
  },
  {
   "cell_type": "markdown",
   "id": "8f61f769",
   "metadata": {
    "slideshow": {
     "slide_type": "slide"
    }
   },
   "source": [
    "### An Alternate Route\n",
    "\n",
    "1. Student takes fewer classes in order to do AMAZING work in one class (e.g. really interested in data visualization).\n",
    "1. Professor: Wow, that was the best class work in YEARS, you should totally join my research group!\n",
    "1. Student works with PhD students and professor on cutting-edge research, years ahead of what's available in industry.\n",
    "1. Student's resume is packed with interesting projects that VERY FEW other students have, leading to an AWESOME JOB after graduation.\n",
    "    1. Or, student applies to grad school and their professor can write them a super good letter."
   ]
  },
  {
   "cell_type": "markdown",
   "id": "0445e2e6",
   "metadata": {
    "slideshow": {
     "slide_type": "slide"
    }
   },
   "source": [
    "### There are many ways to be excellent\n",
    "\n",
    "1. Take more classes, get good grades\n",
    "    1. Highly structured -- professor gives you problems.\n",
    "\n",
    "Less-structured efforts where you pick the problem to work on:\n",
    "\n",
    "1. Go beyond the requirements in a course you really like.\n",
    "1. Help redesign a course.\n",
    "1. Conduct an independent study.\n",
    "1. Do research.\n",
    "1. Create a startup / non-profit.\n",
    "\n",
    "Higher risk of failure, but you'll learn a lot more than if you just take classes!"
   ]
  },
  {
   "cell_type": "markdown",
   "id": "37227e63",
   "metadata": {
    "slideshow": {
     "slide_type": "slide"
    }
   },
   "source": [
    "### An Email\n",
    "\n",
    "> Hey Sam, I'm glad you're talking about this. When I look at resumes, I skip past the GPA and courses and look at their project-based courses and what they did in those courses. Bonus points if they have independent projects, and if there's a link to their project on their resume, I will always click on it."
   ]
  },
  {
   "cell_type": "markdown",
   "id": "36fa9fcf",
   "metadata": {
    "slideshow": {
     "slide_type": "slide"
    }
   },
   "source": [
    "### My Advice for People Starting Out\n",
    "\n",
    "1. Next quarter, take fewer courses, and be okay with getting Bs in some courses if it means you get to invest lots of time into the one course you really like.\n",
    "1. Really stand out in one course you like. Here are some examples:\n",
    "    1. Going 2x above project requirements, then talk to your professor about your work.\n",
    "    1. Ask lots of good questions after every lecture.\n",
    "    1. Come to office hours regularly with questions about topics beyond the course.\n",
    "1. At the end of the quarter, ask your professor if you can help with their research group."
   ]
  },
  {
   "cell_type": "markdown",
   "id": "84fe9388",
   "metadata": {
    "slideshow": {
     "slide_type": "slide"
    }
   },
   "source": [
    "### In Other Words...\n",
    "\n",
    "There are \"grades\" you can get that are (much, much) higher than A's!\n",
    "\n",
    "(From Dave Eckhardt)"
   ]
  },
  {
   "cell_type": "markdown",
   "id": "6e17968c",
   "metadata": {
    "slideshow": {
     "slide_type": "slide"
    }
   },
   "source": [
    "### Let's Be Pragmatic\n",
    "\n",
    "- Yes, you need to work hard to develop strong technical skills!\n",
    "- But the best jobs come through people that know you, not by submitting your resume into a pool of thousands of applicants.\n",
    "    - You should spend time thinking about how you can make use of being at UCSD to grow your network.\n",
    "    - PhD students and professors are a good place to start, but not the only way."
   ]
  },
  {
   "cell_type": "markdown",
   "id": "0ac12fa3",
   "metadata": {
    "slideshow": {
     "slide_type": "slide"
    }
   },
   "source": [
    "### How to cold-email and actually get responses\n",
    "\n",
    "1. Pick a topic of interest.\n",
    "2. Do an independent project around that topic.\n",
    "    1. Small and punchy is better than big! [See some of Simon Willison's posts for examples.](https://simonwillison.net/2022/Jul/9/gpt-3-explain-code/)\n",
    "3. Put your project online as a publicly viewable webpage (like what you're doing for your final project!).\n",
    "4. Write an email that looks like this:\n",
    "\n",
    "```\n",
    "Hi {name},\n",
    "\n",
    "My name is {name} and I'm an undergrad at UCSD studying {major}.\n",
    "\n",
    "I'm really interested in learning more about your research in {topic} since I'm also working on projects in that area. For example, I wrote about my latest work on {my project} here: {url}.\n",
    "\n",
    "Would you have some time in the next few weeks for a 30-min chat?\n",
    "```\n",
    "\n",
    "Key points:\n",
    "\n",
    "1. Email PhD students, not professors!\n",
    "    1. Most professors I know get lots of low-quality cold emails every day, so many of them just ignore. But PhD students are less famous so they'll be happy that someone is interested in their work.\n",
    "1. Keep it short. If they can't read it in 10 seconds, it's too long!\n",
    "1. Share your URL. That shows that you actually have interest in the topic.\n",
    "1. Ask for a 30-min chat (not 1 hour). Again, people are busy!\n",
    "1. If they agree to meet, don't ask to join their lab right away. Talk to them about their work, then at the end, say something like, \"Thanks again for taking the time to meet with me! This work fits really well with my interests, so I was wondering whether there might be opportunities to work with you as part of your research group.\"\n",
    "1. If they say yes, great! If they say no, ask them for other people they know who might also be a good fit."
   ]
  },
  {
   "cell_type": "markdown",
   "id": "22d36d1d",
   "metadata": {
    "slideshow": {
     "slide_type": "slide"
    }
   },
   "source": [
    "### Shifting your mentality\n",
    "\n",
    "- What you want to avoid:\n",
    "    - \"Please give me a research position, I'll do anything.\"\n",
    "    - Even though this might be truly how you feel!\n",
    "- What you want to think instead:\n",
    "    - I'm a rising professional with lots of highly valuable skills.\n",
    "    - I also have specific interests.\n",
    "    - I'm looking for the right position that aligns with my interests so that I can contribute in a productive and meaningful way."
   ]
  },
  {
   "cell_type": "markdown",
   "id": "ec1d92ab",
   "metadata": {
    "slideshow": {
     "slide_type": "slide"
    }
   },
   "source": [
    "## Final Exam Review\n",
    "\n",
    "Okay, enough with the armchair advice, let's review for the final!"
   ]
  },
  {
   "cell_type": "markdown",
   "id": "1fc9322d",
   "metadata": {
    "slideshow": {
     "slide_type": "slide"
    }
   },
   "source": [
    "### Course Topics\n",
    "\n",
    "- Working with pandas\n",
    "- Exploring and cleaning data\n",
    "- Hypothesis and permutation testing\n",
    "- Missingness and imputation\n",
    "- HTTP and HTML\n",
    "- Regular expressions\n",
    "- Text features\n",
    "- Linear regression\n",
    "- Feature engineering\n",
    "- Generalization and cross-validation\n",
    "- Decision trees\n",
    "- Classifier evaluation and fairness"
   ]
  },
  {
   "cell_type": "markdown",
   "id": "36787471",
   "metadata": {},
   "source": [
    "## Imputation\n",
    "\n",
    "```\n",
    "2, 100, 100, 2, 50, NA, NA\n",
    "```"
   ]
  },
  {
   "cell_type": "markdown",
   "id": "9ef17340",
   "metadata": {},
   "source": [
    "## Hypothesis Testing\n",
    "\n",
    "H0: A and B have the same distribution\n",
    "H1: A and B are not the same distribution (two-sided)\n",
    "    mean(A) > mean(B)                     (one-sided)\n",
    "    \n",
    "B: know the distribution? then use multinomial\n",
    "    - you know your population has a 50/50 split between M/F\n",
    "    - you know your population has distribution of ethnicities\n",
    "    - you know your population has a uniform distribution\n",
    "   don't know the distribution, but want to compare to A? then use permutation test.\n",
    "    - you want to compare baby weights for smoking mothers and non-smoking mothers\n",
    "\n",
    "difference in means\n",
    "abs difference in means\n",
    "TVD\n",
    "K-S\n",
    "...\n",
    "\n",
    "Numeric distribution (histogram):\n",
    "- difference in means      (one-sided)\n",
    "- abs difference in means  (two-sided)\n",
    "- K-S                      (two-sided, the shape, not diff in means)\n",
    "\n",
    "Categorical distribution (bar plot):\n",
    "- TVD (two-sided)\n",
    "- Special case: if two categories, then abs diff in means can also work"
   ]
  },
  {
   "cell_type": "markdown",
   "id": "c3ea89e1",
   "metadata": {
    "slideshow": {
     "slide_type": "slide"
    }
   },
   "source": [
    "## Evaluation / Fairness"
   ]
  },
  {
   "cell_type": "markdown",
   "id": "88352d70",
   "metadata": {},
   "source": [
    "Precision + recall, you should be able to compute\n",
    "- given confusion matrix, is precision > recall?\n",
    "\n",
    "Draw the precision-recall curve given:\n",
    "\n",
    "predicted probabilities | observed labels\n",
    "--- | ---\n",
    "0.2                     | 0\n",
    "0.7                     | 1\n",
    "0.3                     | 1\n",
    "0.4                     | 0"
   ]
  },
  {
   "cell_type": "markdown",
   "id": "2034df3b",
   "metadata": {},
   "source": [
    "0, 1, 0, 0\n",
    "\n",
    "precision = 1\n",
    "recall = 1/2"
   ]
  },
  {
   "cell_type": "markdown",
   "id": "fa4d6b7b",
   "metadata": {},
   "source": [
    "0.35"
   ]
  },
  {
   "cell_type": "code",
   "execution_count": null,
   "id": "5a4e5808",
   "metadata": {},
   "outputs": [],
   "source": []
  },
  {
   "cell_type": "code",
   "execution_count": null,
   "id": "7a04a1e3",
   "metadata": {},
   "outputs": [],
   "source": []
  },
  {
   "cell_type": "markdown",
   "id": "d22ad78e",
   "metadata": {
    "slideshow": {
     "slide_type": "slide"
    }
   },
   "source": [
    "## Parting Thoughts"
   ]
  },
  {
   "cell_type": "markdown",
   "id": "b76450a5",
   "metadata": {
    "slideshow": {
     "slide_type": "slide"
    }
   },
   "source": [
    "<center><img src=\"imgs/ds-lifecycle.svg\" width=\"40%\"></center>"
   ]
  },
  {
   "cell_type": "markdown",
   "id": "17ac6622",
   "metadata": {
    "slideshow": {
     "slide_type": "slide"
    }
   },
   "source": [
    "### Course goals ✅\n",
    "\n",
    "In this course, you...\n",
    "\n",
    "* **Practiced** translating potentially vague questions into quantitative questions about measurable observations.\n",
    "* **Learned** to reason about 'black-box' processes (e.g. complicated models).\n",
    "* **Understood** computational and statistical implications of working with data.\n",
    "* **Learned** to use real data tools (e.g. love the documentation!).\n",
    "* **Got** a taste of the \"life of a data scientist\"."
   ]
  },
  {
   "cell_type": "markdown",
   "id": "55659387",
   "metadata": {
    "slideshow": {
     "slide_type": "slide"
    }
   },
   "source": [
    "### Course outcomes ✅\n",
    "\n",
    "Now, you...\n",
    "\n",
    "* Are **prepared** for internships and data science \"take home\" interviews!\n",
    "* Are **ready** to create your own portfolio of personal projects.\n",
    "* Have the **background** and **maturity** to succeed in the upper-division."
   ]
  },
  {
   "cell_type": "markdown",
   "id": "cdda5913",
   "metadata": {
    "slideshow": {
     "slide_type": "slide"
    }
   },
   "source": [
    "### Topics covered ✅\n",
    "\n",
    "We learnt a lot this quarter.\n",
    "\n",
    "- Week 1: From BabyPandas to Pandas\n",
    "- Week 2: DataFrames\n",
    "- Week 3: Messy Data, Hypothesis Testing\n",
    "- Week 4: Missing Values and Imputation\n",
    "- Week 5: HTTP, **Midterm Exam**\n",
    "- Week 6: Web Scraping, Regex\n",
    "- Week 7: Text Features, Regression\n",
    "- Week 8: Feature Engineering\n",
    "- Week 9: Generalization, CV, Decision Trees\n",
    "- Week 10: Random Forests, Classifier Evaluation"
   ]
  },
  {
   "cell_type": "markdown",
   "id": "03c5af02",
   "metadata": {
    "slideshow": {
     "slide_type": "slide"
    }
   },
   "source": [
    "### Thank you!\n",
    "\n",
    "- This course would not have been possible without our 11 tutors and 1 TA: Praveen Nair, Gabriel Cha, Aritra Das, Mizuho Fukuda, Jasmine Lo, Ylesia Wu, Guoxuan (Jason) Xu, Sunan Xu, Andrew Yang, Diego Zavalza, Luran (Lauren) Zhang, and Qirui (Sara) Zheng.\n",
    "\n",
    "- Don't be a stranger – our contact information is at [dsc80.com/staff](https://dsc80.com/staff)!\n",
    "\n",
    "    - This quarter's course website will remain online permanently at [dsc-courses.github.io](https://dsc-courses.github.io).\n",
    "\n",
    "- **Apply to be a tutor in the future!** [Learn more here](https://datascience.ucsd.edu/academics/undergraduate/dsc-tutors/)."
   ]
  },
  {
   "cell_type": "markdown",
   "id": "bee4f01e",
   "metadata": {
    "slideshow": {
     "slide_type": "slide"
    }
   },
   "source": [
    "<center><h3>Good luck on the Final Exam, and enjoy your summer break! 🎉</h3></center>"
   ]
  },
  {
   "cell_type": "code",
   "execution_count": null,
   "id": "04f05be5",
   "metadata": {},
   "outputs": [],
   "source": []
  }
 ],
 "metadata": {
  
  "kernelspec": {
   "display_name": "Python 3 (ipykernel)",
   "language": "python",
   "name": "python3"
  },
  "language_info": {
   "codemirror_mode": {
    "name": "ipython",
    "version": 3
   },
   "file_extension": ".py",
   "mimetype": "text/x-python",
   "name": "python",
   "nbconvert_exporter": "python",
   "pygments_lexer": "ipython3",
   "version": "3.8.18"
  },
  "livereveal": {
   "scroll": true
  },
  "rise": {
   "transition": "none"
  }
 },
 "nbformat": 4,
 "nbformat_minor": 5
}
