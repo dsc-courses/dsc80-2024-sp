{
 "cells": [
  {
   "cell_type": "code",
   "execution_count": 1,
   "id": "8c8a44b8",
   "metadata": {
    "slideshow": {
     "slide_type": "skip"
    }
   },
   "outputs": [],
   "source": [
    "from dsc80_utils import *"
   ]
  },
  {
   "cell_type": "markdown",
   "id": "ce9e66d9",
   "metadata": {
    "slideshow": {
     "slide_type": "slide"
    }
   },
   "source": [
    "# Lecture 6 – Hypothesis Testing\n",
    "\n",
    "## DSC 80, Spring 2024\n",
    "\n",
    "In case you need a review from DSC 10, I've made a <b><a href=\"https://dsc-courses.github.io/dsc80-2024-wi/resources/lectures/lec06/pre-lec06.html\"><span style=\"color:#7b40c7\">Pre-Lecture Review</span></a></span></b> for this lecture."
   ]
  },
  {
   "cell_type": "markdown",
   "id": "22824200",
   "metadata": {
    "slideshow": {
     "slide_type": "slide"
    }
   },
   "source": [
    "### Announcements 📣\n",
    "\n",
    "- Project 1 is due **tomorrow, April 19th**.\n",
    "- Lab 3 is due on **Wed, Apr 24th**.\n",
    "- DSC undergraduate town hall is **Monday, Apr 22 1-3pm** in the HDSI 1st floor MPR.\n",
    "    - Q&A with faculty about undergrad program + mixer with faculty afterwards.\n",
    "    - Cookies and snacks provided!"
   ]
  },
  {
   "cell_type": "markdown",
   "id": "bd851d5b",
   "metadata": {
    "slideshow": {
     "slide_type": "slide"
    }
   },
   "source": [
    "### Agenda 📆\n",
    "\n",
    "- Data scope.\n",
    "- Overview of hypothesis testing.\n",
    "- Example: Total variation distance.\n",
    "- Permutation testing.\n",
    "    - Example: Birth weight and smoking 🚬.\n",
    "    - Example (that you'll read on your own): Permutation testing meets TVD."
   ]
  },
  {
   "cell_type": "markdown",
   "id": "30f49ab1",
   "metadata": {
    "slideshow": {
     "slide_type": "slide"
    }
   },
   "source": [
    "### Why are we learning hypothesis testing again?\n",
    "\n",
    "You may say,\n",
    "\n",
    "> Didn't we already learn this in DSC 10?\n",
    "\n",
    "Yes, but:\n",
    "\n",
    "- It's an important concept, but one that's confusing to understand the first time you learn about it.\n",
    "\n",
    "- In addition, in order to properly handle missing values (next lecture), we need to learn how to identify different **missingness mechanisms**. Doing so requires performing a hypothesis test."
   ]
  },
  {
   "cell_type": "markdown",
   "id": "ad0f2ca4",
   "metadata": {
    "slideshow": {
     "slide_type": "slide"
    }
   },
   "source": [
    "## Data scope"
   ]
  },
  {
   "cell_type": "markdown",
   "id": "d235f1f6",
   "metadata": {
    "slideshow": {
     "slide_type": "slide"
    }
   },
   "source": [
    "### Where are we in the data science lifecycle?\n",
    "\n",
    "<center><img src=\"imgs/ds-lifecycle.svg\" width=\"50%\" /></center>\n",
    "\n",
    "Hypothesis testing is a tool for helping us **understand the world (some population)**, given our **understanding of the data (some sample)**."
   ]
  },
  {
   "cell_type": "markdown",
   "id": "a0a854bc",
   "metadata": {
    "slideshow": {
     "slide_type": "slide"
    }
   },
   "source": [
    "### Data scope\n",
    "\n",
    "- **Statistical inference**: The practice of drawing conclusions about a population, given a sample.\n",
    "\n",
    "- **Target population**: All elements of the population you ultimately want to draw conclusions about.\n",
    "\n",
    "- **Access frame**: All elements that are accessible for you for measurement and observation.\n",
    "\n",
    "- **Sample**: The subset of the access frame that you actually measured / observed."
   ]
  },
  {
   "cell_type": "markdown",
   "id": "546d5819",
   "metadata": {
    "slideshow": {
     "slide_type": "slide"
    }
   },
   "source": [
    "### Example: Wikipedia awards\n",
    "\n",
    "A 2012 paper asked:\n",
    "\n",
    "> If we give awards to Wikipedia contributors, will they contribute more?\n",
    "\n",
    "To test this question, they took the top 1% of all Wikipedia contributors, excluded those who already received an award, and then took a random sample of 200 contributors.\n",
    "\n",
    "<center><img src=\"imgs/WikipediaConstruct.png\" width=\"55%\" /></center>"
   ]
  },
  {
   "cell_type": "markdown",
   "id": "ee77cfcb",
   "metadata": {
    "slideshow": {
     "slide_type": "slide"
    }
   },
   "source": [
    "### Example: Who will win the election?\n",
    "\n",
    "In the 2016 US Presidental Election, most pollsters predicted Clinton to win over Trump, even though Trump ultimately won.\n",
    "\n",
    "To poll, they randomly selected **potential** voters and asked them a question over the phone.\n",
    "\n",
    "<center><img src=\"imgs/ElectionPollConstruct.png\" width=\"55%\" /></center>"
   ]
  },
  {
   "cell_type": "markdown",
   "id": "e4ec5b4b",
   "metadata": {
    "slideshow": {
     "slide_type": "slide"
    }
   },
   "source": [
    "### 🔑 Key Idea: Random samples look like the access frame they were sampled from!\n",
    "\n",
    "- This enables statistical inference!\n",
    "\n",
    "- But keep in mind, random samples look like their access frame which can be different than the population itself."
   ]
  },
  {
   "cell_type": "markdown",
   "id": "68ae59b6",
   "metadata": {
    "slideshow": {
     "slide_type": "slide"
    }
   },
   "source": [
    "### Sampling in practice\n",
    "\n",
    "In DSC 10, you used a few key functions/methods to draw samples from populations.\n",
    "\n",
    "- To draw samples from a known sequence (e.g. array or Series), you used `np.random.choice`."
   ]
  },
  {
   "cell_type": "code",
   "execution_count": null,
   "id": "ab5bb9d6",
   "metadata": {},
   "outputs": [],
   "source": [
    "names = np.load(Path('data') / 'names.npy', allow_pickle=True)\n",
    "\n",
    "# By default, the sampling is done WITH replacement.\n",
    "np.random.choice(names, 10)"
   ]
  },
  {
   "cell_type": "code",
   "execution_count": null,
   "id": "fd279a79",
   "metadata": {
    "scrolled": true,
    "slideshow": {
     "slide_type": ""
    }
   },
   "outputs": [],
   "source": [
    "# To sample WITHOUT replacement, set replace=False.\n",
    "# This is known as \"simple random sampling.\"\n",
    "np.random.choice(names, 10, replace=False)"
   ]
  },
  {
   "cell_type": "markdown",
   "id": "3fceb7b3",
   "metadata": {
    "slideshow": {
     "slide_type": "fragment"
    }
   },
   "source": [
    "- The DataFrame `.sample` method also allowed you to draw samples from a known sequence."
   ]
  },
  {
   "cell_type": "code",
   "execution_count": null,
   "id": "60fe0511",
   "metadata": {},
   "outputs": [],
   "source": [
    "# Samples WITHOUT replacement by default (the opposite of np.random.choice).\n",
    "pd.DataFrame(names, columns=['name']).sample(10)"
   ]
  },
  {
   "cell_type": "markdown",
   "id": "949ea276",
   "metadata": {
    "slideshow": {
     "slide_type": "fragment"
    }
   },
   "source": [
    "- To sample from a **categorical** distribution, you used `np.random.multinomial`. Note that in the cell below, we don't see `array([50, 50])` every time, and that's due to randomness!"
   ]
  },
  {
   "cell_type": "code",
   "execution_count": null,
   "id": "2bd3dadd",
   "metadata": {},
   "outputs": [],
   "source": [
    "# Draws 100 elements from a population in which 50% are group 0 and 50% are group 1.\n",
    "# This sampling is done WITH replacement.\n",
    "# In other words, each sampled element has a 50% chance of being group 0 and a 50% chance of being group 1.\n",
    "np.random.multinomial(100, [0.5, 0.5])"
   ]
  },
  {
   "cell_type": "markdown",
   "id": "45c721bb",
   "metadata": {
    "slideshow": {
     "slide_type": "slide"
    }
   },
   "source": [
    "## Overview of hypothesis testing"
   ]
  },
  {
   "cell_type": "markdown",
   "id": "a062104b",
   "metadata": {
    "slideshow": {
     "slide_type": "slide"
    }
   },
   "source": [
    "### What problem does hypothesis testing solve?\n",
    "\n",
    "Suppose we've performed an experiment, or identified something interesting in our data.\n",
    "\n",
    "- Say we've created a new vaccine.\n",
    "\n",
    "- To assess its efficiency, we give one group the vaccine, and another a [placebo](https://en.wikipedia.org/wiki/Placebo). \n",
    "\n",
    "- We notice that the flu rate among those who received the vaccine is lower than among those who received the placebo (i.e. didn't receive the vaccine).\n",
    "\n",
    "- One possibility: the vaccine doesn't actually do anything, and by chance, those with the vaccine happened to have a lower flu rate.\n",
    "\n",
    "- Another possibility: receiving the vaccine made a difference – the flu rate among those who received the vaccine is lower than we'd expect due to random chance.\n",
    "\n",
    "- **Hypothesis testing allows us to determine whether an observation is \"significant.\"**"
   ]
  },
  {
   "cell_type": "markdown",
   "id": "150a8d4e",
   "metadata": {
    "slideshow": {
     "slide_type": "slide"
    }
   },
   "source": [
    "### Why hypothesis testing is difficult to learn\n",
    "\n",
    "- It's like \"[proof by contradiction](https://brilliant.org/wiki/contradiction/#:~:text=Proof%20by%20contradiction%20(also%20known,the%20opposite%20must%20be%20true.).\"\n",
    "\n",
    "- If I want to show that my vaccine works, I consider a world where it doesn't (null hypothesis).\n",
    "\n",
    "- Then, I show that under the null hypothesis my data would be very unlikely.\n",
    "\n",
    "- Why go through these mental hurdles? Showing something is not true is usually easier than showing something is true!"
   ]
  },
  {
   "cell_type": "markdown",
   "id": "df724f86",
   "metadata": {
    "slideshow": {
     "slide_type": "slide"
    }
   },
   "source": [
    "### The hypothesis testing \"recipe\"\n",
    "\n",
    "Faced with a question about the data raised by an observation...\n",
    "\n",
    "1. Decide on null and alternate hypotheses.\n",
    "    - The null hypothesis should be a well-defined probability model that reflects the baseline you want to compare against.\n",
    "    - The alternative hypothesis should be the \"alternate reality\" that you suspect may be true.\n",
    "\n",
    "2. Decide on a **test statistic**, such that a large observed statistic would point to one hypothesis and a small observed statistic would point to the other.\n",
    "\n",
    "3. Compute an empirical distribution of the test statistic under the null by drawing samples from the null hypothesis' probability model.\n",
    "\n",
    "4. Assess whether the observed test statistic is consistent with the empirical distribution of the test statistic by computing a **p-value**."
   ]
  },
  {
   "cell_type": "markdown",
   "id": "3ebb4b13",
   "metadata": {
    "slideshow": {
     "slide_type": "slide"
    }
   },
   "source": [
    "<center>\n",
    "<img src=\"imgs/hyp-test-observed.svg\" width=\"60%\"/>\n",
    "<img src=\"imgs/hyp-test-sampling-dist.svg\" width=\"60%\" />\n",
    "</center>"
   ]
  },
  {
   "cell_type": "markdown",
   "id": "9104a415",
   "metadata": {
    "slideshow": {
     "slide_type": "slide"
    }
   },
   "source": [
    "<div class=\"alert alert-warning\">\n",
    "    <h3>Question 🤔 (Answer at <a class=\"alert-link\" href=\"http://q.dsc80.com\">q.dsc80.com)</h3>\n",
    "        \n",
    "Complete [**Problem 10 from the Spring 2023 DSC 10 Final Exam**](https://practice.dsc10.com/sp23-final/index.html#problem-10) with a neighbor. Submit your answers to [q.dsc80.com](http://q.dsc80.com), then reveal the answers.\n",
    "</div>\n"
   ]
  },
  {
   "cell_type": "markdown",
   "id": "008ac358",
   "metadata": {
    "slideshow": {
     "slide_type": "slide"
    }
   },
   "source": [
    "## Example: Total variation distance"
   ]
  },
  {
   "cell_type": "markdown",
   "id": "882e7f67",
   "metadata": {
    "slideshow": {
     "slide_type": "slide"
    }
   },
   "source": [
    "### Ethnic distribution of California vs. UCSD\n",
    "\n",
    "The DataFrame below contains the ethnic breakdown of the state as a whole ([source](https://www.ppic.org/publication/californias-population/)) and UCSD as of 2016 ([source](https://ir.ucsd.edu/_files/stats-data/enrollment/ugethnic.pdf))."
   ]
  },
  {
   "cell_type": "code",
   "execution_count": null,
   "id": "26a84528",
   "metadata": {},
   "outputs": [],
   "source": [
    "eth = pd.DataFrame(\n",
    "    [['Asian', 0.15, 0.51],\n",
    "     ['Black', 0.05, 0.02],\n",
    "     ['Latino', 0.39, 0.16],\n",
    "     ['White', 0.35, 0.2],\n",
    "     ['Other', 0.06, 0.11]],\n",
    "    columns=['Ethnicity', 'California', 'UCSD']\n",
    ").set_index('Ethnicity')\n",
    "\n",
    "eth"
   ]
  },
  {
   "cell_type": "markdown",
   "id": "c3594e4d",
   "metadata": {
    "slideshow": {
     "slide_type": "fragment"
    }
   },
   "source": [
    "- The two distributions above are clearly different.\n",
    "\n",
    "- One possibility: UCSD students **do** look like a random sample of California residents, and the distributions above look different purely due to random chance.\n",
    "\n",
    "- Another possibility: UCSD students **don't** look like a random sample of California residents, because the distributions above look too different."
   ]
  },
  {
   "cell_type": "markdown",
   "id": "5eac28c2",
   "metadata": {
    "slideshow": {
     "slide_type": "slide"
    }
   },
   "source": [
    "### Is the difference between the two distributions significant?\n",
    "\n",
    "Let's establish our hypotheses.\n",
    "- **Null Hypothesis**: UCSD students **were** selected at random from the population of California residents.\n",
    "- **Alternative Hypothesis**: UCSD students **were not** selected at random from the population of California residents.\n",
    "- **Observation**: Ethnic distribution of UCSD students.\n",
    "- **Test Statistic**: We need a way of quantifying **how different** two categorical distributions are."
   ]
  },
  {
   "cell_type": "code",
   "execution_count": null,
   "id": "58e89c7c",
   "metadata": {
    "slideshow": {
     "slide_type": "slide"
    }
   },
   "outputs": [],
   "source": [
    "eth.plot(kind='barh', title='Ethnic Distribution of California and UCSD', barmode='group')"
   ]
  },
  {
   "cell_type": "markdown",
   "id": "d105dddf",
   "metadata": {
    "slideshow": {
     "slide_type": "fragment"
    }
   },
   "source": [
    "How can we summarize the difference, or **distance**, between these two distributions using just a single number?"
   ]
  },
  {
   "cell_type": "markdown",
   "id": "9bda36d4",
   "metadata": {
    "slideshow": {
     "slide_type": "slide"
    }
   },
   "source": [
    "### Total variation distance\n",
    "\n",
    "The total variation distance (TVD) is a test statistic that describes the **distance between two categorical distributions**.\n",
    "\n",
    "If $A = [a_1, a_2, ..., a_k]$ and $B = [b_1, b_2, ..., b_k]$ are both categorical distributions, then the TVD between $A$ and $B$ is\n",
    "\n",
    "$$\\text{TVD}(A, B) = \\frac{1}{2} \\sum_{i = 1}^k \\big|a_i - b_i\\big|$$"
   ]
  },
  {
   "cell_type": "markdown",
   "id": "fc8519d8",
   "metadata": {
    "slideshow": {
     "slide_type": "fragment"
    }
   },
   "source": [
    "Let's compute the TVD between UCSD's ethnic distribution and California's ethnic distribution. We _could_ define a function to do this (and you can use this in assignments):\n",
    "\n",
    "```py\n",
    "def tvd(dist1, dist2):\n",
    "    return np.abs(dist1 - dist2).sum() / 2\n",
    "```\n",
    "\n",
    "But let's try and work on the `eth` DataFrame directly, using the `diff` method."
   ]
  },
  {
   "cell_type": "code",
   "execution_count": null,
   "id": "4c42e61e",
   "metadata": {},
   "outputs": [],
   "source": [
    "# The diff method finds the differences of consecutive elements in a Series.\n",
    "pd.Series([4, 5, -2]).diff()"
   ]
  },
  {
   "cell_type": "code",
   "execution_count": null,
   "id": "43bb1a7d",
   "metadata": {},
   "outputs": [],
   "source": [
    "observed_tvd = eth.diff(axis=1).abs().sum().iloc[1] / 2\n",
    "observed_tvd"
   ]
  },
  {
   "cell_type": "markdown",
   "id": "ea6dbd25",
   "metadata": {
    "slideshow": {
     "slide_type": "fragment"
    }
   },
   "source": [
    "The issue is we don't know whether this is a large value or a small value – we don't know where it lies in the **distribution of TVDs under the null**."
   ]
  },
  {
   "cell_type": "markdown",
   "id": "abb823cf",
   "metadata": {
    "slideshow": {
     "slide_type": "slide"
    }
   },
   "source": [
    "### The plan\n",
    "\n",
    "To conduct our hypothesis test, we will:\n",
    "\n",
    "- Repeatedly generate samples of size 30,000 (the number of UCSD students) from the ethnic distribution of all of California.\n",
    "\n",
    "- Each time, compute the TVD between the simulated distribution and California's distribution.\n",
    "\n",
    "- **This will generate an empirical distribution of TVDs, under the null.**\n",
    "\n",
    "- Finally, determine whether the observed TVD (0.41) is consistent with the empirical distribution of TVDs."
   ]
  },
  {
   "cell_type": "markdown",
   "id": "02a25c76",
   "metadata": {
    "slideshow": {
     "slide_type": "slide"
    }
   },
   "source": [
    "### Generating one random sample\n",
    "\n",
    "Again, to sample from a categorical distribution, we use `np.random.multinomial`.\n",
    "\n",
    "**Important**: We must sample from the \"population\" distribution here, which is the ethnic distribution of everyone in California."
   ]
  },
  {
   "cell_type": "code",
   "execution_count": null,
   "id": "ee2e16bc",
   "metadata": {},
   "outputs": [],
   "source": [
    "# Number of students at UCSD in this example.\n",
    "N_STUDENTS = 30_000"
   ]
  },
  {
   "cell_type": "code",
   "execution_count": null,
   "id": "7dc3b337",
   "metadata": {},
   "outputs": [],
   "source": [
    "eth['California']"
   ]
  },
  {
   "cell_type": "code",
   "execution_count": null,
   "id": "7333044a",
   "metadata": {},
   "outputs": [],
   "source": [
    "np.random.multinomial(N_STUDENTS, eth['California'])"
   ]
  },
  {
   "cell_type": "code",
   "execution_count": null,
   "id": "83c91ff8",
   "metadata": {},
   "outputs": [],
   "source": [
    "np.random.multinomial(N_STUDENTS, eth['California']) / N_STUDENTS"
   ]
  },
  {
   "cell_type": "markdown",
   "id": "52314ef9",
   "metadata": {
    "slideshow": {
     "slide_type": "slide"
    }
   },
   "source": [
    "### Generating many random samples and computing TVDs, without a `for`-loop\n",
    "\n",
    "We _could_ write a `for`-loop to repeat the process on the previous slide repeatedly (and you _can_ in labs and projects). However, the [Pre-Lecture Review](https://dsc-courses.github.io/dsc80-2024-wi/resources/lectures/lec06/pre-lec06.html) told us about the `size` argument in `np.random.multinomial`, so let's use that here."
   ]
  },
  {
   "cell_type": "code",
   "execution_count": null,
   "id": "826f1cdd",
   "metadata": {},
   "outputs": [],
   "source": [
    "eth_draws = np.random.multinomial(N_STUDENTS, eth['California'], size=100_000) / N_STUDENTS\n",
    "eth_draws"
   ]
  },
  {
   "cell_type": "code",
   "execution_count": null,
   "id": "96ad4e71",
   "metadata": {},
   "outputs": [],
   "source": [
    "eth_draws.shape"
   ]
  },
  {
   "cell_type": "markdown",
   "id": "d4ef3c6a",
   "metadata": {},
   "source": [
    "Notice that each row of `eth_draws` sums to 1, because each row is a simulated categorical distribution."
   ]
  },
  {
   "cell_type": "code",
   "execution_count": null,
   "id": "ef49bada",
   "metadata": {},
   "outputs": [],
   "source": [
    "# The values here appear rounded.\n",
    "tvds = np.abs(eth_draws - eth['California'].to_numpy()).sum(axis=1) / 2\n",
    "tvds"
   ]
  },
  {
   "cell_type": "markdown",
   "id": "08fb8623",
   "metadata": {
    "slideshow": {
     "slide_type": "slide"
    }
   },
   "source": [
    "### Visualizing the empirical distribution of the test statistic"
   ]
  },
  {
   "cell_type": "code",
   "execution_count": null,
   "id": "eac03c72",
   "metadata": {},
   "outputs": [],
   "source": [
    "observed_tvd"
   ]
  },
  {
   "cell_type": "code",
   "execution_count": null,
   "id": "cef4235b",
   "metadata": {
    "scrolled": false
   },
   "outputs": [],
   "source": [
    "fig = px.histogram(pd.DataFrame(tvds), x=0, nbins=20, histnorm='probability', \n",
    "                   title='Empirical Distribution of the TVD')\n",
    "fig"
   ]
  },
  {
   "cell_type": "code",
   "execution_count": null,
   "id": "c9c37730",
   "metadata": {},
   "outputs": [],
   "source": [
    "(np.array(tvds) >= observed_tvd).mean()"
   ]
  },
  {
   "cell_type": "markdown",
   "id": "3033d925",
   "metadata": {
    "slideshow": {
     "slide_type": "fragment"
    }
   },
   "source": [
    "No, there's not a mistake in our code!"
   ]
  },
  {
   "cell_type": "markdown",
   "id": "e0700b23",
   "metadata": {
    "slideshow": {
     "slide_type": "slide"
    }
   },
   "source": [
    "### Conclusion\n",
    "\n",
    "- The chance that the observed TVD came from the distribution of TVDs under the null is essentially 0.\n",
    "- This matches our intuition from the start – the two distributions looked very different to begin with. But now we're quite sure the difference can't be explained solely due to sampling variation."
   ]
  },
  {
   "cell_type": "markdown",
   "id": "cb8d3175",
   "metadata": {
    "slideshow": {
     "slide_type": "slide"
    }
   },
   "source": [
    "<center>\n",
    "    <img src=\"imgs/hyp-test-observed.svg\" width=\"60%\" />\n",
    "    <img src=\"imgs/hyp-test-tvd.svg\" width=\"60%\" />\n",
    "</center"
   ]
  },
  {
   "cell_type": "markdown",
   "id": "672005fb",
   "metadata": {
    "slideshow": {
     "slide_type": "slide"
    }
   },
   "source": [
    "### Summary of the method\n",
    "\n",
    "To assess whether an \"observed sample\" was drawn randomly from a known categorical distribution:\n",
    "* Use the TVD as the test statistic because it measures the distance between two categorical distributions.\n",
    "* Sample at random from the population. Compute the TVD between each random sample and the known distribution to get an idea for what reasonable deviations from the eligible pool look like. Repeat this process many, many times.\n",
    "* Compare:\n",
    "    - the empirical distribution of TVDs, with\n",
    "    - the observed TVD from the sample."
   ]
  },
  {
   "cell_type": "markdown",
   "id": "ed872a9b",
   "metadata": {
    "slideshow": {
     "slide_type": "slide"
    }
   },
   "source": [
    "### Aside\n",
    "\n",
    "- It was probably obvious that the difference is significant even before running a hypothesis test.\n",
    "\n",
    "- Why? There are 30,000 students. Such a difference in proportion is unlikely to be due to random chance – there's something more systematic at play.\n",
    "\n",
    "- But what if `N_STUDENTS = 300`, `N_STUDENTS = 30`, or `N_STUDENTS=3`?"
   ]
  },
  {
   "cell_type": "code",
   "execution_count": null,
   "id": "5bd1b504",
   "metadata": {},
   "outputs": [],
   "source": [
    "eth"
   ]
  },
  {
   "cell_type": "code",
   "execution_count": null,
   "id": "35c0ee0b",
   "metadata": {},
   "outputs": [],
   "source": [
    "def ethnicity_test(N_STUDENTS):\n",
    "    eth_draws = np.random.multinomial(N_STUDENTS, eth['California'], size=100_000) / N_STUDENTS\n",
    "    tvds = np.sum(np.abs(eth_draws - eth['California'].to_numpy()), axis=1) / 2\n",
    "    return (np.array(tvds) >= observed_tvd).mean()"
   ]
  },
  {
   "cell_type": "code",
   "execution_count": null,
   "id": "79f590eb",
   "metadata": {},
   "outputs": [],
   "source": [
    "for i in range(1, 9):\n",
    "    N_STUDENTS = 2 ** i\n",
    "    print(f'With {N_STUDENTS} students, the p-value is {ethnicity_test(N_STUDENTS)}.')"
   ]
  },
  {
   "cell_type": "markdown",
   "id": "33412fc1",
   "metadata": {
    "slideshow": {
     "slide_type": "slide"
    }
   },
   "source": [
    "<div class=\"alert alert-warning\">\n",
    "    <h3>Question 🤔 (Answer at <a href=\"https://docs.google.com/forms/d/e/1FAIpQLScWbVZv9hBv-wX-ItKHUVRnkPMMtfJZVfErKE9GS7_8dFcRBQ/viewform\">q.dsc80.com)</h3>\n",
    "</div>\n",
    "    \n",
    "What questions do you have?"
   ]
  },
  {
   "cell_type": "markdown",
   "id": "225299ad",
   "metadata": {
    "slideshow": {
     "slide_type": "slide"
    }
   },
   "source": [
    "## Permutation testing"
   ]
  },
  {
   "cell_type": "markdown",
   "id": "851060ce",
   "metadata": {
    "slideshow": {
     "slide_type": "slide"
    }
   },
   "source": [
    "### Hypothesis testing vs. permutation testing\n",
    "\n",
    "- So far, we've used hypothesis tests to answer questions of the form:\n",
    "\n",
    "> I know the population distribution, and I have one sample. Is this sample a likely draw from the population?\n",
    "\n",
    "- Next, we want to consider questions of the form:\n",
    "\n",
    "> I have two samples, but no information about any population distributions. Do these samples look like they were drawn from different populations? That is, do these two samples look \"different\"?"
   ]
  },
  {
   "cell_type": "markdown",
   "id": "d5c5b9e8",
   "metadata": {
    "slideshow": {
     "slide_type": "slide"
    }
   },
   "source": [
    "### Hypothesis testing vs. permutation testing\n",
    "\n",
    "<br>\n",
    "\n",
    "<center>\n",
    "<img src=\"imgs/hyp-test-observed.svg\" width=\"60%\"/>\n",
    "<img src=\"imgs/hyp-test-sampling-dist.svg\" width=\"60%\"/>\n",
    "</center>\n",
    "\n",
    "This framework requires us to be able to draw samples from the baseline population – but what if we don't know that population?"
   ]
  },
  {
   "cell_type": "markdown",
   "id": "30b1e1c5",
   "metadata": {
    "slideshow": {
     "slide_type": "slide"
    }
   },
   "source": [
    "### Example: Birth weight and smoking 🚬\n",
    "\n",
    "For familiarity, we'll start with an example from DSC 10. This means we'll move quickly!\n",
    "\n",
    "Let's start by loading in the data. Each row corresponds to a mother/baby pair."
   ]
  },
  {
   "cell_type": "code",
   "execution_count": null,
   "id": "6f4282f5",
   "metadata": {
    "slideshow": {
     "slide_type": "-"
    }
   },
   "outputs": [],
   "source": [
    "baby = pd.read_csv(Path('data') / 'babyweights.csv')\n",
    "baby"
   ]
  },
  {
   "cell_type": "markdown",
   "id": "5d33a0c8",
   "metadata": {
    "slideshow": {
     "slide_type": "-"
    }
   },
   "source": [
    "We're only interested in the `'Birth Weight'` and `'Maternal Smoker'` columns."
   ]
  },
  {
   "cell_type": "code",
   "execution_count": null,
   "id": "842515dd",
   "metadata": {
    "slideshow": {
     "slide_type": "-"
    }
   },
   "outputs": [],
   "source": [
    "baby = baby[['Maternal Smoker', 'Birth Weight']]\n",
    "baby.head()"
   ]
  },
  {
   "cell_type": "markdown",
   "id": "a2afff41",
   "metadata": {
    "slideshow": {
     "slide_type": "fragment"
    }
   },
   "source": [
    "Note that there are **two samples**:\n",
    "- Birth weights of smokers' babies (rows where `'Maternal Smoker'` is `True`).\n",
    "- Birth weights of non-smokers' babies (rows where `'Maternal Smoker'` is `False`)."
   ]
  },
  {
   "cell_type": "markdown",
   "id": "07b6bf5d",
   "metadata": {
    "slideshow": {
     "slide_type": "slide"
    }
   },
   "source": [
    "### Exploratory data analysis\n",
    "\n",
    "How many babies are in each group? What is the average birth weight within each group?"
   ]
  },
  {
   "cell_type": "code",
   "execution_count": null,
   "id": "e88e5489",
   "metadata": {},
   "outputs": [],
   "source": [
    "baby.groupby('Maternal Smoker')['Birth Weight'].agg(['mean', 'count'])"
   ]
  },
  {
   "cell_type": "markdown",
   "id": "efd4b635",
   "metadata": {},
   "source": [
    "Note that 16 ounces are in 1 pound, so the above weights are ~7-8 pounds."
   ]
  },
  {
   "cell_type": "markdown",
   "id": "0aa65ce7",
   "metadata": {
    "slideshow": {
     "slide_type": "slide"
    }
   },
   "source": [
    "### Visualizing birth weight distributions\n",
    "\n",
    "Below, we draw the distributions of both sets of birth weights."
   ]
  },
  {
   "cell_type": "code",
   "execution_count": null,
   "id": "74f83e31",
   "metadata": {
    "scrolled": false
   },
   "outputs": [],
   "source": [
    "fig = px.histogram(baby, color='Maternal Smoker', histnorm='probability', marginal='box', \n",
    "                   title=\"Birth Weight by Mother's Smoking Status\", barmode='overlay', opacity=0.7)\n",
    "fig"
   ]
  },
  {
   "cell_type": "markdown",
   "id": "fc728a27",
   "metadata": {
    "slideshow": {
     "slide_type": "fragment"
    }
   },
   "source": [
    "There appears to be a difference, but can it be attributed to random chance?"
   ]
  },
  {
   "cell_type": "markdown",
   "id": "a8faec25",
   "metadata": {
    "slideshow": {
     "slide_type": "slide"
    }
   },
   "source": [
    "### Null hypothesis: birth weights come from the *same* distribution\n",
    "\n",
    "- Our null hypothesis states that \"smoker\" / \"non-smoker\" labels have no relationship to birth weight. \n",
    "- In other words, the \"smoker\" / \"non-smoker\" labels **may well have** been assigned at random.\n",
    "\n",
    "<center><img src='imgs/null-hyp.png' width=60%><br><i>DGP stands for \"data generating process\" – think of this as another word for population.</i></center>"
   ]
  },
  {
   "cell_type": "markdown",
   "id": "3b52fcef",
   "metadata": {
    "slideshow": {
     "slide_type": "slide"
    }
   },
   "source": [
    "### Alternative hypothesis: birth weights come from *different* distributions\n",
    "\n",
    "- Our alternative hypothesis states that the birth weights weights of smokers' babies and non-smokers' babies come from different population distributions.\n",
    "    - That is, they come from different data generating processes.\n",
    "- It also states that smokers' babies weigh significantly less.\n",
    "\n",
    "<center><img src='imgs/alt-hyp.png' width=40%></center>"
   ]
  },
  {
   "cell_type": "markdown",
   "id": "166fd782",
   "metadata": {
    "slideshow": {
     "slide_type": "slide"
    }
   },
   "source": [
    "### Choosing a test statistic\n",
    "\n",
    "We need a test statistic that can measure **how different** two numerical distributions are."
   ]
  },
  {
   "cell_type": "code",
   "execution_count": null,
   "id": "7f3929bd",
   "metadata": {
    "scrolled": false
   },
   "outputs": [],
   "source": [
    "fig = px.histogram(baby, color='Maternal Smoker', histnorm='probability', marginal='box', \n",
    "                   title=\"Birth Weight by Mother's Smoking Status\", barmode='overlay', opacity=0.7)\n",
    "fig"
   ]
  },
  {
   "cell_type": "markdown",
   "id": "4ec18e30",
   "metadata": {
    "slideshow": {
     "slide_type": "fragment"
    }
   },
   "source": [
    "**Easiest solution**: Difference in group means."
   ]
  },
  {
   "cell_type": "markdown",
   "id": "633e4a6b",
   "metadata": {
    "slideshow": {
     "slide_type": "slide"
    }
   },
   "source": [
    "### Difference in group means\n",
    "\n",
    "We'll choose our test statistic to be:\n",
    "\n",
    "$$\\text{mean weight of smokers' babies} - \\text{mean weight of non-smokers' babies}$$\n",
    "\n",
    "We could also compute the non-smokers' mean minus the smokers' mean, too."
   ]
  },
  {
   "cell_type": "code",
   "execution_count": null,
   "id": "4b4e87e2",
   "metadata": {},
   "outputs": [],
   "source": [
    "group_means = baby.groupby('Maternal Smoker')['Birth Weight'].mean()\n",
    "group_means"
   ]
  },
  {
   "cell_type": "markdown",
   "id": "8a703031",
   "metadata": {},
   "source": [
    "Use `loc` with `group_means` to compute the difference in group means."
   ]
  },
  {
   "cell_type": "code",
   "execution_count": null,
   "id": "ad77c4a0",
   "metadata": {},
   "outputs": [],
   "source": [
    "group_means.loc[True] - group_means.loc[False]"
   ]
  },
  {
   "cell_type": "markdown",
   "id": "ca633fad",
   "metadata": {
    "slideshow": {
     "slide_type": "slide"
    }
   },
   "source": [
    "### Hypothesis test setup\n",
    "\n",
    "- **Null Hypothesis**: In the population, birth weights of smokers' babies and non-smokers' babies have the same distribution, and the observed differences in our samples are due to random chance.\n",
    "\n",
    "- **Alternative Hypothesis**: In the population, smokers' babies have lower birth weights than non-smokers' babies, on average. The observed difference in our samples cannot be explained by random chance alone.\n",
    "\n",
    "- **Test Statistic**: Difference in group means.\n",
    "\n",
    "$$\\text{mean weight of smokers' babies} - \\text{mean weight of non-smokers' babies}$$\n",
    "\n",
    "- **Issue**: We don't know what the population distribution actually is – so how do we draw samples from it?\n",
    "    - This is different from the coin flipping, and the California ethnicity examples, because there **the null hypotheses were well-defined probability models**."
   ]
  },
  {
   "cell_type": "markdown",
   "id": "2c642771",
   "metadata": {
    "slideshow": {
     "slide_type": "slide"
    }
   },
   "source": [
    "### Implications of the null hypothesis\n",
    "\n",
    "- Under the null hypothesis, both groups are sampled from the same distribution.\n",
    "- If this is true, then the group label – `'Maternal Smoker'` – has no effect on the birth weight.\n",
    "- In our dataset, we saw **one assignment** of `True` or `False` to each baby."
   ]
  },
  {
   "cell_type": "code",
   "execution_count": null,
   "id": "76b65e0b",
   "metadata": {},
   "outputs": [],
   "source": [
    "baby.head()"
   ]
  },
  {
   "cell_type": "markdown",
   "id": "07b46ba2",
   "metadata": {},
   "source": [
    "- Under the null hypothesis, we were just as likely to see **any other** assignment."
   ]
  },
  {
   "cell_type": "markdown",
   "id": "26f2ebce",
   "metadata": {
    "slideshow": {
     "slide_type": "slide"
    }
   },
   "source": [
    "### Permutation tests\n",
    "\n",
    "- In a **permutation test**, we generate new data by **shuffling group labels**.\n",
    "    - In our current example, this involves randomly assigning **babies to `True` or `False`**, while keeping the same number of `True`s and `False`s as we started with.\n",
    "\n",
    "- On each shuffle, we'll compute our test statistic (difference in group means).\n",
    "\n",
    "- If we shuffle many times and compute our test statistic each time, we will approximate the distribution of the test statistic.\n",
    "\n",
    "- We can them compare our observed statistic to this distribution, as in any other hypothesis test."
   ]
  },
  {
   "cell_type": "markdown",
   "id": "d8286bd7",
   "metadata": {
    "slideshow": {
     "slide_type": "slide"
    }
   },
   "source": [
    "### Shuffling\n",
    "\n",
    "- Our goal, by shuffling, is to randomly assign values in the `'Maternal Smoker'` column to values in the `'Birth Weight'` column.\n",
    "\n",
    "- We can do this by shuffling either column **independently**.\n",
    "\n",
    "- Easiest solution: `np.random.permutation`.\n",
    "    - We could also use `df.sample`, but it's more complicated (and slower)."
   ]
  },
  {
   "cell_type": "code",
   "execution_count": null,
   "id": "e9db8521",
   "metadata": {},
   "outputs": [],
   "source": [
    "np.random.permutation(baby['Birth Weight'])"
   ]
  },
  {
   "cell_type": "code",
   "execution_count": null,
   "id": "a9d461e3",
   "metadata": {
    "slideshow": {
     "slide_type": "slide"
    }
   },
   "outputs": [],
   "source": [
    "with_shuffled = baby.assign(Shuffled_Weights=np.random.permutation(baby['Birth Weight']))\n",
    "with_shuffled.head()"
   ]
  },
  {
   "cell_type": "markdown",
   "id": "9374813b",
   "metadata": {
    "slideshow": {
     "slide_type": ""
    }
   },
   "source": [
    "Now, we have a new sample of smokers' weights, and a new sample of non-smokers' weights!\n",
    "\n",
    "Effectively, we took a random sample of 459 `'Birth Weights'` and assigned them to the smokers' group, and the remaining 715 to the non-smokers' group."
   ]
  },
  {
   "cell_type": "markdown",
   "id": "15cdda05",
   "metadata": {
    "slideshow": {
     "slide_type": "slide"
    }
   },
   "source": [
    "### How close are the means of the shuffled groups?\n",
    "\n",
    "One benefit of shuffling `'Birth Weight'` (instead of `'Maternal Smoker'`) is that grouping by `'Maternal Smoker'` allows us to see all of the following information with a single call to `groupby`."
   ]
  },
  {
   "cell_type": "code",
   "execution_count": null,
   "id": "c4a8bdd0",
   "metadata": {},
   "outputs": [],
   "source": [
    "group_means = with_shuffled.groupby('Maternal Smoker').mean()\n",
    "group_means"
   ]
  },
  {
   "cell_type": "markdown",
   "id": "7f7e555f",
   "metadata": {},
   "source": [
    "Let's visualize both pairs of distributions – what do you notice?"
   ]
  },
  {
   "cell_type": "code",
   "execution_count": null,
   "id": "6bba0019",
   "metadata": {},
   "outputs": [],
   "source": [
    "for x in ['Birth Weight', 'Shuffled_Weights']:\n",
    "    diff = group_means.loc[True, x] - group_means.loc[False, x]\n",
    "    fig = px.histogram(\n",
    "        with_shuffled, x=x, color='Maternal Smoker', histnorm='probability', marginal='box', \n",
    "        title=f\"Using the {x} column <br>(difference in means = {diff:.2f})\",\n",
    "        barmode='overlay', opacity=0.7)\n",
    "    fig.update_layout(margin=dict(t=60))\n",
    "    fig.show()"
   ]
  },
  {
   "cell_type": "markdown",
   "id": "9f27f862",
   "metadata": {
    "slideshow": {
     "slide_type": "slide"
    }
   },
   "source": [
    "### Simulating the empirical distribution of the test statistic\n",
    "\n",
    "- This was just one random shuffle.\n",
    "\n",
    "- The question we are trying to answer is, **how likely is it that a random shuffle results in two samples where the difference in group means (smoker minus non-smoker) is $\\geq$ 9.26?**\n",
    "\n",
    "- To answer this question, we need the distribution of the test statistic. To generate that, we must shuffle many, many times. On each iteration, we must:\n",
    "    1. Shuffle the weights and store them in a DataFrame.\n",
    "    1. Compute the test statistic (difference in group means).\n",
    "    1. Store the result."
   ]
  },
  {
   "cell_type": "code",
   "execution_count": null,
   "id": "562190ad",
   "metadata": {
    "slideshow": {
     "slide_type": "slide"
    }
   },
   "outputs": [],
   "source": [
    "n_repetitions = 500\n",
    "\n",
    "differences = []\n",
    "for _ in range(n_repetitions):\n",
    "    \n",
    "    # Step 1: Shuffle the weights and store them in a DataFrame.\n",
    "    with_shuffled = baby.assign(Shuffled_Weights=np.random.permutation(baby['Birth Weight']))\n",
    "\n",
    "    # Step 2: Compute the test statistic.\n",
    "    # Remember, False (0) comes before True (1),\n",
    "    # so this computes True - False.\n",
    "    group_means = (\n",
    "        with_shuffled\n",
    "        .groupby('Maternal Smoker')\n",
    "        .mean()\n",
    "        .loc[:, 'Shuffled_Weights']\n",
    "    )\n",
    "    difference = group_means.loc[True] - group_means.loc[False]\n",
    "    \n",
    "    # Step 4: Store the result\n",
    "    differences.append(difference)\n",
    "    \n",
    "differences[:10]"
   ]
  },
  {
   "cell_type": "markdown",
   "id": "ddd552fb",
   "metadata": {},
   "source": [
    "We already computed the observed statistic earlier, but we compute it again below to keep all of our calculations together."
   ]
  },
  {
   "cell_type": "code",
   "execution_count": null,
   "id": "5531f194",
   "metadata": {},
   "outputs": [],
   "source": [
    "mean_weights = baby.groupby('Maternal Smoker')['Birth Weight'].mean()\n",
    "observed_difference = mean_weights[True] - mean_weights[False]\n",
    "observed_difference"
   ]
  },
  {
   "cell_type": "markdown",
   "id": "1e77ba38",
   "metadata": {
    "slideshow": {
     "slide_type": "slide"
    }
   },
   "source": [
    "### Conclusion of the test"
   ]
  },
  {
   "cell_type": "code",
   "execution_count": null,
   "id": "d41af676",
   "metadata": {},
   "outputs": [],
   "source": [
    "fig = px.histogram(\n",
    "    pd.DataFrame(differences), x=0, nbins=50, histnorm='probability', \n",
    "    title='Empirical Distribution of the Mean Differences <br> in Birth Weights (Smoker - Non-Smoker)')\n",
    "fig.add_vline(x=observed_difference, line_color='red')\n",
    "fig.update_layout(xaxis_range=[-10, 10], margin=dict(t=60))"
   ]
  },
  {
   "cell_type": "markdown",
   "id": "e20ed81d",
   "metadata": {
    "slideshow": {
     "slide_type": "fragment"
    }
   },
   "source": [
    "- Under the null hypothesis, we rarely see differences as large as 9.26 ounces.\n",
    "\n",
    "- Therefore, **we reject the null hypothesis that the two groups come from the same distribution**. That is, the difference between the two samples is statistically significant."
   ]
  },
  {
   "cell_type": "markdown",
   "id": "9509e164",
   "metadata": {
    "slideshow": {
     "slide_type": "slide"
    }
   },
   "source": [
    "### ⚠️ Caution!\n",
    "\n",
    "- We **cannot** conclude that smoking **causes** lower birth weight!\n",
    "- This was an observational study; there may be confounding factors.\n",
    "    - Maybe smokers are more likely to drink caffeine, and caffeine causes lower birth weight."
   ]
  },
  {
   "cell_type": "markdown",
   "id": "3c89e3a2",
   "metadata": {
    "slideshow": {
     "slide_type": "slide"
    }
   },
   "source": [
    "### Hypothesis testing vs. permutation testing\n",
    "\n",
    "- Permutation tests **are** hypothesis tests!\n",
    "\n",
    "- \"Standard\" hypothesis tests answer questions of the form:\n",
    "\n",
    "> I have a population distribution, and I have one sample. Does this sample look like it was drawn from the population?\n",
    "\n",
    "- Permutation tests answer questions of the form:\n",
    "\n",
    "> I have two samples, but no information about any population distributions. Do these samples look like they were drawn from the same population? That is, do these two samples look \"similar\"?"
   ]
  },
  {
   "cell_type": "markdown",
   "id": "30c760aa",
   "metadata": {
    "slideshow": {
     "slide_type": "slide"
    }
   },
   "source": [
    "<div class=\"alert alert-warning\">\n",
    "    <h3>Question 🤔 (Answer at <a href=\"https://docs.google.com/forms/d/e/1FAIpQLScWbVZv9hBv-wX-ItKHUVRnkPMMtfJZVfErKE9GS7_8dFcRBQ/viewform\">q.dsc80.com)</h3>\n",
    "</div>\n",
    "    \n",
    "_This question was taken from the Spring 2022 Midterm Exam._\n",
    "    \n",
    "Consider the following pair of hypotheses.\n",
    "\n",
    "- **Null Hypothesis**: The average GPA of UC San Diego admits from La Jolla Private is equal to the average GPA of UC San Diego admits from all schools.\n",
    "\n",
    "- **Alternative Hypothesis**: The average GPA of UC San Diego admits from La Jolla Private is less than the average GPA of UC San Diego admits from all schools.\n",
    "\n",
    "What type of test is this?\n",
    "\n",
    "- A. Standard hypothesis test\n",
    "- B. Permutation test"
   ]
  },
  {
   "cell_type": "markdown",
   "id": "c297cbee",
   "metadata": {
    "slideshow": {
     "slide_type": "slide"
    }
   },
   "source": [
    "<div class=\"alert alert-warning\">\n",
    "    <h3>Question 🤔 (Answer at <a href=\"https://docs.google.com/forms/d/e/1FAIpQLScWbVZv9hBv-wX-ItKHUVRnkPMMtfJZVfErKE9GS7_8dFcRBQ/viewform\">q.dsc80.com)</h3>\n",
    "</div>\n",
    "    \n",
    "_This question was taken from the Spring 2022 Midterm Exam._\n",
    "\n",
    "    \n",
    "Consider the following pair of hypotheses.\n",
    "\n",
    "- **Null Hypothesis**: The distribution of admitted, waitlisted, and rejected students at UC San Diego from Warren High is equal to the distribution of admitted, waitlisted, and rejected students at UC San Diego from La Jolla Private.\n",
    "\n",
    "- **Alternative Hypothesis**: The distribution of admitted, waitlisted, and rejected students at UC San Diego from Warren High is different from the distribution of admitted, waitlisted, and rejected students at UC San Diego from La Jolla Private.\n",
    "\n",
    "\n",
    "\n",
    "What type of test is this?\n",
    "\n",
    "- A. Standard hypothesis test\n",
    "- B. Permutation test"
   ]
  },
  {
   "cell_type": "markdown",
   "id": "35dddd61",
   "metadata": {
    "slideshow": {
     "slide_type": "slide"
    }
   },
   "source": [
    "## Permutation testing meets TVD\n",
    "\n",
    "<div class=\"alert alert-warning\" markdown=\"1\">\n",
    "    \n",
    "<h3>\n",
    "\n",
    "Note: This section has another hypothesis testing example. We might not have time to cover the example in lecture, but you should understand it.\n",
    "\n",
    "You can also watch [**this podcast, starting from 4:43**](https://podcast.ucsd.edu/watch/wi23/dsc80_a00/11) for a \n",
    "walkthrough.\n",
    "\n",
    "</h3>\n",
    "    \n",
    "</div>"
   ]
  },
  {
   "cell_type": "markdown",
   "id": "6103720c",
   "metadata": {
    "slideshow": {
     "slide_type": "slide"
    }
   },
   "source": [
    "### Example: Married vs. unmarried couples\n",
    "\n",
    "* We will use data from a study conducted in 2010 by the [National Center for Family and Marriage Research](https://www.bgsu.edu/ncfmr.html).\n",
    "* The data consists of a national random sample of over 1,000 heterosexual couples who were either married or living together but unmarried.\n",
    "* Each row corresponds to one **person** (not one couple)."
   ]
  },
  {
   "cell_type": "code",
   "execution_count": null,
   "id": "5e6bfed2",
   "metadata": {},
   "outputs": [],
   "source": [
    "couples = pd.read_csv(Path('data') / 'married_couples.csv')\n",
    "couples.head()"
   ]
  },
  {
   "cell_type": "code",
   "execution_count": null,
   "id": "693e40f2",
   "metadata": {},
   "outputs": [],
   "source": [
    "# What does this expression compute?\n",
    "couples['hh_id'].value_counts().value_counts()"
   ]
  },
  {
   "cell_type": "markdown",
   "id": "47715b5d",
   "metadata": {},
   "source": [
    "We won't use all of the columns in the DataFrame."
   ]
  },
  {
   "cell_type": "code",
   "execution_count": null,
   "id": "c671bc30",
   "metadata": {},
   "outputs": [],
   "source": [
    "couples = couples[['mar_status', 'empl_status', 'gender', 'age']]\n",
    "couples.head()"
   ]
  },
  {
   "cell_type": "markdown",
   "id": "13f1f3e3",
   "metadata": {
    "slideshow": {
     "slide_type": "slide"
    }
   },
   "source": [
    "### Cleaning the dataset\n",
    "\n",
    "The numbers in the DataFrame correspond to the mappings below.\n",
    "\n",
    "* `'mar_status'`: 1=married, 2=unmarried.\n",
    "* `'empl_status'`: enumerated in the list below.\n",
    "* `'gender'`: 1=male, 2=female.\n",
    "* `'age'`: person's age in years."
   ]
  },
  {
   "cell_type": "code",
   "execution_count": null,
   "id": "ea068251",
   "metadata": {},
   "outputs": [],
   "source": [
    "couples.head()"
   ]
  },
  {
   "cell_type": "code",
   "execution_count": null,
   "id": "ce5aeac1",
   "metadata": {},
   "outputs": [],
   "source": [
    "empl = [\n",
    "    'Working as paid employee',\n",
    "    'Working, self-employed',\n",
    "    'Not working - on a temporary layoff from a job',\n",
    "    'Not working - looking for work',\n",
    "    'Not working - retired',\n",
    "    'Not working - disabled',\n",
    "    'Not working - other'\n",
    "]"
   ]
  },
  {
   "cell_type": "code",
   "execution_count": null,
   "id": "790e8407",
   "metadata": {},
   "outputs": [],
   "source": [
    "couples = couples.replace({\n",
    "    'mar_status': {1: 'married', 2: 'unmarried'},\n",
    "    'gender': {1: 'M', 2: 'F'},\n",
    "    'empl_status': {(k + 1): empl[k] for k in range(len(empl))}\n",
    "})"
   ]
  },
  {
   "cell_type": "code",
   "execution_count": null,
   "id": "f3c26e66",
   "metadata": {},
   "outputs": [],
   "source": [
    "couples.head()"
   ]
  },
  {
   "cell_type": "markdown",
   "id": "d2ad07d4",
   "metadata": {
    "slideshow": {
     "slide_type": "slide"
    }
   },
   "source": [
    "### Understanding the `couples` dataset\n",
    "\n",
    "* Who is in our dataset? Mostly young people? Mostly married people? Mostly employed people?\n",
    "* What is the distribution of values in each column?"
   ]
  },
  {
   "cell_type": "code",
   "execution_count": null,
   "id": "665bc857",
   "metadata": {},
   "outputs": [],
   "source": [
    "# For categorical columns, this shows the 10 most common values and their frequencies.\n",
    "# For numerical columns, this shows the result of calling the .describe() method.\n",
    "for col in couples:\n",
    "    if couples[col].dtype == 'object':\n",
    "        empr = couples[col].value_counts(normalize=True).to_frame().iloc[:10]\n",
    "    else:\n",
    "        empr = couples[col].describe().to_frame()\n",
    "    display(empr)"
   ]
  },
  {
   "cell_type": "markdown",
   "id": "3ea752d4",
   "metadata": {
    "slideshow": {
     "slide_type": "slide"
    }
   },
   "source": [
    "Let's look at the distribution of age **separately** for married couples and unmarried couples."
   ]
  },
  {
   "cell_type": "code",
   "execution_count": null,
   "id": "6e75903d",
   "metadata": {
    "scrolled": false
   },
   "outputs": [],
   "source": [
    "px.histogram(couples, x='age', color='mar_status', histnorm='probability', marginal='box',\n",
    "             barmode='overlay', opacity=0.7)"
   ]
  },
  {
   "cell_type": "markdown",
   "id": "f6865a8c",
   "metadata": {},
   "source": [
    "How are these two distributions different? Why do you think there is a difference?"
   ]
  },
  {
   "cell_type": "markdown",
   "id": "7933de40",
   "metadata": {
    "slideshow": {
     "slide_type": "slide"
    }
   },
   "source": [
    "### Understanding employment status in households\n",
    "\n",
    "* Do married households more often have a stay-at-home spouse?\n",
    "* Do households with unmarried couples more often have someone looking for work?\n",
    "* How much does the employment status of the different households vary?\n",
    "\n",
    "To answer these questions, let's compute the distribution of employment status **conditional on household type (married vs. unmarried)**."
   ]
  },
  {
   "cell_type": "code",
   "execution_count": null,
   "id": "2a52e1cd",
   "metadata": {},
   "outputs": [],
   "source": [
    "couples.sample(5).head()"
   ]
  },
  {
   "cell_type": "code",
   "execution_count": null,
   "id": "a9d9797f",
   "metadata": {
    "scrolled": true
   },
   "outputs": [],
   "source": [
    "# Note that this is a shortcut to picking a column for values and using aggfunc='count'.\n",
    "empl_cnts = couples.pivot_table(index='empl_status', columns='mar_status', aggfunc='size')\n",
    "empl_cnts"
   ]
  },
  {
   "cell_type": "markdown",
   "id": "8233abb5",
   "metadata": {},
   "source": [
    "Since there are a different number of married and unmarried couples in the dataset, we can't compare the numbers above directly. We need to convert counts to proportions, separately for married and unmarried couples."
   ]
  },
  {
   "cell_type": "code",
   "execution_count": null,
   "id": "f2513123",
   "metadata": {},
   "outputs": [],
   "source": [
    "empl_cnts.sum()"
   ]
  },
  {
   "cell_type": "code",
   "execution_count": null,
   "id": "2079a5bd",
   "metadata": {},
   "outputs": [],
   "source": [
    "cond_distr = empl_cnts / empl_cnts.sum()\n",
    "cond_distr"
   ]
  },
  {
   "cell_type": "markdown",
   "id": "69b193a3",
   "metadata": {},
   "source": [
    "Both of the columns above sum to 1."
   ]
  },
  {
   "cell_type": "markdown",
   "id": "f22ae453",
   "metadata": {
    "slideshow": {
     "slide_type": "slide"
    }
   },
   "source": [
    "### Differences in the distributions\n",
    "\n",
    "Are the distributions of employment status for married people and for unmarried people who live with their partners **different**?\n",
    "\n",
    "Is this difference just due to noise?"
   ]
  },
  {
   "cell_type": "code",
   "execution_count": null,
   "id": "1d019f1d",
   "metadata": {
    "scrolled": false
   },
   "outputs": [],
   "source": [
    "cond_distr.plot(kind='barh', title='Distribution of Employment Status, Conditional on Household Type', barmode='group')"
   ]
  },
  {
   "cell_type": "markdown",
   "id": "15f72035",
   "metadata": {
    "slideshow": {
     "slide_type": "slide"
    }
   },
   "source": [
    "### Permutation test for household composition \n",
    "\n",
    "* **Null Hypothesis**: In the US, the distribution of employment status among those who are married is the same as among those who are unmarried and live with their partners. The difference between the two observed samples is due to chance.\n",
    "\n",
    "* **Alternative Hypothesis**: In the US, the distributions of employment status of the two groups are **different**."
   ]
  },
  {
   "cell_type": "markdown",
   "id": "eb050aed",
   "metadata": {
    "slideshow": {
     "slide_type": "slide"
    }
   },
   "source": [
    "### Total variation distance\n",
    "\n",
    "- Whenever we need to compare two categorical distributions, we use the TVD.\n",
    "    - Recall, the TVD is the **sum of the absolute differences in proportions, divided by 2**.\n",
    "- In DSC 10, the only test statistic we ever used in permutation tests was the difference in group means/medians, but the TVD can be used in permutation tests as well."
   ]
  },
  {
   "cell_type": "code",
   "execution_count": null,
   "id": "314ac5cd",
   "metadata": {},
   "outputs": [],
   "source": [
    "cond_distr"
   ]
  },
  {
   "cell_type": "markdown",
   "id": "0b27bbf6",
   "metadata": {},
   "source": [
    "Let's first compute the observed TVD:"
   ]
  },
  {
   "cell_type": "code",
   "execution_count": null,
   "id": "2a987081",
   "metadata": {},
   "outputs": [],
   "source": [
    "(cond_distr['unmarried'] - cond_distr['married']).abs().sum() / 2"
   ]
  },
  {
   "cell_type": "markdown",
   "id": "cff17c20",
   "metadata": {
    "slideshow": {
     "slide_type": "slide"
    }
   },
   "source": [
    "Since we'll need to calculate the TVD repeatedly, let's define a function that computes it."
   ]
  },
  {
   "cell_type": "code",
   "execution_count": null,
   "id": "2d310f4a",
   "metadata": {},
   "outputs": [],
   "source": [
    "def tvd_of_groups(df, groups, cats):\n",
    "    '''groups: the binary column (e.g. married vs. unmarried).\n",
    "       cats: the categorical column (e.g. employment status).\n",
    "    '''\n",
    "    cnts = df.pivot_table(index=cats, columns=groups, aggfunc='size')\n",
    "    # Normalize each column.\n",
    "    distr = cnts / cnts.sum()\n",
    "    # Compute and return the TVD.\n",
    "    return (distr['unmarried'] - distr['married']).abs().sum() / 2"
   ]
  },
  {
   "cell_type": "code",
   "execution_count": null,
   "id": "3a1b0082",
   "metadata": {
    "scrolled": true
   },
   "outputs": [],
   "source": [
    "# Same result as above.\n",
    "observed_tvd = tvd_of_groups(couples, groups='mar_status', cats='empl_status')\n",
    "observed_tvd"
   ]
  },
  {
   "cell_type": "markdown",
   "id": "3102e9d3",
   "metadata": {
    "slideshow": {
     "slide_type": "slide"
    }
   },
   "source": [
    "### Simulation\n",
    "\n",
    "- Under the null hypothesis, marital status is not related to employment status.\n",
    "- We can shuffle the marital status column and get an equally-likely dataset.\n",
    "- On each shuffle, we will compute the TVD.\n",
    "- Once we have many TVDs, we can ask, **how often do we see a difference at least as large as our observed difference?**"
   ]
  },
  {
   "cell_type": "code",
   "execution_count": null,
   "id": "a1b056e6",
   "metadata": {
    "scrolled": true
   },
   "outputs": [],
   "source": [
    "couples.head()"
   ]
  },
  {
   "cell_type": "markdown",
   "id": "282bb93f",
   "metadata": {},
   "source": [
    "Here, we'll shuffle marital statuses, though remember, we could shuffle employment statuses too."
   ]
  },
  {
   "cell_type": "code",
   "execution_count": null,
   "id": "2b6e8370",
   "metadata": {},
   "outputs": [],
   "source": [
    "couples.assign(shuffled_mar=np.random.permutation(couples['mar_status']))"
   ]
  },
  {
   "cell_type": "markdown",
   "id": "0af1c455",
   "metadata": {},
   "source": [
    "Let's do this repeatedly."
   ]
  },
  {
   "cell_type": "code",
   "execution_count": null,
   "id": "b40cfa51",
   "metadata": {},
   "outputs": [],
   "source": [
    "N = 1000\n",
    "tvds = []\n",
    "\n",
    "for _ in range(N):\n",
    "    # Shuffle marital statuses.\n",
    "    with_shuffled = couples.assign(shuffled_mar=np.random.permutation(couples['mar_status']))\n",
    "    \n",
    "    # Compute and store the TVD.\n",
    "    tvd = tvd_of_groups(with_shuffled, groups='shuffled_mar', cats='empl_status')\n",
    "    tvds.append(tvd)"
   ]
  },
  {
   "cell_type": "markdown",
   "id": "fdf053a2",
   "metadata": {},
   "source": [
    "Notice that by defining a function that computes our test statistic, our simulation code is much cleaner."
   ]
  },
  {
   "cell_type": "markdown",
   "id": "8e75619b",
   "metadata": {
    "slideshow": {
     "slide_type": "slide"
    }
   },
   "source": [
    "### Conclusion of the test"
   ]
  },
  {
   "cell_type": "code",
   "execution_count": null,
   "id": "8672ce47",
   "metadata": {
    "scrolled": false
   },
   "outputs": [],
   "source": [
    "fig = px.histogram(tvds, x=0, nbins=50, histnorm='probability', \n",
    "                   title='Empirical Distribution of the TVD')\n",
    "fig.update_layout(xaxis_range=[0, 0.2])"
   ]
  },
  {
   "cell_type": "markdown",
   "id": "1b9ee0f6",
   "metadata": {
    "slideshow": {
     "slide_type": "fragment"
    }
   },
   "source": [
    "We **reject** the null hypothesis that married/unmarried households have similar employment makeups.\n",
    "\n",
    "We can't say anything about **why** the employment makeups are different, though!"
   ]
  },
  {
   "cell_type": "markdown",
   "id": "dc7bc33d",
   "metadata": {
    "slideshow": {
     "slide_type": "slide"
    }
   },
   "source": [
    "## Summary, next time"
   ]
  },
  {
   "cell_type": "markdown",
   "id": "4c22841b",
   "metadata": {
    "slideshow": {
     "slide_type": "slide"
    }
   },
   "source": [
    "### Summary\n",
    "\n",
    "- Both \"standard\" hypothesis tests and permutation tests are forms of hypothesis tests, which are used to assess whether some observation in our data looks **significant**.\n",
    "    - See the end of the \"Permutation testing\" section for the distinction between the two.\n",
    "- To run a hypothesis test, we need to choose a **test statistic** such that large observed values point to one hypothesis and small observed values point to the other. Examples we've seen:\n",
    "    - Number of heads, absolute difference between number of heads and expected number of heads (coin-flipping example in the pre-lecture reading).\n",
    "    - Total variation distance.\n",
    "    - Difference in group means."
   ]
  },
  {
   "cell_type": "markdown",
   "id": "f11e214e",
   "metadata": {
    "slideshow": {
     "slide_type": "slide"
    }
   },
   "source": [
    "### Next time\n",
    "\n",
    "Identifying different ways in which data can be missing. Don't worry, hypothesis testing will be revisited!"
   ]
  }
 ],
 "metadata": {
  "kernelspec": {
   "display_name": "Python 3 (ipykernel)",
   "language": "python",
   "name": "python3"
  },
  "language_info": {
   "codemirror_mode": {
    "name": "ipython",
    "version": 3
   },
   "file_extension": ".py",
   "mimetype": "text/x-python",
   "name": "python",
   "nbconvert_exporter": "python",
   "pygments_lexer": "ipython3",
   "version": "3.8.18"
  },
  "livereveal": {
   "scroll": true
  },
  "rise": {
   "transition": "none"
  }
 },
 "nbformat": 4,
 "nbformat_minor": 5
}
