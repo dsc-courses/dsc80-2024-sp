{
 "cells": [
  {
   "cell_type": "code",
   "execution_count": null,
   "id": "8c8a44b8",
   "metadata": {
    "slideshow": {
     "slide_type": "skip"
    }
   },
   "outputs": [],
   "source": [
    "from dsc80_utils import *"
   ]
  },
  {
   "cell_type": "markdown",
   "id": "6ca51859",
   "metadata": {
    "slideshow": {
     "slide_type": "slide"
    }
   },
   "source": [
    "# Lecture 12 – Text Features\n",
    "\n",
    "## DSC 80, Spring 2024"
   ]
  },
  {
   "cell_type": "markdown",
   "id": "22824200",
   "metadata": {
    "slideshow": {
     "slide_type": "slide"
    }
   },
   "source": [
    "### Announcements 📣\n",
    "\n",
    "- Lab 6 is due **tomorrow**\n",
    "- The Project 3 Checkpoint due on **Friday**."
   ]
  },
  {
   "cell_type": "markdown",
   "id": "bd851d5b",
   "metadata": {
    "slideshow": {
     "slide_type": "slide"
    }
   },
   "source": [
    "### Agenda 📆\n",
    "\n",
    "- Text features.\n",
    "- Bag of words.\n",
    "- Cosine similarity.\n",
    "- TF-IDF.\n",
    "    - Example: State of the Union addresses 🎤."
   ]
  },
  {
   "cell_type": "markdown",
   "id": "64f1e916",
   "metadata": {
    "slideshow": {
     "slide_type": "slide"
    }
   },
   "source": [
    "<div class=\"alert alert-warning\">\n",
    "    <h3>Question 🤔 (Answer at <a class=\"alert-link\" href=\"http://q.dsc80.com\">q.dsc80.com</a>)</h3>\n",
    "    \n",
    "`^\\w{2,5}.\\d*\\/[^A-Z5]{1,}`\n",
    "\n",
    "Select all strings below that contain any match with the regular expression above.\n",
    "\n",
    "- `\"billy4/Za\"`\n",
    "- `\"billy4/za\"`\n",
    "- `\"DAI_s2154/pacific\"`\n",
    "- `\"daisy/ZZZZZ\"`\n",
    "- `\"bi_/_lly98\"`\n",
    "- `\"!@__!14/atlantic\"`\n",
    "    \n",
    "</div>\n",
    "\n",
    "(This problem was from Sp22 Final question 7.2.)"
   ]
  },
  {
   "cell_type": "markdown",
   "id": "ec4b7cca",
   "metadata": {
    "slideshow": {
     "slide_type": "slide"
    }
   },
   "source": [
    "## Text features"
   ]
  },
  {
   "cell_type": "markdown",
   "id": "da0e5e5d",
   "metadata": {
    "slideshow": {
     "slide_type": "slide"
    }
   },
   "source": [
    "<center><img src='imgs/ds-lifecycle.svg' width=60%></center>"
   ]
  },
  {
   "cell_type": "markdown",
   "id": "ba604d65",
   "metadata": {
    "slideshow": {
     "slide_type": "slide"
    }
   },
   "source": [
    "### Review: Regression and features"
   ]
  },
  {
   "cell_type": "markdown",
   "id": "3031de84",
   "metadata": {
    "slideshow": {
     "slide_type": "fragment"
    }
   },
   "source": [
    "- In DSC 40A, our running example was to use **regression** to predict a data scientist's salary, given their GPA, years of experience, and years of education."
   ]
  },
  {
   "cell_type": "markdown",
   "id": "907fdb3e",
   "metadata": {
    "slideshow": {
     "slide_type": "fragment"
    }
   },
   "source": [
    "- After minimizing empirical risk to determine optimal parameters, $w_0^*, \\dots, w_3^*$, we made predictions using:\n",
    "\n",
    "$$\\text{predicted salary} = w_0^* + w_1^* \\cdot \\text{GPA} + w_2^* \\cdot \\text{experience} + w_3^* \\cdot \\text{education}$$"
   ]
  },
  {
   "cell_type": "markdown",
   "id": "acab9026",
   "metadata": {
    "slideshow": {
     "slide_type": "fragment"
    }
   },
   "source": [
    "- GPA, years of experience, and years of education are **features** – they represent a data scientist as a vector of _numbers_.\n",
    "    - e.g. Your feature vector may be [3.5, 1, 7]."
   ]
  },
  {
   "cell_type": "markdown",
   "id": "a69f984f",
   "metadata": {
    "slideshow": {
     "slide_type": "fragment"
    }
   },
   "source": [
    "- **This approach requires features to be numeric.**"
   ]
  },
  {
   "cell_type": "markdown",
   "id": "873aeec4",
   "metadata": {
    "slideshow": {
     "slide_type": "slide"
    }
   },
   "source": [
    "### Moving forward\n",
    "\n",
    "Suppose we'd like to predict the **sentiment** of a piece of text from 1 to 10.\n",
    "- 10: Very positive (happy).\n",
    "- 1: Very negative (sad, angry).\n",
    "\n",
    "Example:\n",
    "- Input: \"DSC 80 is a pretty good class.\"\n",
    "- Output: 7.\n",
    "\n",
    "- We can frame this as a regression problem, but we can't directly use what we learned in 40A, because here our inputs are **text**, not **numbers**."
   ]
  },
  {
   "cell_type": "markdown",
   "id": "d1c9d3ba",
   "metadata": {
    "slideshow": {
     "slide_type": "slide"
    }
   },
   "source": [
    "### Text features"
   ]
  },
  {
   "cell_type": "markdown",
   "id": "cd5507cd",
   "metadata": {
    "slideshow": {
     "slide_type": "fragment"
    }
   },
   "source": [
    "- **Big question: How do we represent a text document as a feature vector of numbers?**"
   ]
  },
  {
   "cell_type": "markdown",
   "id": "9369bfe8",
   "metadata": {
    "slideshow": {
     "slide_type": "fragment"
    }
   },
   "source": [
    "- If we can do this, we can:\n",
    "    - use a text document as input in a regression or classification model (in a few lectures).\n",
    "    - **quantify** the similarity of two text documents (today)."
   ]
  },
  {
   "cell_type": "markdown",
   "id": "5df81826",
   "metadata": {
    "slideshow": {
     "slide_type": "slide"
    }
   },
   "source": [
    "### Example: San Diego employee salaries\n",
    "\n",
    "- [Transparent California](https://transparentcalifornia.com/salaries/san-diego/) publishes the salaries of all City of San Diego employees.\n",
    "- Let's look at the 2022 data."
   ]
  },
  {
   "cell_type": "code",
   "execution_count": null,
   "id": "75c4295f",
   "metadata": {},
   "outputs": [],
   "source": [
    "salaries = pd.read_csv('https://transcal.s3.amazonaws.com/public/export/san-diego-2022.csv')\n",
    "salaries['Employee Name'] = salaries['Employee Name'].str.split().str[0] + ' Xxxx'"
   ]
  },
  {
   "cell_type": "code",
   "execution_count": null,
   "id": "20e87fe2",
   "metadata": {},
   "outputs": [],
   "source": [
    "salaries.head()"
   ]
  },
  {
   "cell_type": "markdown",
   "id": "ebe35ef8",
   "metadata": {
    "slideshow": {
     "slide_type": "slide"
    }
   },
   "source": [
    "### Aside on privacy and ethics"
   ]
  },
  {
   "cell_type": "markdown",
   "id": "2bade7d9",
   "metadata": {
    "slideshow": {
     "slide_type": "fragment"
    }
   },
   "source": [
    "- Even though the data we downloaded is publicly available, employee names still correspond to real people."
   ]
  },
  {
   "cell_type": "markdown",
   "id": "5b284c0d",
   "metadata": {
    "slideshow": {
     "slide_type": "fragment"
    }
   },
   "source": [
    "- Be careful when dealing with PII (personably identifiable information).\n",
    "    - Only work with the data that is needed for your analysis.\n",
    "    - Even when data is public, people have a reasonable right to privacy."
   ]
  },
  {
   "cell_type": "markdown",
   "id": "2e691780",
   "metadata": {
    "slideshow": {
     "slide_type": "fragment"
    }
   },
   "source": [
    "- Remember to think about the impacts of your work **outside** of your Jupyter Notebook."
   ]
  },
  {
   "cell_type": "markdown",
   "id": "98372ee8",
   "metadata": {
    "slideshow": {
     "slide_type": "slide"
    }
   },
   "source": [
    "### Goal: Quantifying similarity"
   ]
  },
  {
   "cell_type": "markdown",
   "id": "1d30e665",
   "metadata": {
    "slideshow": {
     "slide_type": "fragment"
    }
   },
   "source": [
    "- Our goal is to describe, numerically, how **similar** two job titles are."
   ]
  },
  {
   "cell_type": "markdown",
   "id": "d949b045",
   "metadata": {
    "slideshow": {
     "slide_type": "fragment"
    }
   },
   "source": [
    "- For instance, our similarity metric should tell us that `'Deputy Fire Chief'` and `'Fire Battalion Chief'` are more similar than `'Deputy Fire Chief'` and `'City Attorney'`."
   ]
  },
  {
   "cell_type": "markdown",
   "id": "91aec1b4",
   "metadata": {
    "slideshow": {
     "slide_type": "fragment"
    }
   },
   "source": [
    "- **Idea**: Two job titles are similar if they contain shared words, regardless of order. So, to measure the similarity between two job titles, we could **count the number of words they share in common**."
   ]
  },
  {
   "cell_type": "markdown",
   "id": "41ad18c5",
   "metadata": {
    "slideshow": {
     "slide_type": "fragment"
    }
   },
   "source": [
    "- Before we do this, we need to be confident that the job titles are clean and consistent – let's explore."
   ]
  },
  {
   "cell_type": "markdown",
   "id": "58450d4f",
   "metadata": {
    "slideshow": {
     "slide_type": "slide"
    }
   },
   "source": [
    "### Exploring job titles"
   ]
  },
  {
   "cell_type": "code",
   "execution_count": null,
   "id": "5efa8340",
   "metadata": {},
   "outputs": [],
   "source": [
    "jobtitles = salaries['Job Title']\n",
    "jobtitles.head()"
   ]
  },
  {
   "cell_type": "markdown",
   "id": "e5f0e862",
   "metadata": {},
   "source": [
    "How many employees are in the dataset? How many **unique** job titles are there?"
   ]
  },
  {
   "cell_type": "code",
   "execution_count": null,
   "id": "fb08bf56",
   "metadata": {},
   "outputs": [],
   "source": [
    "jobtitles.shape[0], jobtitles.nunique()"
   ]
  },
  {
   "cell_type": "markdown",
   "id": "dba189e0",
   "metadata": {
    "slideshow": {
     "slide_type": "slide"
    }
   },
   "source": [
    "What are the most common job titles?"
   ]
  },
  {
   "cell_type": "code",
   "execution_count": null,
   "id": "1e95fffc",
   "metadata": {},
   "outputs": [],
   "source": [
    "jobtitles.value_counts().iloc[:100]"
   ]
  },
  {
   "cell_type": "code",
   "execution_count": null,
   "id": "3e32874d",
   "metadata": {
    "scrolled": false
   },
   "outputs": [],
   "source": [
    "jobtitles.value_counts().iloc[:10].sort_values().plot(kind='barh')"
   ]
  },
  {
   "cell_type": "markdown",
   "id": "8dded72a",
   "metadata": {
    "slideshow": {
     "slide_type": "slide"
    }
   },
   "source": [
    "Are there any missing job titles?"
   ]
  },
  {
   "cell_type": "code",
   "execution_count": null,
   "id": "a5fe0196",
   "metadata": {},
   "outputs": [],
   "source": [
    "jobtitles.isna().sum()"
   ]
  },
  {
   "cell_type": "markdown",
   "id": "1d304c97",
   "metadata": {
    "slideshow": {
     "slide_type": "fragment"
    }
   },
   "source": [
    "Fortunately, no."
   ]
  },
  {
   "cell_type": "markdown",
   "id": "46bc0496",
   "metadata": {
    "slideshow": {
     "slide_type": "slide"
    }
   },
   "source": [
    "### Canonicalization\n",
    "\n",
    "Remember, our goal is ultimately to count the number of shared words between job titles. But before we start counting the number of shared words, we need to consider the following:"
   ]
  },
  {
   "cell_type": "markdown",
   "id": "91f980c7",
   "metadata": {
    "slideshow": {
     "slide_type": "fragment"
    }
   },
   "source": [
    "- Some job titles may have **punctuation**, like `'-'` and `'&'`, which may count as words when they shouldn't.\n",
    "    - `'Assistant - Manager'` and `'Assistant Manager'` should count as the same job title.\n"
   ]
  },
  {
   "cell_type": "markdown",
   "id": "517b3f9a",
   "metadata": {
    "slideshow": {
     "slide_type": "fragment"
    }
   },
   "source": [
    "- Some job titles may have **\"glue\" words**, like `'to'` and `'the'`, which (we can argue) also shouldn't count as words.\n",
    "    - `'Assistant To The Manager'` and `'Assistant Manager'` should count as the same job title."
   ]
  },
  {
   "cell_type": "markdown",
   "id": "a547540d",
   "metadata": {
    "slideshow": {
     "slide_type": "fragment"
    }
   },
   "source": [
    "- If we just want to focus on the titles themselves, then perhaps **roman numerals** should be removed: that is, `'Police Officer Ii'` and `'Police Officer I'` should count as the same job title. "
   ]
  },
  {
   "cell_type": "markdown",
   "id": "d3b278db",
   "metadata": {
    "slideshow": {
     "slide_type": "fragment"
    }
   },
   "source": [
    "Let's address the above issues. The process of converting job titles so that they are always represented the same way is called **canonicalization**."
   ]
  },
  {
   "cell_type": "markdown",
   "id": "87cc4536",
   "metadata": {
    "slideshow": {
     "slide_type": "skip"
    }
   },
   "source": [
    "### Punctuation\n",
    "\n",
    "Are there job titles with unnecessary punctuation that we can remove? \n",
    "\n",
    "- To find out, we can write a regular expression that looks for characters other than letters, numbers, and spaces.\n",
    "\n",
    "- We can use regular expressions with the `.str` methods we learned earlier in the quarter just by using `regex=True`."
   ]
  },
  {
   "cell_type": "code",
   "execution_count": null,
   "id": "b6a81710",
   "metadata": {
    "slideshow": {
     "slide_type": "skip"
    }
   },
   "outputs": [],
   "source": [
    "jobtitles.str.contains(..., regex=True).sum()"
   ]
  },
  {
   "cell_type": "code",
   "execution_count": null,
   "id": "c7ed0b45",
   "metadata": {
    "slideshow": {
     "slide_type": "skip"
    }
   },
   "outputs": [],
   "source": [
    "jobtitles[jobtitles.str.contains(r'[^A-Za-z0-9 ]', regex=True)].head()"
   ]
  },
  {
   "cell_type": "markdown",
   "id": "d7be4dc6",
   "metadata": {
    "slideshow": {
     "slide_type": "skip"
    }
   },
   "source": [
    "It seems like we should replace these pieces of punctuation with a single space."
   ]
  },
  {
   "cell_type": "markdown",
   "id": "20b8ef00",
   "metadata": {
    "slideshow": {
     "slide_type": "skip"
    }
   },
   "source": [
    "### \"Glue\" words\n",
    "\n",
    "Are there job titles with \"glue\" words in the middle, such as `'Assistant to the Manager'`?"
   ]
  },
  {
   "cell_type": "markdown",
   "id": "289118f3",
   "metadata": {
    "slideshow": {
     "slide_type": "skip"
    }
   },
   "source": [
    "To figure out if any titles contain the word `'to'`, we **can't** just do the following, because it will evaluate to `True` for job titles that have `'to'` anywhere in them, even if not as a standalone word."
   ]
  },
  {
   "cell_type": "code",
   "execution_count": null,
   "id": "2016f200",
   "metadata": {
    "slideshow": {
     "slide_type": "skip"
    }
   },
   "outputs": [],
   "source": [
    "# Why are we converting to lowercase?\n",
    "jobtitles.str.lower().str.contains('to').sum()"
   ]
  },
  {
   "cell_type": "code",
   "execution_count": null,
   "id": "f9a5ffdf",
   "metadata": {
    "scrolled": true,
    "slideshow": {
     "slide_type": "skip"
    }
   },
   "outputs": [],
   "source": [
    "jobtitles[jobtitles.str.lower().str.contains('to')]"
   ]
  },
  {
   "cell_type": "markdown",
   "id": "16f785b0",
   "metadata": {
    "slideshow": {
     "slide_type": "skip"
    }
   },
   "source": [
    "Instead, we need to look for `'to'` separated by word boundaries."
   ]
  },
  {
   "cell_type": "code",
   "execution_count": null,
   "id": "33ba1aa6",
   "metadata": {
    "slideshow": {
     "slide_type": "skip"
    }
   },
   "outputs": [],
   "source": [
    "jobtitles.str.lower().str.contains(..., regex=True).sum()"
   ]
  },
  {
   "cell_type": "code",
   "execution_count": null,
   "id": "14dfd8e3",
   "metadata": {
    "scrolled": true,
    "slideshow": {
     "slide_type": "skip"
    }
   },
   "outputs": [],
   "source": [
    "jobtitles[jobtitles.str.lower().str.contains(r'\\bto\\b', regex=True)]"
   ]
  },
  {
   "cell_type": "markdown",
   "id": "f9050c72",
   "metadata": {
    "slideshow": {
     "slide_type": "skip"
    }
   },
   "source": [
    "We can look for other filler words too, like `'the'` and `'for'`."
   ]
  },
  {
   "cell_type": "code",
   "execution_count": null,
   "id": "54b1bce5",
   "metadata": {
    "slideshow": {
     "slide_type": "skip"
    }
   },
   "outputs": [],
   "source": [
    "jobtitles[jobtitles.str.lower().str.contains(r'\\bthe\\b', regex=True)]"
   ]
  },
  {
   "cell_type": "code",
   "execution_count": null,
   "id": "2e7f8817",
   "metadata": {
    "slideshow": {
     "slide_type": "skip"
    }
   },
   "outputs": [],
   "source": [
    "jobtitles[jobtitles.str.lower().str.contains(r'\\bfor\\b', regex=True)]"
   ]
  },
  {
   "cell_type": "markdown",
   "id": "037a46b7",
   "metadata": {
    "slideshow": {
     "slide_type": "skip"
    }
   },
   "source": [
    "We should probably remove these \"glue\" words."
   ]
  },
  {
   "cell_type": "markdown",
   "id": "76a2a1ca",
   "metadata": {
    "slideshow": {
     "slide_type": "skip"
    }
   },
   "source": [
    "### Roman numerals (e.g. \"Ii\")\n",
    "\n",
    "Lastly, let's try and identify job titles that have roman numerals at the end, like `'i'` (1), `'ii'` (2), `'iii'` (3), or `'iv'` (4). As before, we'll convert to lowercase first."
   ]
  },
  {
   "cell_type": "code",
   "execution_count": null,
   "id": "71b8f7bf",
   "metadata": {
    "slideshow": {
     "slide_type": "skip"
    }
   },
   "outputs": [],
   "source": [
    "jobtitles[jobtitles.str.lower().str.contains(r'\\bi+v?\\b', regex=True)]"
   ]
  },
  {
   "cell_type": "markdown",
   "id": "d81b301c",
   "metadata": {
    "slideshow": {
     "slide_type": "skip"
    }
   },
   "source": [
    "Let's get rid of those numbers, too."
   ]
  },
  {
   "cell_type": "markdown",
   "id": "2a51b396",
   "metadata": {
    "slideshow": {
     "slide_type": "slide"
    }
   },
   "source": [
    "### Fixing punctuation and removing \"glue\" words and roman numerals\n",
    "\n",
    "Let's put the preceeding three steps together and canonicalize job titles by:\n",
    "- converting to lowercase,\n",
    "- removing each occurrence of `'to'`, `'the'`, and `'for'`,\n",
    "- replacing each non-letter/digit/space character with a space,\n",
    "- replacing each sequence of roman numerals – either `'i'`, `'ii'`, `'iii'`, or `'iv'` at the end with nothing, and\n",
    "- replacing each sequence of multiple spaces with a single space."
   ]
  },
  {
   "cell_type": "code",
   "execution_count": null,
   "id": "aabd488a",
   "metadata": {},
   "outputs": [],
   "source": [
    "jobtitles = (\n",
    "    jobtitles\n",
    "    .str.lower()\n",
    "    .str.replace(r'\\bto\\b|\\bthe\\b|\\bfor\\b', '', regex=True)\n",
    "    .str.replace(r'[^A-Za-z0-9 ]', ' ', regex=True)\n",
    "    .str.replace(r'\\bi+v?\\b', '', regex=True)\n",
    "    .str.replace(r' +', ' ', regex=True)               # ' +' matches 1 or more occurrences of a space.\n",
    "    .str.strip()                                       # Removes leading/trailing spaces if present.\n",
    ")"
   ]
  },
  {
   "cell_type": "code",
   "execution_count": null,
   "id": "ae8193bc",
   "metadata": {},
   "outputs": [],
   "source": [
    "jobtitles.sample(5)"
   ]
  },
  {
   "cell_type": "code",
   "execution_count": null,
   "id": "8cc333a4",
   "metadata": {
    "scrolled": true
   },
   "outputs": [],
   "source": [
    "(jobtitles == 'police officer').sum()"
   ]
  },
  {
   "cell_type": "markdown",
   "id": "bf166a9b",
   "metadata": {
    "slideshow": {
     "slide_type": "slide"
    }
   },
   "source": [
    "### Possible issue: inconsistent representations\n",
    "\n",
    "Another possible issue is that some job titles may have inconsistent representations of the same word (e.g. `'Asst.'` vs `'Assistant'`)."
   ]
  },
  {
   "cell_type": "code",
   "execution_count": null,
   "id": "cda644f1",
   "metadata": {},
   "outputs": [],
   "source": [
    "jobtitles[jobtitles.str.contains('asst')].value_counts()"
   ]
  },
  {
   "cell_type": "code",
   "execution_count": null,
   "id": "784e19fd",
   "metadata": {},
   "outputs": [],
   "source": [
    "jobtitles[jobtitles.str.contains('assistant')].value_counts().head()"
   ]
  },
  {
   "cell_type": "markdown",
   "id": "4a6ef98a",
   "metadata": {
    "slideshow": {
     "slide_type": "fragment"
    }
   },
   "source": [
    "The 2020 salaries dataset had several of these issues, but fortunately they appear to be fixed for us in the 2022 dataset (thanks, Transparent California)."
   ]
  },
  {
   "cell_type": "markdown",
   "id": "b4ff5ce7",
   "metadata": {
    "slideshow": {
     "slide_type": "slide"
    }
   },
   "source": [
    "## Bag of words 💰"
   ]
  },
  {
   "cell_type": "markdown",
   "id": "9aa84920",
   "metadata": {
    "slideshow": {
     "slide_type": "slide"
    }
   },
   "source": [
    "### Text similarity\n",
    "\n",
    "Recall, our idea is to measure the similarity of two job titles by counting the number of shared words between the job titles. How do we actually do that, for all of the job titles we have?"
   ]
  },
  {
   "cell_type": "markdown",
   "id": "7b462b66",
   "metadata": {
    "slideshow": {
     "slide_type": "slide"
    }
   },
   "source": [
    "### A counts matrix\n",
    "\n",
    "Let's create a \"counts\" matrix, such that:\n",
    "- there is 1 row per job title,\n",
    "- there is 1 column per **unique** word that is used in job titles, and\n",
    "- the value in row `title` and column `word` is the number of occurrences of `word` in `title`."
   ]
  },
  {
   "cell_type": "markdown",
   "id": "f62f0ec6",
   "metadata": {
    "slideshow": {
     "slide_type": "slide"
    }
   },
   "source": [
    "Such a matrix might look like:\n",
    "\n",
    "| | senior | lecturer | teaching | professor | assistant | associate |\n",
    "| --- | --- | --- | --- | --- | --- | --- |\n",
    "| **senior lecturer** | 1 | 1 | 0 | 0 | 0 | 0 |\n",
    "| **assistant teaching professor** | 0 | 0 | 1 | 1 | 1 | 0 | \n",
    "| **associate professor** | 0 | 0 | 0 | 1 | 0 | 1 |\n",
    "| **senior assistant to the assistant professor** | 1 | 0 | 0 | 1 | 2 | 0 |\n",
    "\n",
    "Then, we can make statements like: \"assistant teaching professor\" is more similar to \"associate professor\" than to \"senior lecturer\"."
   ]
  },
  {
   "cell_type": "markdown",
   "id": "ea899f5b",
   "metadata": {
    "slideshow": {
     "slide_type": "slide"
    }
   },
   "source": [
    "### Creating a counts matrix\n",
    "\n",
    "First, we need to determine all words that are used across all job titles."
   ]
  },
  {
   "cell_type": "code",
   "execution_count": null,
   "id": "301d276c",
   "metadata": {
    "scrolled": true
   },
   "outputs": [],
   "source": [
    "jobtitles.str.split()"
   ]
  },
  {
   "cell_type": "code",
   "execution_count": null,
   "id": "93f63725",
   "metadata": {
    "scrolled": true
   },
   "outputs": [],
   "source": [
    "# The .explode method concats the lists together.\n",
    "all_words = jobtitles.str.split()# .explode()\n",
    "all_words"
   ]
  },
  {
   "cell_type": "markdown",
   "id": "455b1fab",
   "metadata": {
    "slideshow": {
     "slide_type": "slide"
    }
   },
   "source": [
    "Next, to determine the columns of our matrix, we need to find a list of all **unique** words used in titles. We can do this with `np.unique`, but `value_counts` shows us the distribution, which is interesting."
   ]
  },
  {
   "cell_type": "code",
   "execution_count": null,
   "id": "346850eb",
   "metadata": {},
   "outputs": [],
   "source": [
    "unique_words = all_words.value_counts()\n",
    "unique_words"
   ]
  },
  {
   "cell_type": "markdown",
   "id": "605c27fa",
   "metadata": {
    "slideshow": {
     "slide_type": "fragment"
    }
   },
   "source": [
    "Note that in `unique_words.index`, job titles are sorted by number of occurrences!"
   ]
  },
  {
   "cell_type": "markdown",
   "id": "dd9d3869",
   "metadata": {
    "slideshow": {
     "slide_type": "slide"
    }
   },
   "source": [
    "For each of the 330 unique words that are used in job titles, we can count the number of occurrences of the word in each job title.\n",
    "- `'deputy fire chief'` contains the word `'deputy'` once, the word `'fire'` once, and the word `'chief'` once.\n",
    "- `'assistant managers assistant'` contains the word `'assistant'` twice and the word `'managers'` once."
   ]
  },
  {
   "cell_type": "code",
   "execution_count": null,
   "id": "2fe1abe9",
   "metadata": {},
   "outputs": [],
   "source": [
    "# Created using a dictionary to avoid a \"DataFrame is highly fragmented\" warning.\n",
    "counts_dict = {}\n",
    "for word in unique_words.index:\n",
    "    re_pat = fr'\\b{word}\\b'\n",
    "    counts_dict[word] = jobtitles.str.count(re_pat).astype(int).tolist()\n",
    "    \n",
    "counts_df = pd.DataFrame(counts_dict).set_index(jobtitles)"
   ]
  },
  {
   "cell_type": "code",
   "execution_count": null,
   "id": "4ea26cb0",
   "metadata": {
    "scrolled": true
   },
   "outputs": [],
   "source": [
    "counts_df.head()"
   ]
  },
  {
   "cell_type": "code",
   "execution_count": null,
   "id": "ec5592f5",
   "metadata": {},
   "outputs": [],
   "source": [
    "counts_df.shape"
   ]
  },
  {
   "cell_type": "markdown",
   "id": "b11932e2",
   "metadata": {},
   "source": [
    "`counts_df` has one row for all 12831 employees, and one column for each unique word that is used in a job title.\n",
    "\n",
    "Its third row, for example, tells us that the third job title contains `'police'` once and `'assistant'` once."
   ]
  },
  {
   "cell_type": "markdown",
   "id": "59c495aa",
   "metadata": {
    "slideshow": {
     "slide_type": "slide"
    }
   },
   "source": [
    "### Bag of words\n",
    "\n",
    "- The **bag of words** model represents texts (e.g. job titles, sentences, documents) as **vectors of word counts**.\n",
    "    - The \"counts\" matrices we have worked with so far were created using the bag of words model.\n",
    "    - The bag of words model defines a **vector space** in $\\mathbb{R}^{\\text{number of unique words}}$.\n",
    "    - In the matrix on the previous slide, each **row** was a vector corresponding to a specific job title.\n",
    "- It is called \"bag of words\" because it doesn't consider **order**.\n",
    "\n",
    "<center><img src='imgs/bag-of-words.jpeg' width=45%></center>\n",
    "\n",
    "<center><a href=\"https://42f6861cgkip12ijm63i3orf-wpengine.netdna-ssl.com/wp-content/uploads/2020/12/2020-07-bagofwords.jpg\">(source)</a></center>"
   ]
  },
  {
   "cell_type": "markdown",
   "id": "7566f577",
   "metadata": {
    "slideshow": {
     "slide_type": "slide"
    }
   },
   "source": [
    "### Aside: Interactive bag of words demo\n",
    "\n",
    "Check [this](https://svelte.dev/repl/98d158ef6fb842d09c66ed20b9a31e99?version=3.55.1) site out – it automatically generates a bag of words matrix for you!\n",
    "\n",
    "<center><img src='imgs/bow-interactive.png' width=50%>(<a href=\"https://twitter.com/jdwlbr/status/1622704535511916544?s=20\">source</a>)</center>"
   ]
  },
  {
   "cell_type": "markdown",
   "id": "a7c05ead",
   "metadata": {
    "slideshow": {
     "slide_type": "slide"
    }
   },
   "source": [
    "## Cosine similarity"
   ]
  },
  {
   "cell_type": "markdown",
   "id": "c5fc9995",
   "metadata": {
    "slideshow": {
     "slide_type": "slide"
    }
   },
   "source": [
    "### Question: What job titles are most similar to `'deputy fire chief'`?"
   ]
  },
  {
   "cell_type": "markdown",
   "id": "4f40e002",
   "metadata": {
    "slideshow": {
     "slide_type": "fragment"
    }
   },
   "source": [
    "- Remember, our idea was to count the number of shared words between two job titles."
   ]
  },
  {
   "cell_type": "markdown",
   "id": "6c266535",
   "metadata": {
    "slideshow": {
     "slide_type": "fragment"
    }
   },
   "source": [
    "- We now have access to `counts_df`, which contains a row vector for each job title."
   ]
  },
  {
   "cell_type": "markdown",
   "id": "3ebf74c8",
   "metadata": {
    "slideshow": {
     "slide_type": "fragment"
    }
   },
   "source": [
    "- How can we use it to count the number of shared words between two job titles?"
   ]
  },
  {
   "cell_type": "markdown",
   "id": "3b591c62",
   "metadata": {
    "slideshow": {
     "slide_type": "slide"
    }
   },
   "source": [
    "### Counting shared words\n",
    "\n",
    "To start, let's compare the row vectors for `'deputy fire chief'` and `'fire battalion chief'`."
   ]
  },
  {
   "cell_type": "code",
   "execution_count": null,
   "id": "7a0f9731",
   "metadata": {
    "scrolled": true
   },
   "outputs": [],
   "source": [
    "dfc = counts_df.loc['deputy fire chief'].iloc[0]\n",
    "dfc"
   ]
  },
  {
   "cell_type": "code",
   "execution_count": null,
   "id": "b4b7e1bd",
   "metadata": {},
   "outputs": [],
   "source": [
    "fbc = counts_df.loc['fire battalion chief'].iloc[0]\n",
    "fbc"
   ]
  },
  {
   "cell_type": "markdown",
   "id": "59f225ee",
   "metadata": {
    "slideshow": {
     "slide_type": "fragment"
    }
   },
   "source": [
    "We can stack these two vectors horizontally."
   ]
  },
  {
   "cell_type": "code",
   "execution_count": null,
   "id": "d733e457",
   "metadata": {},
   "outputs": [],
   "source": [
    "pair_counts = (\n",
    "    pd.concat([dfc, fbc], axis=1)\n",
    "    .sort_values(by=['deputy fire chief', 'fire battalion chief'], ascending=False)\n",
    "    .head(10)\n",
    "    .T\n",
    ")\n",
    "\n",
    "pair_counts"
   ]
  },
  {
   "cell_type": "markdown",
   "id": "a994e7b7",
   "metadata": {
    "slideshow": {
     "slide_type": "fragment"
    }
   },
   "source": [
    "`'deputy fire chief'` and `'fire battalion chief'` have 2 shared words in common. One way to arrive at this result mathematically is by taking their **dot product**:"
   ]
  },
  {
   "cell_type": "code",
   "execution_count": null,
   "id": "127b7515",
   "metadata": {},
   "outputs": [],
   "source": [
    "np.dot(pair_counts.iloc[0], pair_counts.iloc[1])"
   ]
  },
  {
   "cell_type": "markdown",
   "id": "89d77592",
   "metadata": {
    "slideshow": {
     "slide_type": "slide"
    }
   },
   "source": [
    "### Recall: The dot product"
   ]
  },
  {
   "cell_type": "markdown",
   "id": "57e10289",
   "metadata": {
    "slideshow": {
     "slide_type": "fragment"
    }
   },
   "source": [
    "- Recall, if $\\vec{a} = \\begin{bmatrix} a_1 & a_2 & ... & a_n \\end{bmatrix}^T$ and $\\vec{b} = \\begin{bmatrix} b_1 & b_2 & ... & b_n \\end{bmatrix}^T$ are two vectors, then their **dot product** $\\vec{a} \\cdot \\vec{b}$ is defined as:\n",
    "\n",
    "$$\\vec{a} \\cdot \\vec{b} = a_1b_1 + a_2b_2 + ... + a_nb_n$$"
   ]
  },
  {
   "cell_type": "markdown",
   "id": "c239032a",
   "metadata": {
    "slideshow": {
     "slide_type": "fragment"
    }
   },
   "source": [
    "- The dot product also has a **geometric** interpretation. If $|\\vec{a}|$ and $|\\vec{b}|$ are the $L_2$ norms (lengths) of $\\vec{a}$ and $\\vec{b}$, and $\\theta$ is the angle between $\\vec{a}$ and $\\vec{b}$, then:\n",
    "\n",
    "$$\\vec{a} \\cdot \\vec{b} = |\\vec{a}| |\\vec{b}| \\cos \\theta$$\n",
    "\n",
    "<center><img src='imgs/dot-prod.png' width=20%>(<a href=\"https://byjus.com/physics/scalar-and-vector-products/\">source</a>)</center>"
   ]
  },
  {
   "cell_type": "markdown",
   "id": "e5d70b4b",
   "metadata": {
    "slideshow": {
     "slide_type": "fragment"
    }
   },
   "source": [
    "- $\\cos \\theta$ is equal to its maximum value (1) when $\\theta = 0$, i.e. when $\\vec{a}$ and $\\vec{b}$ point in the same direction. "
   ]
  },
  {
   "cell_type": "markdown",
   "id": "53050912",
   "metadata": {
    "slideshow": {
     "slide_type": "slide"
    }
   },
   "source": [
    "### Cosine similarity and bag of words\n",
    "\n",
    "To measure the similarity between two word vectors, instead of just counting the number of shared words, we should compute their **normalized** dot product, also known as their **cosine similarity**.\n",
    "\n",
    "$$\\cos \\theta = \\boxed{\\frac{\\vec{a} \\cdot \\vec{b}}{|\\vec{a}| | \\vec{b}|}}$$"
   ]
  },
  {
   "cell_type": "markdown",
   "id": "d98371b0",
   "metadata": {
    "slideshow": {
     "slide_type": "fragment"
    }
   },
   "source": [
    "- If all elements in $\\vec{a}$ and $\\vec{b}$ are non-negative, then $\\cos \\theta$ ranges from 0 to 1."
   ]
  },
  {
   "cell_type": "markdown",
   "id": "a9666f1a",
   "metadata": {
    "slideshow": {
     "slide_type": "fragment"
    }
   },
   "source": [
    "- 🚨 **Key idea: The larger $\\cos \\theta$ is, the more similar the two vectors are!**"
   ]
  },
  {
   "cell_type": "markdown",
   "id": "b7ca42d5",
   "metadata": {
    "slideshow": {
     "slide_type": "fragment"
    }
   },
   "source": [
    "- **It is important to normalize by the lengths of the vectors**, otherwise texts with more words will have artificially high similarities with other texts."
   ]
  },
  {
   "cell_type": "markdown",
   "id": "8ea9cff9",
   "metadata": {
    "slideshow": {
     "slide_type": "slide"
    }
   },
   "source": [
    "### Normalizing\n",
    "\n",
    "$$\\cos \\theta = \\boxed{\\frac{\\vec{a} \\cdot \\vec{b}}{|\\vec{a}| | \\vec{b}|}}$$"
   ]
  },
  {
   "cell_type": "markdown",
   "id": "d8b747d5",
   "metadata": {
    "slideshow": {
     "slide_type": "fragment"
    }
   },
   "source": [
    "- Why can't we just use the dot product – that is, why must we divide by $|\\vec{a}| | \\vec{b}|$?"
   ]
  },
  {
   "cell_type": "markdown",
   "id": "180c8403",
   "metadata": {
    "slideshow": {
     "slide_type": "fragment"
    }
   },
   "source": [
    "- Consider the following example:\n",
    "\n",
    "| | big | data | science | \n",
    "| --- | --- | --- | --- |\n",
    "| **big big big big data** | 4 | 1 | 0 |\n",
    "| **big data science** | 1 | 1 | 1 |\n",
    "| **science big data** | 1 | 1 | 1 |"
   ]
  },
  {
   "cell_type": "markdown",
   "id": "8c6ccbbc",
   "metadata": {
    "slideshow": {
     "slide_type": "fragment"
    }
   },
   "source": [
    "| Pair | Dot Product | Cosine Similarity |\n",
    "| --- | --- | --- |\n",
    "| **big data science** and **big big big big data** | 5 | 0.7001 |\n",
    "| **big data science** and **science big data** | 3 | 1 |"
   ]
  },
  {
   "cell_type": "markdown",
   "id": "4fbceb3b",
   "metadata": {
    "slideshow": {
     "slide_type": "fragment"
    }
   },
   "source": [
    "- `'big big big big data'` has a large dot product with `'big data science'` just because it has the word `'big'` four times. But intuitively, `'big data science'` and `'science big data'` should be as similar as possible, since they're permutations of the same sentence."
   ]
  },
  {
   "cell_type": "markdown",
   "id": "762b4865",
   "metadata": {
    "slideshow": {
     "slide_type": "fragment"
    }
   },
   "source": [
    "- **So, make sure to compute the cosine similarity – don't just use the dot product!**"
   ]
  },
  {
   "cell_type": "markdown",
   "id": "7906fca2",
   "metadata": {
    "slideshow": {
     "slide_type": "slide"
    }
   },
   "source": [
    "**Note**: Sometimes, you will see the **cosine distance** being used. It is the complement of cosine similarity:\n",
    "  \n",
    "  $$\\text{dist}(\\vec{a}, \\vec{b}) = 1 - \\cos \\theta$$\n",
    "  \n",
    "If $\\text{dist}(\\vec{a}, \\vec{b})$ is small, the two word vectors are similar."
   ]
  },
  {
   "cell_type": "markdown",
   "id": "bbef9257",
   "metadata": {
    "slideshow": {
     "slide_type": "slide"
    }
   },
   "source": [
    "### A recipe for computing similarities\n",
    "\n",
    "Given a set of documents, to find the **most similar** text to one _document_ $d$ in particular:"
   ]
  },
  {
   "cell_type": "markdown",
   "id": "ae864d51",
   "metadata": {
    "slideshow": {
     "slide_type": "fragment"
    }
   },
   "source": [
    "- Use the bag of words model to create a counts matrix, in which:\n",
    "    - there is 1 row per document,\n",
    "    - there is 1 column per **unique** word that is used across documents, and\n",
    "    - the value in row `doc` and column `word` is the number of occurrences of `word` in `doc`."
   ]
  },
  {
   "cell_type": "markdown",
   "id": "fd5fc9b5",
   "metadata": {
    "slideshow": {
     "slide_type": "fragment"
    }
   },
   "source": [
    "- Compute the cosine similarity between $d$'s row vector and all other documents' row vectors."
   ]
  },
  {
   "cell_type": "markdown",
   "id": "2e2fb42e",
   "metadata": {
    "slideshow": {
     "slide_type": "fragment"
    }
   },
   "source": [
    "- The other document with the greatest cosine similarity is the most similar, under the bag of words model."
   ]
  },
  {
   "cell_type": "markdown",
   "id": "81897bc1",
   "metadata": {
    "slideshow": {
     "slide_type": "slide"
    }
   },
   "source": [
    "### Example: Global warming 🌎\n",
    "\n",
    "Consider the following three documents."
   ]
  },
  {
   "cell_type": "code",
   "execution_count": null,
   "id": "605cfd0a",
   "metadata": {},
   "outputs": [],
   "source": [
    "sentences = pd.Series([\n",
    "    'I really really want global peace',\n",
    "    'I must enjoy global warming',\n",
    "    'We must solve climate change'\n",
    "])\n",
    "\n",
    "sentences"
   ]
  },
  {
   "cell_type": "markdown",
   "id": "d4b1a1e4",
   "metadata": {
    "slideshow": {
     "slide_type": "fragment"
    }
   },
   "source": [
    "Let's represent each document using the bag of words model."
   ]
  },
  {
   "cell_type": "code",
   "execution_count": null,
   "id": "3c8f0768",
   "metadata": {},
   "outputs": [],
   "source": [
    "unique_words = sentences.str.split().explode().value_counts()\n",
    "unique_words"
   ]
  },
  {
   "cell_type": "code",
   "execution_count": null,
   "id": "c734f4f1",
   "metadata": {},
   "outputs": [],
   "source": [
    "counts_dict = {}\n",
    "for word in unique_words.index:\n",
    "    re_pat = fr'\\b{word}\\b'\n",
    "    counts_dict[word] = sentences.str.count(re_pat).astype(int).tolist()\n",
    "    \n",
    "counts_df = pd.DataFrame(counts_dict).set_index(sentences)"
   ]
  },
  {
   "cell_type": "code",
   "execution_count": null,
   "id": "4ec7b9ef",
   "metadata": {},
   "outputs": [],
   "source": [
    "counts_df"
   ]
  },
  {
   "cell_type": "markdown",
   "id": "cf36677a",
   "metadata": {
    "slideshow": {
     "slide_type": "slide"
    }
   },
   "source": [
    "Let's now find the cosine similarity between each document."
   ]
  },
  {
   "cell_type": "code",
   "execution_count": null,
   "id": "8c87ee7b",
   "metadata": {},
   "outputs": [],
   "source": [
    "counts_df"
   ]
  },
  {
   "cell_type": "code",
   "execution_count": null,
   "id": "a3b30ae8",
   "metadata": {},
   "outputs": [],
   "source": [
    "def sim_pair(s1, s2):\n",
    "    return np.dot(s1, s2) / (np.linalg.norm(s1) * np.linalg.norm(s2))"
   ]
  },
  {
   "cell_type": "code",
   "execution_count": null,
   "id": "66f77468",
   "metadata": {},
   "outputs": [],
   "source": [
    "# Look at the documentation of the .corr method to see how this works!\n",
    "counts_df.T.corr(sim_pair)"
   ]
  },
  {
   "cell_type": "markdown",
   "id": "25ee569a",
   "metadata": {
    "slideshow": {
     "slide_type": "fragment"
    }
   },
   "source": [
    "**Issue**: Bag of words only encodes the **words** that each document uses, not their **meanings**.\n",
    "- \"I really really want global peace\" and \"We must solve climate change\" have similar meanings, but have no shared words, and thus a low cosine similarity.\n",
    "- \"I really really want global peace\" and \"I must enjoy global warming\" have very different meanings, but a relatively high cosine similarity."
   ]
  },
  {
   "cell_type": "markdown",
   "id": "4de88443",
   "metadata": {
    "slideshow": {
     "slide_type": "slide"
    }
   },
   "source": [
    "### Pitfalls of the bag of words model\n",
    "\n",
    "Remember, the key assumption underlying the bag of words model is that **two documents are similar if they share many words in common**."
   ]
  },
  {
   "cell_type": "markdown",
   "id": "56269c21",
   "metadata": {
    "slideshow": {
     "slide_type": "fragment"
    }
   },
   "source": [
    "- The bag of words model doesn't consider **order**.\n",
    "    - The job titles `'deputy fire chief'` and `'chief fire deputy'` are treated as the same."
   ]
  },
  {
   "cell_type": "markdown",
   "id": "98c381e3",
   "metadata": {
    "slideshow": {
     "slide_type": "fragment"
    }
   },
   "source": [
    "- The bag of words model doesn't consider the **meaning** of words.\n",
    "    - `'I love data science'` and `'I hate data science'` share 75% of their words, but have very different meanings."
   ]
  },
  {
   "cell_type": "markdown",
   "id": "581ff486",
   "metadata": {
    "slideshow": {
     "slide_type": "fragment"
    }
   },
   "source": [
    "- The bag of words model treats all words as being equally important.\n",
    "    - `'deputy'` and `'fire'` have the same importance, even though `'fire'` is probably more important in describing someone's job title.\n",
    "    - <span style=\"color:red\"><b>Let's address this point.</b></span>"
   ]
  },
  {
   "cell_type": "markdown",
   "id": "5624baf9",
   "metadata": {
    "slideshow": {
     "slide_type": "slide"
    }
   },
   "source": [
    "<div class=\"alert alert-warning\">\n",
    "    <h3>Question 🤔 (Answer at <a href=\"https://docs.google.com/forms/d/e/1FAIpQLScWbVZv9hBv-wX-ItKHUVRnkPMMtfJZVfErKE9GS7_8dFcRBQ/viewform\">q.dsc80.com)</h3>\n",
    "</div>\n",
    "        \n",
    "From the Fa23 final:\n",
    "        \n",
    "Consider the following corpus:\n",
    "\n",
    "```\n",
    "Document number Content\n",
    "1               yesterday rainy today sunny\n",
    "2               yesterday sunny today sunny\n",
    "3               today rainy yesterday today\n",
    "4               yesterday yesterday today today\n",
    "```\n",
    "        \n",
    "**Using a bag-of-words representation, which two documents have the largest dot product?**\n",
    "    \n",
    "**Using a bag-of-words representation, what is the cosine similarity between documents 2 and 3?**"
   ]
  },
  {
   "cell_type": "markdown",
   "id": "08543520",
   "metadata": {
    "slideshow": {
     "slide_type": "slide"
    }
   },
   "source": [
    "## TF-IDF"
   ]
  },
  {
   "cell_type": "markdown",
   "id": "1fcc3cdc",
   "metadata": {
    "slideshow": {
     "slide_type": "slide"
    }
   },
   "source": [
    "### The importance of words\n",
    "\n",
    "**Issue**: The bag of words model doesn't know which words are \"important\" in a document. Consider the following document:\n",
    "\n",
    "<center>\"my brother has a friend named <b>billy</b> who has an uncle named <b>billy</b>\"</center>\n",
    "\n",
    "How do we determine which words are important?\n",
    "- The most common words (\"the\", \"has\") often **don't** have much meaning!\n",
    "- The very rare words are also less important!\n",
    "\n",
    "**Goal**: Find a way of quantifying the importance of a word in a document by **balancing the above two factors**, i.e. find the word that **best summarizes** a document."
   ]
  },
  {
   "cell_type": "markdown",
   "id": "fe4d0ca0",
   "metadata": {
    "slideshow": {
     "slide_type": "slide"
    }
   },
   "source": [
    "### Term frequency"
   ]
  },
  {
   "cell_type": "markdown",
   "id": "a3ac1321",
   "metadata": {
    "slideshow": {
     "slide_type": "fragment"
    }
   },
   "source": [
    "- The **term frequency** of a word (term) $t$ in a document $d$, denoted $\\text{tf}(t, d)$ is the proportion of words in document $d$ that are equal to $t$.\n",
    "\n",
    "$$\\text{tf}(t, d) = \\frac{\\text{# of occurrences of $t$ in $d$}}{\\text{total # of words in $d$}}$$"
   ]
  },
  {
   "cell_type": "markdown",
   "id": "0fef7a95",
   "metadata": {
    "slideshow": {
     "slide_type": "fragment"
    }
   },
   "source": [
    "- **Example**: What is the term frequency of \"billy\" in the following document?\n",
    "\n",
    "<center>\"my brother has a friend named <b>billy</b> who has an uncle named <b>billy</b>\"</center>"
   ]
  },
  {
   "cell_type": "markdown",
   "id": "b80c6b4c",
   "metadata": {
    "slideshow": {
     "slide_type": "fragment"
    }
   },
   "source": [
    "- **Answer**: $\\frac{2}{13}$."
   ]
  },
  {
   "cell_type": "markdown",
   "id": "ff48fdf0",
   "metadata": {
    "slideshow": {
     "slide_type": "fragment"
    }
   },
   "source": [
    "- Intuition: Words that occur often within a document are important to the document's meaning.\n",
    "    - If $\\text{tf}(t, d)$ is large, then word $t$ occurs often in $d$.\n",
    "    - If $\\text{tf}(t, d)$ is small, then word $t$ does not occur often $d$."
   ]
  },
  {
   "cell_type": "markdown",
   "id": "ea2459d3",
   "metadata": {
    "slideshow": {
     "slide_type": "fragment"
    }
   },
   "source": [
    "- Issue: \"has\" also has a TF of $\\frac{2}{13}$, but it seems less important than \"billy\"."
   ]
  },
  {
   "cell_type": "markdown",
   "id": "8d0cb0c8",
   "metadata": {
    "slideshow": {
     "slide_type": "slide"
    }
   },
   "source": [
    "### Inverse document frequency"
   ]
  },
  {
   "cell_type": "markdown",
   "id": "e3efcff6",
   "metadata": {
    "slideshow": {
     "slide_type": "fragment"
    }
   },
   "source": [
    "- The **inverse document frequency** of a word $t$ in a set of documents $d_1, d_2, ...$ is\n",
    "\n",
    "$$\\text{idf}(t) = \\log \\left(\\frac{\\text{total # of documents}}{\\text{# of documents in which $t$ appears}} \\right)$$"
   ]
  },
  {
   "cell_type": "markdown",
   "id": "d840ab39",
   "metadata": {
    "slideshow": {
     "slide_type": "fragment"
    }
   },
   "source": [
    "- **Example**: What is the inverse document frequency of \"billy\" in the following three documents?\n",
    "    - \"my brother has a friend named **billy** who has an uncle named **billy**\"\n",
    "    - \"my favorite artist is named jilly boel\"\n",
    "    - \"why does he talk about someone named **billy** so often\""
   ]
  },
  {
   "cell_type": "markdown",
   "id": "29facdf5",
   "metadata": {
    "slideshow": {
     "slide_type": "fragment"
    }
   },
   "source": [
    "- **Answer**: $\\log \\left(\\frac{3}{2}\\right) \\approx 0.4055$."
   ]
  },
  {
   "cell_type": "markdown",
   "id": "620f903d",
   "metadata": {
    "slideshow": {
     "slide_type": "fragment"
    }
   },
   "source": [
    "- Intuition: If a word appears in every document (like \"the\" or \"has\"), it is probably not a good summary of any one document.\n",
    "    - If $\\text{idf}(t)$ is large, then $t$ is rarely found in documents.\n",
    "    - If $\\text{idf}(t)$ is small, then $t$ is commonly found in documents.\n",
    "    - Think of $\\text{idf}(t)$ as the \"rarity factor\" of $t$ across documents – the larger $\\text{idf}(t)$ is, the more rare $t$ is."
   ]
  },
  {
   "cell_type": "markdown",
   "id": "6e5ce4c2",
   "metadata": {
    "slideshow": {
     "slide_type": "slide"
    }
   },
   "source": [
    "### Intuition\n",
    "\n",
    "$$\\text{tf}(t, d) = \\frac{\\text{# of occurrences of $t$ in $d$}}{\\text{total # of words in $d$}}$$\n",
    "\n",
    "$$\\text{idf}(t) = \\log \\left(\\frac{\\text{total # of documents}}{\\text{# of documents in which $t$ appears}} \\right)$$\n",
    "\n",
    "**Goal**: Quantify how well word $t$ **summarizes** document $d$."
   ]
  },
  {
   "cell_type": "markdown",
   "id": "85340f86",
   "metadata": {
    "slideshow": {
     "slide_type": "fragment"
    }
   },
   "source": [
    "- If $\\text{tf}(t, d)$ is small, then $t$ doesn't occur very often in $d$, so $t$ can't be a good summary of $d$."
   ]
  },
  {
   "cell_type": "markdown",
   "id": "872022dd",
   "metadata": {
    "slideshow": {
     "slide_type": "fragment"
    }
   },
   "source": [
    "- If $\\text{idf}(t)$ is small, then $t$ occurs often amongst all documents, and so it is not a good summary of any one document."
   ]
  },
  {
   "cell_type": "markdown",
   "id": "5f0e02ec",
   "metadata": {
    "slideshow": {
     "slide_type": "fragment"
    }
   },
   "source": [
    "- If $\\text{tf}(t, d)$ and $\\text{idf}(t)$ are both large, then **$t$ occurs often in $d$ but rarely overall**. This makes $t$ **a good summary** of document $d$."
   ]
  },
  {
   "cell_type": "markdown",
   "id": "ac3c7776",
   "metadata": {
    "slideshow": {
     "slide_type": "slide"
    }
   },
   "source": [
    "### Term frequency-inverse document frequency\n",
    "\n",
    "The **term frequency-inverse document frequency (TF-IDF)** of word $t$ in document $d$ is the product:\n",
    "\n",
    "$$\n",
    "\\begin{align*}\\text{tfidf}(t, d) &= \\text{tf}(t, d) \\cdot \\text{idf}(t) \\\\\\ &= \\frac{\\text{# of occurrences of $t$ in $d$}}{\\text{total # of words in $d$}} \\cdot \\log \\left(\\frac{\\text{total # of documents}}{\\text{# of documents in which $t$ appears}} \\right) \\end{align*} $$"
   ]
  },
  {
   "cell_type": "markdown",
   "id": "a4551a16",
   "metadata": {
    "slideshow": {
     "slide_type": "fragment"
    }
   },
   "source": [
    "- If $\\text{tfidf}(t, d)$ is large, then $t$ is a good summary of $d$, because $t$ occurs often in $d$ but rarely across all documents."
   ]
  },
  {
   "cell_type": "markdown",
   "id": "872d2b3c",
   "metadata": {
    "slideshow": {
     "slide_type": "fragment"
    }
   },
   "source": [
    "- TF-IDF is a **heuristic** – it has no probabilistic justification."
   ]
  },
  {
   "cell_type": "markdown",
   "id": "ffdbf3fd",
   "metadata": {
    "slideshow": {
     "slide_type": "fragment"
    }
   },
   "source": [
    "- To know if $\\text{tfidf}(t, d)$ is large for one particular word $t$, we need to compare it to $\\text{tfidf}(t_i, d)$, for several different words $t_i$."
   ]
  },
  {
   "cell_type": "markdown",
   "id": "ef231326",
   "metadata": {
    "slideshow": {
     "slide_type": "slide"
    }
   },
   "source": [
    "### Computing TF-IDF\n",
    "\n",
    "**Question**: What is the TF-IDF of \"global\" in the second sentence?"
   ]
  },
  {
   "cell_type": "code",
   "execution_count": null,
   "id": "3d8388d4",
   "metadata": {},
   "outputs": [],
   "source": [
    "sentences"
   ]
  },
  {
   "cell_type": "markdown",
   "id": "e83e7306",
   "metadata": {
    "slideshow": {
     "slide_type": "fragment"
    }
   },
   "source": [
    "**Answer**:"
   ]
  },
  {
   "cell_type": "code",
   "execution_count": null,
   "id": "2d4f0604",
   "metadata": {},
   "outputs": [],
   "source": [
    "tf = sentences.iloc[1].count('global') / len(sentences.iloc[1].split())\n",
    "tf"
   ]
  },
  {
   "cell_type": "code",
   "execution_count": null,
   "id": "45953f0b",
   "metadata": {
    "scrolled": true
   },
   "outputs": [],
   "source": [
    "idf = np.log(len(sentences) / sentences.str.contains('global').sum())\n",
    "idf"
   ]
  },
  {
   "cell_type": "code",
   "execution_count": null,
   "id": "0b0989da",
   "metadata": {},
   "outputs": [],
   "source": [
    "tf * idf"
   ]
  },
  {
   "cell_type": "markdown",
   "id": "da3e1607",
   "metadata": {
    "slideshow": {
     "slide_type": "fragment"
    }
   },
   "source": [
    "**Question**: Is this big or small? Is \"global\" the **best** summary of the second sentence?"
   ]
  },
  {
   "cell_type": "markdown",
   "id": "63af81a4",
   "metadata": {
    "slideshow": {
     "slide_type": "slide"
    }
   },
   "source": [
    "### TF-IDF of all words in all documents\n",
    "\n",
    "On its own, the TF-IDF of a word in a document doesn't really tell us anything; we must compare it to TF-IDFs of other words in that same document."
   ]
  },
  {
   "cell_type": "code",
   "execution_count": null,
   "id": "a212905a",
   "metadata": {
    "scrolled": true
   },
   "outputs": [],
   "source": [
    "sentences"
   ]
  },
  {
   "cell_type": "code",
   "execution_count": null,
   "id": "405eab7e",
   "metadata": {},
   "outputs": [],
   "source": [
    "unique_words = np.unique(sentences.str.split().explode())\n",
    "unique_words"
   ]
  },
  {
   "cell_type": "code",
   "execution_count": null,
   "id": "801c8e8c",
   "metadata": {},
   "outputs": [],
   "source": [
    "tfidf_dict = {}\n",
    "\n",
    "for word in unique_words:\n",
    "    re_pat = fr'\\b{word}\\b'\n",
    "    tf = sentences.str.count(re_pat) / sentences.str.split().str.len()\n",
    "    idf = np.log(len(sentences) / sentences.str.contains(re_pat).sum())\n",
    "    tfidf_dict[word] = tf * idf\n",
    "    \n",
    "tfidf = pd.DataFrame(tfidf_dict).set_index(sentences)"
   ]
  },
  {
   "cell_type": "code",
   "execution_count": null,
   "id": "6a00f89d",
   "metadata": {
    "scrolled": true
   },
   "outputs": [],
   "source": [
    "tfidf"
   ]
  },
  {
   "cell_type": "markdown",
   "id": "8d39de10",
   "metadata": {
    "slideshow": {
     "slide_type": "slide"
    }
   },
   "source": [
    "### Interpreting TF-IDFs"
   ]
  },
  {
   "cell_type": "code",
   "execution_count": null,
   "id": "9b7e5f3b",
   "metadata": {},
   "outputs": [],
   "source": [
    "display_df(tfidf, cols=12)"
   ]
  },
  {
   "cell_type": "markdown",
   "id": "734cadb3",
   "metadata": {
    "slideshow": {
     "slide_type": "fragment"
    }
   },
   "source": [
    "The above DataFrame tells us that:\n",
    "- the TF-IDF of `'really'` in the first sentence is $\\approx$ 0.37,\n",
    "- the TF-IDF of `'climate'` in the second sentence is 0."
   ]
  },
  {
   "cell_type": "markdown",
   "id": "8cafb1ed",
   "metadata": {
    "slideshow": {
     "slide_type": "fragment"
    }
   },
   "source": [
    "Note that there are two ways that $\\text{tfidf}(t, d) = \\text{tf}(t, d) \\cdot \\text{idf}(t)$ can be 0:\n",
    "- If $t$ appears in every document, because then $\\text{idf}(t) = \\log (\\frac{\\text{# documents}}{\\text{# documents}}) = \\log(1) = 0$.\n",
    "- If $t$ does not appear in document $d$, because then $\\text{tf}(t, d) = \\frac{0}{\\text{len}(d)} = 0$."
   ]
  },
  {
   "cell_type": "markdown",
   "id": "b6af48d5",
   "metadata": {
    "slideshow": {
     "slide_type": "fragment"
    }
   },
   "source": [
    "The word that **best summarizes** a document is the word with the highest TF-IDF for that document:"
   ]
  },
  {
   "cell_type": "code",
   "execution_count": null,
   "id": "bd64c300",
   "metadata": {},
   "outputs": [],
   "source": [
    "display_df(tfidf, cols=12)"
   ]
  },
  {
   "cell_type": "code",
   "execution_count": null,
   "id": "06e9cc13",
   "metadata": {},
   "outputs": [],
   "source": [
    "tfidf.idxmax(axis=1)"
   ]
  },
  {
   "cell_type": "markdown",
   "id": "804d8e94",
   "metadata": {},
   "source": [
    "Look closely at the rows of `tfidf` – in documents 2 and 3, the max TF-IDF is not unique!"
   ]
  },
  {
   "cell_type": "markdown",
   "id": "2e03e7f8",
   "metadata": {
    "slideshow": {
     "slide_type": "slide"
    }
   },
   "source": [
    "<div class=\"alert alert-warning\">\n",
    "    <h3>Question 🤔 (Answer at <a href=\"https://docs.google.com/forms/d/e/1FAIpQLScWbVZv9hBv-wX-ItKHUVRnkPMMtfJZVfErKE9GS7_8dFcRBQ/viewform\">q.dsc80.com)</h3>\n",
    "</div>\n",
    "    \n",
    "What questions do you have?"
   ]
  },
  {
   "cell_type": "markdown",
   "id": "3b92963d",
   "metadata": {
    "slideshow": {
     "slide_type": "slide"
    }
   },
   "source": [
    "## Example: State of the Union addresses 🎤"
   ]
  },
  {
   "cell_type": "markdown",
   "id": "b980d913",
   "metadata": {
    "slideshow": {
     "slide_type": "slide"
    }
   },
   "source": [
    "### State of the Union addresses\n",
    "\n",
    "The 2024 State of the Union address was on be on March 7th, 2024; last year's was on February 7th, 2023."
   ]
  },
  {
   "cell_type": "code",
   "execution_count": null,
   "id": "3d40e0a9",
   "metadata": {
    "slideshow": {
     "slide_type": "-"
    }
   },
   "outputs": [],
   "source": [
    "from IPython.display import YouTubeVideo\n",
    "YouTubeVideo('gzcBTUvVp7M')"
   ]
  },
  {
   "cell_type": "markdown",
   "id": "6ec32713",
   "metadata": {
    "slideshow": {
     "slide_type": "slide"
    }
   },
   "source": [
    "### The data"
   ]
  },
  {
   "cell_type": "code",
   "execution_count": null,
   "id": "2db49b0d",
   "metadata": {},
   "outputs": [],
   "source": [
    "from pathlib import Path\n",
    "sotu_txt = Path('data') / 'stateoftheunion1790-2023.txt'\n",
    "sotu = sotu_txt.read_text()"
   ]
  },
  {
   "cell_type": "code",
   "execution_count": null,
   "id": "05569714",
   "metadata": {},
   "outputs": [],
   "source": [
    "len(sotu)"
   ]
  },
  {
   "cell_type": "markdown",
   "id": "66057eca",
   "metadata": {},
   "source": [
    "The entire **corpus** (another word for \"set of documents\") is over 10 million characters long... let's not display it in our notebook."
   ]
  },
  {
   "cell_type": "code",
   "execution_count": null,
   "id": "a987af22",
   "metadata": {
    "scrolled": true
   },
   "outputs": [],
   "source": [
    "print(sotu[:1600])"
   ]
  },
  {
   "cell_type": "markdown",
   "id": "e9a60c4f",
   "metadata": {},
   "source": [
    "Each speech is separated by `'***'`."
   ]
  },
  {
   "cell_type": "code",
   "execution_count": null,
   "id": "06d60dfa",
   "metadata": {},
   "outputs": [],
   "source": [
    "speeches = sotu.split('\\n***\\n')[1:]"
   ]
  },
  {
   "cell_type": "code",
   "execution_count": null,
   "id": "5eca0971",
   "metadata": {},
   "outputs": [],
   "source": [
    "len(speeches)"
   ]
  },
  {
   "cell_type": "markdown",
   "id": "9723eec4",
   "metadata": {},
   "source": [
    "Note that each \"speech\" currently contains other information, like the name of the president and the date of the address."
   ]
  },
  {
   "cell_type": "code",
   "execution_count": null,
   "id": "818f52e7",
   "metadata": {
    "scrolled": false
   },
   "outputs": [],
   "source": [
    "print(speeches[-1][:1000])"
   ]
  },
  {
   "cell_type": "markdown",
   "id": "dea89846",
   "metadata": {
    "slideshow": {
     "slide_type": "slide"
    }
   },
   "source": [
    "Let's extract just the speech text."
   ]
  },
  {
   "cell_type": "code",
   "execution_count": null,
   "id": "fa932c66",
   "metadata": {},
   "outputs": [],
   "source": [
    "import re\n",
    "def extract_struct(speech):\n",
    "    L = speech.strip().split('\\n', maxsplit=3)\n",
    "    L[3] = re.sub(r\"[^A-Za-z' ]\", ' ', L[3]).lower()\n",
    "    return dict(zip(['speech', 'president', 'date', 'contents'], L))"
   ]
  },
  {
   "cell_type": "code",
   "execution_count": null,
   "id": "9f5438e6",
   "metadata": {
    "scrolled": true
   },
   "outputs": [],
   "source": [
    "speeches_df = pd.DataFrame(list(map(extract_struct, speeches)))\n",
    "speeches_df"
   ]
  },
  {
   "cell_type": "markdown",
   "id": "6df1fade",
   "metadata": {
    "slideshow": {
     "slide_type": "slide"
    }
   },
   "source": [
    "### Finding the most important words in each speech\n",
    "\n",
    "Here, a \"document\" is a speech. We have 233 documents."
   ]
  },
  {
   "cell_type": "code",
   "execution_count": null,
   "id": "cf5a1d64",
   "metadata": {},
   "outputs": [],
   "source": [
    "speeches_df"
   ]
  },
  {
   "cell_type": "markdown",
   "id": "926bcc2d",
   "metadata": {},
   "source": [
    "A rough sketch of what we'll compute:\n",
    "\n",
    "```\n",
    "for each word t:\n",
    "    for each speech d:\n",
    "        compute tfidf(t, d)\n",
    "```"
   ]
  },
  {
   "cell_type": "code",
   "execution_count": null,
   "id": "43d40a25",
   "metadata": {},
   "outputs": [],
   "source": [
    "unique_words = speeches_df['contents'].str.split().explode().value_counts()\n",
    "# Take the top 500 most common words for speed\n",
    "unique_words = unique_words.iloc[:500].index\n",
    "unique_words"
   ]
  },
  {
   "cell_type": "markdown",
   "id": "c96cdc6e",
   "metadata": {
    "slideshow": {
     "slide_type": "slide"
    }
   },
   "source": [
    "### 💡 Pro-Tip: Using `tqdm`\n",
    "\n",
    "This code takes a while to run, so we'll use the `tdqm` package to track its progress. (Install with `mamba install tqdm` if needed)."
   ]
  },
  {
   "cell_type": "code",
   "execution_count": null,
   "id": "1451a252",
   "metadata": {},
   "outputs": [],
   "source": [
    "from tqdm.notebook import tqdm\n",
    "\n",
    "tfidf_dict = {}\n",
    "tf_denom = speeches_df['contents'].str.split().str.len()\n",
    "\n",
    "# Wrap the sequence with `tqdm()` to display a progress bar\n",
    "for word in tqdm(unique_words):\n",
    "    re_pat = fr' {word} ' # Imperfect pattern for speed.\n",
    "    tf = speeches_df['contents'].str.count(re_pat) / tf_denom\n",
    "    idf = np.log(len(speeches_df) / speeches_df['contents'].str.contains(re_pat).sum())\n",
    "    tfidf_dict[word] =  tf * idf"
   ]
  },
  {
   "cell_type": "code",
   "execution_count": null,
   "id": "de1a8867",
   "metadata": {},
   "outputs": [],
   "source": [
    "tfidf = pd.DataFrame(tfidf_dict)\n",
    "tfidf.head()"
   ]
  },
  {
   "cell_type": "markdown",
   "id": "d2f34b9e",
   "metadata": {},
   "source": [
    "Note that the TF-IDFs of many common words are all 0!"
   ]
  },
  {
   "cell_type": "markdown",
   "id": "7c15f5bf",
   "metadata": {
    "slideshow": {
     "slide_type": "slide"
    }
   },
   "source": [
    "### Summarizing speeches\n",
    "\n",
    "By using `idxmax`, we can find the word with the highest TF-IDF in each speech."
   ]
  },
  {
   "cell_type": "code",
   "execution_count": null,
   "id": "42b7f2f9",
   "metadata": {},
   "outputs": [],
   "source": [
    "summaries = tfidf.idxmax(axis=1)\n",
    "summaries"
   ]
  },
  {
   "cell_type": "markdown",
   "id": "4aad3811",
   "metadata": {},
   "source": [
    "What if we want to see the 5 words with the highest TF-IDFs, for each speech?"
   ]
  },
  {
   "cell_type": "code",
   "execution_count": null,
   "id": "0dbdd477",
   "metadata": {},
   "outputs": [],
   "source": [
    "def five_largest(row):\n",
    "    return ', '.join(row.index[row.argsort()][-5:])"
   ]
  },
  {
   "cell_type": "code",
   "execution_count": null,
   "id": "e1af340d",
   "metadata": {},
   "outputs": [],
   "source": [
    "keywords = tfidf.apply(five_largest, axis=1)\n",
    "keywords_df = pd.concat([\n",
    "    speeches_df['president'],\n",
    "    speeches_df['date'],\n",
    "    keywords\n",
    "], axis=1)"
   ]
  },
  {
   "cell_type": "code",
   "execution_count": null,
   "id": "e06fddcf",
   "metadata": {},
   "outputs": [],
   "source": [
    "keywords_df"
   ]
  },
  {
   "cell_type": "markdown",
   "id": "7762dd5e",
   "metadata": {},
   "source": [
    "Uncomment the cell below to see every single row of `keywords_df`."
   ]
  },
  {
   "cell_type": "code",
   "execution_count": null,
   "id": "bf737b3a",
   "metadata": {
    "scrolled": false
   },
   "outputs": [],
   "source": [
    "# display_df(keywords_df, rows=233)"
   ]
  },
  {
   "cell_type": "markdown",
   "id": "847a013b",
   "metadata": {
    "slideshow": {
     "slide_type": "slide"
    }
   },
   "source": [
    "### Aside: What if we remove the $\\log$ from $\\text{idf}(t)$?\n",
    "\n",
    "Let's try it and see what happens."
   ]
  },
  {
   "cell_type": "code",
   "execution_count": null,
   "id": "c7cfb892",
   "metadata": {},
   "outputs": [],
   "source": [
    "tfidf_nl_dict = {}\n",
    "tf_denom = speeches_df['contents'].str.split().str.len()\n",
    "\n",
    "for word in tqdm(unique_words):\n",
    "    re_pat = fr' {word} ' # Imperfect pattern for speed.\n",
    "    tf = speeches_df['contents'].str.count(re_pat) / tf_denom\n",
    "    idf_nl = len(speeches_df) / speeches_df['contents'].str.contains(re_pat).sum()\n",
    "    tfidf_nl_dict[word] =  tf * idf_nl"
   ]
  },
  {
   "cell_type": "code",
   "execution_count": null,
   "id": "dbdd2a40",
   "metadata": {},
   "outputs": [],
   "source": [
    "tfidf_nl = pd.DataFrame(tfidf_nl_dict)\n",
    "tfidf_nl.head()"
   ]
  },
  {
   "cell_type": "code",
   "execution_count": null,
   "id": "b54838d1",
   "metadata": {},
   "outputs": [],
   "source": [
    "keywords_nl = tfidf_nl.apply(five_largest, axis=1)\n",
    "keywords_nl_df = pd.concat([\n",
    "    speeches_df['president'],\n",
    "    speeches_df['date'],\n",
    "    keywords_nl\n",
    "], axis=1)\n",
    "keywords_nl_df"
   ]
  },
  {
   "cell_type": "markdown",
   "id": "a64da969",
   "metadata": {
    "slideshow": {
     "slide_type": "slide"
    }
   },
   "source": [
    "### The role of $\\log$ in $\\text{idf}(t)$\n",
    "\n",
    "$$\n",
    "\\begin{align*}\\text{tfidf}(t, d) &= \\text{tf}(t, d) \\cdot \\text{idf}(t) \\\\\\ &= \\frac{\\text{# of occurrences of $t$ in $d$}}{\\text{total # of words in $d$}} \\cdot \\log \\left(\\frac{\\text{total # of documents}}{\\text{# of documents in which $t$ appears}} \\right) \\end{align*} $$\n",
    "- Remember, for any positive input $x$, $\\log(x)$ is (much) smaller than $x$.\n",
    "- In $\\text{idf}(t)$, the $\\log$ \"dampens\" the impact of the ratio $\\frac{\\text{# documents}}{\\text{# documents with $t$}}$."
   ]
  },
  {
   "cell_type": "markdown",
   "id": "5d012ae6",
   "metadata": {
    "slideshow": {
     "slide_type": "fragment"
    }
   },
   "source": [
    "- If a word is very common, the ratio will be close to 1. The log of the ratio will be close to 0."
   ]
  },
  {
   "cell_type": "code",
   "execution_count": null,
   "id": "a46db591",
   "metadata": {},
   "outputs": [],
   "source": [
    "(1000 / 999)"
   ]
  },
  {
   "cell_type": "code",
   "execution_count": null,
   "id": "58dc22dd",
   "metadata": {},
   "outputs": [],
   "source": [
    "np.log(1000 / 999)"
   ]
  },
  {
   "cell_type": "markdown",
   "id": "2e66ce75",
   "metadata": {
    "slideshow": {
     "slide_type": "fragment"
    }
   },
   "source": [
    "- If a word is very common (e.g. 'the'), removing the log multiplies the statistic by a large factor.\n",
    "- If a word is very rare, the ratio will be very large. However, for instance, a word being seen in **2 out of 50** documents is not very different than being seen in **2 out of 500** documents (it is very rare in both cases), and so $\\text{idf}(t)$ should be similar in both cases."
   ]
  },
  {
   "cell_type": "code",
   "execution_count": null,
   "id": "9b376f7c",
   "metadata": {},
   "outputs": [],
   "source": [
    "(50 / 2)"
   ]
  },
  {
   "cell_type": "code",
   "execution_count": null,
   "id": "adfc1dd6",
   "metadata": {},
   "outputs": [],
   "source": [
    "(500 / 2)"
   ]
  },
  {
   "cell_type": "code",
   "execution_count": null,
   "id": "d379be64",
   "metadata": {},
   "outputs": [],
   "source": [
    "np.log(50 / 2)"
   ]
  },
  {
   "cell_type": "code",
   "execution_count": null,
   "id": "cb3643c3",
   "metadata": {},
   "outputs": [],
   "source": [
    "np.log(500 / 2)"
   ]
  },
  {
   "cell_type": "markdown",
   "id": "fb3bb1c6",
   "metadata": {
    "slideshow": {
     "slide_type": "slide"
    }
   },
   "source": [
    "<div class=\"alert alert-warning\">\n",
    "    <h3>Question 🤔 (Answer at <a href=\"https://docs.google.com/forms/d/e/1FAIpQLScWbVZv9hBv-wX-ItKHUVRnkPMMtfJZVfErKE9GS7_8dFcRBQ/viewform\">q.dsc80.com)</h3>\n",
    "</div>\n",
    "        \n",
    "From the Fa23 final:\n",
    "        \n",
    "Consider the following corpus:\n",
    "\n",
    "```\n",
    "Document number Content\n",
    "1               yesterday rainy today sunny\n",
    "2               yesterday sunny today sunny\n",
    "3               today rainy yesterday today\n",
    "4               yesterday yesterday today today\n",
    "```\n",
    "        \n",
    "**Which words have a TF-IDF score of 0 for all four documents?**"
   ]
  },
  {
   "cell_type": "markdown",
   "id": "269efd96",
   "metadata": {
    "slideshow": {
     "slide_type": "slide"
    }
   },
   "source": [
    "## Summary, next time"
   ]
  },
  {
   "cell_type": "markdown",
   "id": "934fb660",
   "metadata": {
    "slideshow": {
     "slide_type": "slide"
    }
   },
   "source": [
    "### Summary\n",
    "\n",
    "- One way to turn documents, like `'deputy fire chief'`, into feature vectors, is to count the number of occurrences of each word in the document, ignoring order. This is done using the **bag of words** model.\n",
    "- To measure the similarity of two documents under the bag of words model, compute the cosine similarity of their two word vectors.\n",
    "- Term frequency-inverse document frequency (TF-IDF) is a statistic that tries to quantify how **important** a word (term) is to a document. It balances:\n",
    "    - **how often a word appears in a particular document**, $\\text{tf}(t, d)$, with\n",
    "    - **how often a word appears across documents**, $\\text{idf}(t)$.\n",
    "- For a given document, the word with the highest TF-IDF is thought to \"best summarize\" that document."
   ]
  },
  {
   "cell_type": "markdown",
   "id": "b62dad56",
   "metadata": {
    "slideshow": {
     "slide_type": "slide"
    }
   },
   "source": [
    "### Next time\n",
    "\n",
    "Modeling and feature engineering."
   ]
  }
 ],
 "metadata": {
  "kernelspec": {
   "display_name": "Python 3 (ipykernel)",
   "language": "python",
   "name": "python3"
  },
  "language_info": {
   "codemirror_mode": {
    "name": "ipython",
    "version": 3
   },
   "file_extension": ".py",
   "mimetype": "text/x-python",
   "name": "python",
   "nbconvert_exporter": "python",
   "pygments_lexer": "ipython3",
   "version": "3.8.18"
  },
  "livereveal": {
   "scroll": true
  },
  "rise": {
   "transition": "none"
  }
 },
 "nbformat": 4,
 "nbformat_minor": 5
}
