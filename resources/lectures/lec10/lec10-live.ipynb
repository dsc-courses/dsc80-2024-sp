{
 "cells": [
  {
   "cell_type": "code",
   "execution_count": 5,
   "id": "8c8a44b8",
   "metadata": {
    "slideshow": {
     "slide_type": "skip"
    }
   },
   "outputs": [],
   "source": [
    "from dsc80_utils import *"
   ]
  },
  {
   "cell_type": "markdown",
   "id": "ce9e66d9",
   "metadata": {
    "slideshow": {
     "slide_type": "slide"
    }
   },
   "source": [
    "# Lecture 10 – Web Scraping\n",
    "\n",
    "## DSC 80, Spring 2024"
   ]
  },
  {
   "cell_type": "markdown",
   "id": "22824200",
   "metadata": {
    "slideshow": {
     "slide_type": "slide"
    }
   },
   "source": [
    "### Announcements 📣\n",
    "\n",
    "- Lab 5 due tomorrow.\n",
    "- Project 3 checkpoint due Friday.\n",
    "- **If at least 80% of the class fills out the [Mid-Quarter Survey](https://forms.gle/bTfFohZos7Q8o1Y47) by Saturday at 11:59PM, everyone will get 1 extra credit point towards your Midterm Exam grade.**"
   ]
  },
  {
   "cell_type": "markdown",
   "id": "a8ab8414",
   "metadata": {
    "slideshow": {
     "slide_type": "slide"
    }
   },
   "source": [
    "### Your Midterm Scores\n",
    "\n",
    "- I typically need to curve up the grades at the end of the quarter to match the historical average for the course (B+).\n",
    "- Class average was 50%, which means that a 50% on the midterm roughly corresponds to getting a B+.\n",
    "\n",
    "**Ouch, question 2 was hard, how would I approach questions like that in the future?**\n",
    "\n",
    "- Don't get stuck -- skip it when you first encounter it.\n",
    "- Don't panic -- hard questions are hard for everyone, so make as much progress as you can.\n",
    "- As I often say during class, try to solve a simpler version of the problem.\n",
    "- Make up a small example and work it out.\n",
    "- If the question says \"Show your work\", you should show your work!"
   ]
  },
  {
   "cell_type": "markdown",
   "id": "bd851d5b",
   "metadata": {
    "slideshow": {
     "slide_type": "slide"
    }
   },
   "source": [
    "### Agenda 📆 \n",
    "\n",
    "- Review: Accessing HTML.\n",
    "- HTML basics.\n",
    "- Parsing HTML using BeautifulSoup.\n",
    "- Example: Scraping quotes.\n",
    "- Example: Scraping the HDSI faculty page."
   ]
  },
  {
   "cell_type": "markdown",
   "id": "dc524c7f",
   "metadata": {
    "slideshow": {
     "slide_type": "slide"
    }
   },
   "source": [
    "## Review: Accessing HTML"
   ]
  },
  {
   "cell_type": "markdown",
   "id": "01d068f2",
   "metadata": {
    "slideshow": {
     "slide_type": "slide"
    }
   },
   "source": [
    "### Making requests\n",
    "\n",
    "**Goal**: Access information about HDSI faculty members from the HDSI Faculty page.\n",
    "\n",
    "Let's start by making a GET request to the HDSI Faculty page and see what the resulting HTML looks like. "
   ]
  },
  {
   "cell_type": "code",
   "execution_count": 1,
   "id": "452ea7b0",
   "metadata": {},
   "outputs": [],
   "source": [
    "import requests"
   ]
  },
  {
   "cell_type": "code",
   "execution_count": 2,
   "id": "fa1eb0a5",
   "metadata": {},
   "outputs": [
    {
     "data": {
      "text/plain": [
       "<Response [200]>"
      ]
     },
     "execution_count": 2,
     "metadata": {},
     "output_type": "execute_result"
    }
   ],
   "source": [
    "fac_response = requests.get('https://datascience.ucsd.edu/faculty/')\n",
    "fac_response"
   ]
  },
  {
   "cell_type": "code",
   "execution_count": 3,
   "id": "f80dbd38",
   "metadata": {},
   "outputs": [
    {
     "data": {
      "text/plain": [
       "281940"
      ]
     },
     "execution_count": 3,
     "metadata": {},
     "output_type": "execute_result"
    }
   ],
   "source": [
    "fac_text = fac_response.text\n",
    "len(fac_text)"
   ]
  },
  {
   "cell_type": "code",
   "execution_count": 4,
   "id": "6440e7c5",
   "metadata": {},
   "outputs": [
    {
     "name": "stdout",
     "output_type": "stream",
     "text": [
      "<!DOCTYPE html>\n",
      "<html dir=\"ltr\" lang=\"en-US\" prefix=\"og: https://ogp.me/ns#\">\n",
      "<head>\n",
      "    <meta charset=\"UTF-8\">\n",
      "\t<meta name=\"viewport\" content=\"width=device-width, initial-scale=1.0\" />\n",
      "\t<meta http-equiv=\"X-UA-Compatible\" content=\"IE=edge\">\n",
      "\t<link rel=\"profile\" href=\"https://gmpg.org/xfn/11\" />\n",
      "    <title>Faculty - Halıcıoğlu Data Science Institute - UC San Diego</title>\n",
      "                        <script>\n",
      "                            /* You can add more configuration options to webfontloader by previously defining the WebFontConfig with your options */\n",
      "                            if ( typeof WebFontConfig === \"undefined\" ) {\n",
      "                                WebFontConfig = new Object();\n",
      "                            }\n",
      "                            WebFontConfig['google'] = {families: ['Jost:400,700', 'Roboto:400,500']};\n",
      "\n",
      "                            (function() {\n",
      "                                var wf = document.createElement( 'script' );\n",
      "                                wf.src = 'https://ajax.g\n"
     ]
    }
   ],
   "source": [
    "print(fac_text[:1000])"
   ]
  },
  {
   "cell_type": "markdown",
   "id": "08efd3a9",
   "metadata": {
    "slideshow": {
     "slide_type": "slide"
    }
   },
   "source": [
    "Wow, that is gross looking! 😰 \n",
    "\n",
    "- It is **raw** HTML, which web browsers use to display websites.\n",
    "- The information we are looking for – faculty information – is in there somewhere, but we have to search for it and extract it, which we wouldn't have to do if we had an API.\n",
    "- We'll now look at how HTML documents are structured and how to extract information from them."
   ]
  },
  {
   "cell_type": "markdown",
   "id": "d75a992c",
   "metadata": {
    "slideshow": {
     "slide_type": "slide"
    }
   },
   "source": [
    "### Best practices for scraping\n",
    "\n",
    "1. **Send requests slowly** and be upfront about what you are doing!\n",
    "2. Respect the policy published in the page's `robots.txt` file.\n",
    "    - Many sites have a `robots.txt` file in their root directory, which contains a policy that allows or disallows automatic access to their site. \n",
    "    - If there isn't one, like in Project 3, use a 0.5 second delay between requests.\n",
    "3. Don't spoof your User-agent (i.e. don't try to trick the server into thinking you are a person).\n",
    "4. Read the Terms of Service for the site and follow it."
   ]
  },
  {
   "cell_type": "markdown",
   "id": "fc20aea1",
   "metadata": {
    "slideshow": {
     "slide_type": "slide"
    }
   },
   "source": [
    "### Consequences of irresponsible scraping\n",
    "\n",
    "If you make too many requests:\n",
    "* The server may block your IP Address.\n",
    "* You may take down the website.\n",
    "    - A journalist scraped and accidentally took down the Cook County Inmate Locater.\n",
    "    - As a result, inmate's families weren't able to contact them while the site was down."
   ]
  },
  {
   "cell_type": "markdown",
   "id": "17d59993",
   "metadata": {
    "slideshow": {
     "slide_type": "slide"
    }
   },
   "source": [
    "### Summary: APIs vs. scraping"
   ]
  },
  {
   "cell_type": "markdown",
   "id": "33d8bbfb",
   "metadata": {
    "slideshow": {
     "slide_type": "fragment"
    }
   },
   "source": [
    "- **APIs** are made by organizations that host data.\n",
    "    - For example, X (formally known as Twitter) has an [API](https://developer.twitter.com/en/docs/twitter-api).\n",
    "    - APIs provide a code-friendly way to access data.\n",
    "    - Usually, APIs give us back data as JSON objects."
   ]
  },
  {
   "cell_type": "markdown",
   "id": "28a6a888",
   "metadata": {
    "slideshow": {
     "slide_type": "fragment"
    }
   },
   "source": [
    "- **Scraping** is the act of emulating a web browser to access its source code.\n",
    "    - As you saw in Lab 5, it's not technically supported by most organizations.\n",
    "    - When scraping, you get back data as HTML and have to parse that HTML to extract the information you want."
   ]
  },
  {
   "cell_type": "markdown",
   "id": "ed586479",
   "metadata": {
    "slideshow": {
     "slide_type": "slide"
    }
   },
   "source": [
    "## The anatomy of HTML documents"
   ]
  },
  {
   "cell_type": "markdown",
   "id": "23cc2b88",
   "metadata": {
    "slideshow": {
     "slide_type": "slide"
    }
   },
   "source": [
    "### What is HTML?\n",
    "\n",
    "* HTML (HyperText Markup Language) is **the** basic building block of the internet. \n",
    "* It defines the content and layout of a webpage, and as such, it is what you get back when you scrape a webpage.\n",
    "* See [this tutorial](https://developer.mozilla.org/en-US/docs/Learn/Getting_started_with_the_web/HTML_basics) for more details."
   ]
  },
  {
   "cell_type": "markdown",
   "id": "97f0d895",
   "metadata": {
    "slideshow": {
     "slide_type": "slide"
    }
   },
   "source": [
    "For instance, here's the content of a very basic webpage."
   ]
  },
  {
   "cell_type": "code",
   "execution_count": 6,
   "id": "856c836b",
   "metadata": {},
   "outputs": [
    {
     "name": "stdout",
     "output_type": "stream",
     "text": [
      "<html>\r\n",
      "  <head>\r\n",
      "    <title>Page title</title>\r\n",
      "  </head>\r\n",
      "\r\n",
      "  <body>\r\n",
      "    <h1>This is a heading</h1>\r\n",
      "    <p>This is a paragraph.</p>\r\n",
      "    <p>This is <b>another</b> paragraph.</p>\r\n",
      "  </body>\r\n",
      "</html>\r\n"
     ]
    }
   ],
   "source": [
    "!cat data/lec10_ex1.html"
   ]
  },
  {
   "cell_type": "markdown",
   "id": "8dc0b186",
   "metadata": {
    "slideshow": {
     "slide_type": "fragment"
    }
   },
   "source": [
    "Using `IPython.display.HTML`, we can render it directly in our notebook."
   ]
  },
  {
   "cell_type": "code",
   "execution_count": 7,
   "id": "ec1c4f5b",
   "metadata": {
    "slideshow": {
     "slide_type": "-"
    }
   },
   "outputs": [
    {
     "data": {
      "text/html": [
       "<html>\n",
       "  <head>\n",
       "    <title>Page title</title>\n",
       "  </head>\n",
       "\n",
       "  <body>\n",
       "    <h1>This is a heading</h1>\n",
       "    <p>This is a paragraph.</p>\n",
       "    <p>This is <b>another</b> paragraph.</p>\n",
       "  </body>\n",
       "</html>\n"
      ],
      "text/plain": [
       "<IPython.core.display.HTML object>"
      ]
     },
     "execution_count": 7,
     "metadata": {},
     "output_type": "execute_result"
    }
   ],
   "source": [
    "from IPython.display import HTML\n",
    "HTML(filename=Path('data') / 'lec10_ex1.html')"
   ]
  },
  {
   "cell_type": "markdown",
   "id": "61ab3db3",
   "metadata": {
    "slideshow": {
     "slide_type": "slide"
    }
   },
   "source": [
    "### The anatomy of HTML documents\n",
    "\n",
    "* **HTML document**: The totality of markup that makes up a webpage.\n",
    "\n",
    "* **Document Object Model (DOM)**: The internal representation of an HTML document as a hierarchical **tree** structure.\n",
    "\n",
    "* **HTML element**: An object in the DOM, such as a paragraph, header, or title.\n",
    "* **HTML tags**: Markers that denote the **start** and **end** of an element, such as `<p>` and `</p>`.\n",
    "\n",
    "<center><img src='imgs/dom.jpg'></center>\n",
    "\n",
    "<center><a href='https://simplesnippets.tech/what-is-document-object-modeldom-how-js-interacts-with-dom/'>(source)</a></center>"
   ]
  },
  {
   "cell_type": "markdown",
   "id": "13404bf2",
   "metadata": {
    "slideshow": {
     "slide_type": "slide"
    }
   },
   "source": [
    "### Useful tags to know\n",
    "\n",
    "\n",
    "|Element|Description|\n",
    "|:---|:---|\n",
    "|`<html>`|the document|\n",
    "|`<head>`|the header|\n",
    "|`<body>`|the body|\n",
    "|`<div>` |a logical division of the document|\n",
    "|`<span>`|an *inline* logical division|\n",
    "|`<p>`|a paragraph|\n",
    "| `<a>`| an anchor (hyperlink)|\n",
    "|`<h1>, <h2>, ...`| header(s) |\n",
    "|`<img>`| an image |\n",
    "\n",
    "There are many, many more, but these are by far the most common. See [this article](https://en.wikipedia.org/wiki/HTML_element) for examples."
   ]
  },
  {
   "cell_type": "markdown",
   "id": "0a3532d3",
   "metadata": {
    "slideshow": {
     "slide_type": "slide"
    }
   },
   "source": [
    "### Example: Images and hyperlinks\n",
    "\n",
    "Tags can have **attributes**, which further specify how to display information on a webpage."
   ]
  },
  {
   "cell_type": "markdown",
   "id": "82f5e6e6",
   "metadata": {
    "slideshow": {
     "slide_type": "fragment"
    }
   },
   "source": [
    "For instance, `<img>` tags have `src` and `alt` attributes (among others):\n",
    "\n",
    "```html\n",
    "<img src=\"king-selfie.png\" alt=\"A photograph of King Triton.\" width=500>\n",
    "```"
   ]
  },
  {
   "cell_type": "markdown",
   "id": "96983121",
   "metadata": {
    "slideshow": {
     "slide_type": "fragment"
    }
   },
   "source": [
    "Hyperlinks have `href` attributes: \n",
    "\n",
    "```html\n",
    "Click <a href=\"https://practice.dsc80.com\">this link</a> to access past exams.\n"
   ]
  },
  {
   "cell_type": "markdown",
   "id": "b655cf7a",
   "metadata": {
    "slideshow": {
     "slide_type": "slide"
    }
   },
   "source": [
    "What do you think this webpage looks like?"
   ]
  },
  {
   "cell_type": "code",
   "execution_count": 9,
   "id": "12cf573f",
   "metadata": {},
   "outputs": [
    {
     "name": "stdout",
     "output_type": "stream",
     "text": [
      "<html>\r\n",
      "  <head>\r\n",
      "    <title>Project 4A and 4B - DSC 80, Spring 2024</title>\r\n",
      "    <link\r\n",
      "      href=\"https://cdn.jsdelivr.net/npm/bootstrap@5.3.0-alpha1/dist/css/bootstrap.min.css\"\r\n",
      "      rel=\"stylesheet\"\r\n",
      "    />\r\n",
      "  </head>\r\n",
      "\r\n",
      "  <body>\r\n",
      "    <h1>Project Overview</h1>\r\n",
      "    <img src=\"../imgs/platter.png\" width=\"200\" alt=\"My dinner last night.\" />\r\n",
      "    <p>\r\n",
      "      When the project is released, you can start it by\r\n",
      "      <a href=\"https://github.com/dsc-courses/dsc80-2024-wi/\"\r\n",
      "        >public GitHub repo</a\r\n",
      "      >.\r\n",
      "    </p>\r\n",
      "    <center>\r\n",
      "      <h3>\r\n",
      "        Note that you'll have to submit your notebook as a PDF and a link to\r\n",
      "        your website.\r\n",
      "      </h3>\r\n",
      "    </center>\r\n",
      "  </body>\r\n",
      "</html>\r\n"
     ]
    }
   ],
   "source": [
    "!cat data/lec10_ex2.html"
   ]
  },
  {
   "cell_type": "markdown",
   "id": "25fbb9e2",
   "metadata": {
    "slideshow": {
     "slide_type": "slide"
    }
   },
   "source": [
    "### The `<div>` tag\n",
    "\n",
    "```html\n",
    "<div style=\"background-color:lightblue\">\n",
    "  <h3>This is a heading</h3>\n",
    "  <p>This is a paragraph.</p>\n",
    "</div>\n",
    "```\n",
    "\n",
    "* The `<div>` tag defines a division or a \"section\" of an HTML document.\n",
    "    * Think of a `<div>` as a \"cell\" in a Jupyter Notebook.\n",
    "\n",
    "* The `<div>` element is often used as a container for other HTML elements to style them with CSS or to perform operations involving them using JavaScript.\n",
    "\n",
    "* `<div>` elements often have attributes, **which are important when scraping**!"
   ]
  },
  {
   "cell_type": "markdown",
   "id": "fdf6f3ac",
   "metadata": {
    "slideshow": {
     "slide_type": "slide"
    }
   },
   "source": [
    "### Document trees\n",
    "\n",
    "Under the document object model (DOM), HTML documents are trees. In DOM trees, child nodes are **ordered**.\n",
    "\n",
    "<center>\n",
    "\n",
    "<img src=\"imgs/webpage_anatomy.png\" width=\"50%\">\n",
    "\n",
    "</center>    \n",
    "\n",
    "What does the DOM tree look like for this document?"
   ]
  },
  {
   "cell_type": "markdown",
   "id": "39915947",
   "metadata": {
    "slideshow": {
     "slide_type": "fragment"
    }
   },
   "source": [
    "<center><img src=\"imgs/dom_tree.png\" width=\"50%\"></center>"
   ]
  },
  {
   "cell_type": "markdown",
   "id": "4a797498",
   "metadata": {
    "slideshow": {
     "slide_type": "slide"
    }
   },
   "source": [
    "## Parsing HTML using Beautiful Soup"
   ]
  },
  {
   "cell_type": "markdown",
   "id": "20f74bd7",
   "metadata": {
    "slideshow": {
     "slide_type": "slide"
    }
   },
   "source": [
    "### Beautiful Soup 🍜\n",
    "\n",
    "* [Beautiful Soup 4](https://www.crummy.com/software/BeautifulSoup/bs4/doc/) is a Python HTML parser.\n",
    "    - To \"parse\" means to \"extract meaning from a sequence of symbols\".\n",
    "* **Warning**: Beautiful Soup 4 and Beautiful Soup 3 work differently, so make sure you are using and looking at documentation for Beautiful Soup 4."
   ]
  },
  {
   "cell_type": "markdown",
   "id": "11b42bbd",
   "metadata": {
    "slideshow": {
     "slide_type": "slide"
    }
   },
   "source": [
    "### Example HTML document\n",
    "\n",
    "To start, we'll work with the source code for an HTML page with the DOM tree shown below:\n",
    "\n",
    "<center><img src=\"imgs/dom_tree_1.png\" width=\"50%\"></center>\n",
    "\n",
    "The string `html_string` contains an HTML \"document\"."
   ]
  },
  {
   "cell_type": "code",
   "execution_count": 10,
   "id": "da0809c0",
   "metadata": {
    "slideshow": {
     "slide_type": "-"
    }
   },
   "outputs": [],
   "source": [
    "html_string = '''\n",
    "<html>\n",
    "    <body>\n",
    "      <div id=\"content\">\n",
    "        <h1>Heading here</h1>\n",
    "        <p>My First paragraph</p>\n",
    "        <p>My <em>second</em> paragraph</p>\n",
    "        <hr>\n",
    "      </div>\n",
    "      <div id=\"nav\">\n",
    "        <ul>\n",
    "          <li>item 1</li>\n",
    "          <li>item 2</li>\n",
    "          <li>item 3</li>\n",
    "        </ul>\n",
    "      </div>\n",
    "    </body>\n",
    "</html>\n",
    "'''.strip()"
   ]
  },
  {
   "cell_type": "code",
   "execution_count": 11,
   "id": "b3699a5d",
   "metadata": {
    "scrolled": true
   },
   "outputs": [
    {
     "data": {
      "text/html": [
       "<html>\n",
       "    <body>\n",
       "      <div id=\"content\">\n",
       "        <h1>Heading here</h1>\n",
       "        <p>My First paragraph</p>\n",
       "        <p>My <em>second</em> paragraph</p>\n",
       "        <hr>\n",
       "      </div>\n",
       "      <div id=\"nav\">\n",
       "        <ul>\n",
       "          <li>item 1</li>\n",
       "          <li>item 2</li>\n",
       "          <li>item 3</li>\n",
       "        </ul>\n",
       "      </div>\n",
       "    </body>\n",
       "</html>"
      ],
      "text/plain": [
       "<IPython.core.display.HTML object>"
      ]
     },
     "execution_count": 11,
     "metadata": {},
     "output_type": "execute_result"
    }
   ],
   "source": [
    "HTML(html_string)"
   ]
  },
  {
   "cell_type": "markdown",
   "id": "05a7a4bf",
   "metadata": {
    "slideshow": {
     "slide_type": "slide"
    }
   },
   "source": [
    "### `BeautifulSoup` objects\n",
    "\n",
    "`bs4.BeautifulSoup` takes in a string or file-like object representing HTML (`markup`) and returns a **parsed** document."
   ]
  },
  {
   "cell_type": "code",
   "execution_count": 12,
   "id": "8e39ceb3",
   "metadata": {},
   "outputs": [],
   "source": [
    "import bs4"
   ]
  },
  {
   "cell_type": "code",
   "execution_count": 13,
   "id": "6ff4c7a7",
   "metadata": {},
   "outputs": [],
   "source": [
    "bs4.BeautifulSoup?"
   ]
  },
  {
   "cell_type": "markdown",
   "id": "352a2bdc",
   "metadata": {
    "slideshow": {
     "slide_type": "slide"
    }
   },
   "source": [
    "Normally, we pass the result of a GET request to `bs4.BeautifulSoup`, but here we will pass our hand-crafted `html_string`."
   ]
  },
  {
   "cell_type": "code",
   "execution_count": 14,
   "id": "cbb904c6",
   "metadata": {},
   "outputs": [
    {
     "data": {
      "text/plain": [
       "<html>\n",
       "<body>\n",
       "<div id=\"content\">\n",
       "<h1>Heading here</h1>\n",
       "<p>My First paragraph</p>\n",
       "<p>My <em>second</em> paragraph</p>\n",
       "<hr/>\n",
       "</div>\n",
       "<div id=\"nav\">\n",
       "<ul>\n",
       "<li>item 1</li>\n",
       "<li>item 2</li>\n",
       "<li>item 3</li>\n",
       "</ul>\n",
       "</div>\n",
       "</body>\n",
       "</html>"
      ]
     },
     "execution_count": 14,
     "metadata": {},
     "output_type": "execute_result"
    }
   ],
   "source": [
    "soup = bs4.BeautifulSoup(html_string)\n",
    "soup"
   ]
  },
  {
   "cell_type": "code",
   "execution_count": 15,
   "id": "213bf464",
   "metadata": {},
   "outputs": [
    {
     "data": {
      "text/plain": [
       "bs4.BeautifulSoup"
      ]
     },
     "execution_count": 15,
     "metadata": {},
     "output_type": "execute_result"
    }
   ],
   "source": [
    "type(soup)"
   ]
  },
  {
   "cell_type": "markdown",
   "id": "e4cb1154",
   "metadata": {
    "slideshow": {
     "slide_type": "slide"
    }
   },
   "source": [
    "`BeautifulSoup` objects have several useful attributes, e.g. `text`:"
   ]
  },
  {
   "cell_type": "code",
   "execution_count": 16,
   "id": "5454f217",
   "metadata": {},
   "outputs": [
    {
     "name": "stdout",
     "output_type": "stream",
     "text": [
      "\n",
      "\n",
      "\n",
      "Heading here\n",
      "My First paragraph\n",
      "My second paragraph\n",
      "\n",
      "\n",
      "\n",
      "\n",
      "item 1\n",
      "item 2\n",
      "item 3\n",
      "\n",
      "\n",
      "\n",
      "\n"
     ]
    }
   ],
   "source": [
    "print(soup.text)"
   ]
  },
  {
   "cell_type": "markdown",
   "id": "1f78233a",
   "metadata": {
    "slideshow": {
     "slide_type": "slide"
    }
   },
   "source": [
    "### Traversing through `descendants`\n",
    "\n",
    "The `descendants` attribute traverses a `BeautifulSoup` tree using **depth-first traversal**.\n",
    "\n",
    "Why depth-first? Elements closer to one another on a page are more likely to be related than elements further away.\n",
    "\n",
    "<center><img src=\"imgs/dom_tree_1.png\" width=\"60%\"></center>"
   ]
  },
  {
   "cell_type": "code",
   "execution_count": 17,
   "id": "867dc3b8",
   "metadata": {},
   "outputs": [
    {
     "data": {
      "text/plain": [
       "<generator object Tag.descendants at 0x7f9418dd6270>"
      ]
     },
     "execution_count": 17,
     "metadata": {},
     "output_type": "execute_result"
    }
   ],
   "source": [
    "soup.descendants"
   ]
  },
  {
   "cell_type": "code",
   "execution_count": 18,
   "id": "bf0d50ff",
   "metadata": {},
   "outputs": [
    {
     "name": "stdout",
     "output_type": "stream",
     "text": [
      "html\n",
      "body\n",
      "div\n",
      "h1\n",
      "p\n",
      "p\n",
      "em\n",
      "hr\n",
      "div\n",
      "ul\n",
      "li\n",
      "li\n",
      "li\n"
     ]
    }
   ],
   "source": [
    "for child in soup.descendants:\n",
    "#     print(child) # What would happen if we ran this instead?\n",
    "    if isinstance(child, str):\n",
    "        continue\n",
    "    print(child.name)"
   ]
  },
  {
   "cell_type": "markdown",
   "id": "e0a21d52",
   "metadata": {
    "slideshow": {
     "slide_type": "slide"
    }
   },
   "source": [
    "### Finding elements in a tree\n",
    "\n",
    "Practically speaking, you will not use the `descendants` attribute (or the related `children` attribute) directly very often. Instead, you will use the following methods:\n",
    "\n",
    "- `soup.find(tag)`, which finds the **first** instance of a tag (the first one on the page, i.e. the first one that DFS sees).\n",
    "    - More general: `soup.find(name=None, attrs={}, recursive=True, text=None, **kwargs)`.\n",
    "- `soup.find_all(tag)` will find **all** instances of a tag.\n",
    "\n",
    "**`find` finds tags!**"
   ]
  },
  {
   "cell_type": "markdown",
   "id": "1468475e",
   "metadata": {
    "slideshow": {
     "slide_type": "slide"
    }
   },
   "source": [
    "### Using `find`\n",
    "\n",
    "Let's try and extract the first `<div>` subtree.\n",
    "\n",
    "<center><img src=\"imgs/dom_tree_1.png\" width=\"60%\"></center>  "
   ]
  },
  {
   "cell_type": "code",
   "execution_count": 19,
   "id": "6c1d60ad",
   "metadata": {
    "scrolled": true
   },
   "outputs": [
    {
     "data": {
      "text/plain": [
       "<div id=\"content\">\n",
       "<h1>Heading here</h1>\n",
       "<p>My First paragraph</p>\n",
       "<p>My <em>second</em> paragraph</p>\n",
       "<hr/>\n",
       "</div>"
      ]
     },
     "execution_count": 19,
     "metadata": {},
     "output_type": "execute_result"
    }
   ],
   "source": [
    "soup.find('div')"
   ]
  },
  {
   "cell_type": "markdown",
   "id": "43a9ec73",
   "metadata": {},
   "source": [
    "<center><img src=\"imgs/dom_subtree_1.png\" width=\"30%\"></center>  "
   ]
  },
  {
   "cell_type": "markdown",
   "id": "9e3d7cfc",
   "metadata": {},
   "source": [
    "Let's try and find the `<div>` element that has an `id` attribute equal to `'nav'`."
   ]
  },
  {
   "cell_type": "code",
   "execution_count": 20,
   "id": "360d0136",
   "metadata": {},
   "outputs": [
    {
     "data": {
      "text/plain": [
       "<div id=\"nav\">\n",
       "<ul>\n",
       "<li>item 1</li>\n",
       "<li>item 2</li>\n",
       "<li>item 3</li>\n",
       "</ul>\n",
       "</div>"
      ]
     },
     "execution_count": 20,
     "metadata": {},
     "output_type": "execute_result"
    }
   ],
   "source": [
    "soup.find('div', attrs={'id': 'nav'})"
   ]
  },
  {
   "cell_type": "markdown",
   "id": "dafc1aef",
   "metadata": {},
   "source": [
    "`find` will return the first occurrence of a tag, regardless of its depth in the tree."
   ]
  },
  {
   "cell_type": "code",
   "execution_count": 21,
   "id": "f6359708",
   "metadata": {},
   "outputs": [
    {
     "data": {
      "text/plain": [
       "<ul>\n",
       "<li>item 1</li>\n",
       "<li>item 2</li>\n",
       "<li>item 3</li>\n",
       "</ul>"
      ]
     },
     "execution_count": 21,
     "metadata": {},
     "output_type": "execute_result"
    }
   ],
   "source": [
    "# The ul child is not at the top of the tree, but we can still find it.\n",
    "soup.find('ul')"
   ]
  },
  {
   "cell_type": "markdown",
   "id": "42ce4de4",
   "metadata": {
    "slideshow": {
     "slide_type": "slide"
    }
   },
   "source": [
    "### Using `find_all`\n",
    "\n",
    "`find_all` returns a list of all matches."
   ]
  },
  {
   "cell_type": "code",
   "execution_count": 22,
   "id": "24d0e570",
   "metadata": {},
   "outputs": [
    {
     "data": {
      "text/plain": [
       "[<div id=\"content\">\n",
       " <h1>Heading here</h1>\n",
       " <p>My First paragraph</p>\n",
       " <p>My <em>second</em> paragraph</p>\n",
       " <hr/>\n",
       " </div>,\n",
       " <div id=\"nav\">\n",
       " <ul>\n",
       " <li>item 1</li>\n",
       " <li>item 2</li>\n",
       " <li>item 3</li>\n",
       " </ul>\n",
       " </div>]"
      ]
     },
     "execution_count": 22,
     "metadata": {},
     "output_type": "execute_result"
    }
   ],
   "source": [
    "soup.find_all('div')"
   ]
  },
  {
   "cell_type": "code",
   "execution_count": 23,
   "id": "0e3fb3a0",
   "metadata": {},
   "outputs": [
    {
     "data": {
      "text/plain": [
       "[<li>item 1</li>, <li>item 2</li>, <li>item 3</li>]"
      ]
     },
     "execution_count": 23,
     "metadata": {},
     "output_type": "execute_result"
    }
   ],
   "source": [
    "soup.find_all('li')"
   ]
  },
  {
   "cell_type": "code",
   "execution_count": 24,
   "id": "3e5c50bd",
   "metadata": {},
   "outputs": [
    {
     "data": {
      "text/plain": [
       "['item 1', 'item 2', 'item 3']"
      ]
     },
     "execution_count": 24,
     "metadata": {},
     "output_type": "execute_result"
    }
   ],
   "source": [
    "[x.text for x in soup.find_all('li')]"
   ]
  },
  {
   "cell_type": "markdown",
   "id": "713e94fa",
   "metadata": {
    "slideshow": {
     "slide_type": "slide"
    }
   },
   "source": [
    "### Node attributes\n",
    "* The `text` attribute of a tag element gets the text between the opening and closing tags.\n",
    "* The `attrs` attribute of a tag element lists all of its attributes.\n",
    "* The `get` method of a tag element **gets the value of an attribute**."
   ]
  },
  {
   "cell_type": "code",
   "execution_count": 25,
   "id": "d183a0b4",
   "metadata": {},
   "outputs": [
    {
     "data": {
      "text/plain": [
       "<p>My First paragraph</p>"
      ]
     },
     "execution_count": 25,
     "metadata": {},
     "output_type": "execute_result"
    }
   ],
   "source": [
    "soup.find('p')"
   ]
  },
  {
   "cell_type": "code",
   "execution_count": 26,
   "id": "e1a308ab",
   "metadata": {},
   "outputs": [
    {
     "data": {
      "text/plain": [
       "'My First paragraph'"
      ]
     },
     "execution_count": 26,
     "metadata": {},
     "output_type": "execute_result"
    }
   ],
   "source": [
    "soup.find('p').text"
   ]
  },
  {
   "cell_type": "code",
   "execution_count": 27,
   "id": "b1919b9b",
   "metadata": {},
   "outputs": [
    {
     "data": {
      "text/plain": [
       "<div id=\"content\">\n",
       "<h1>Heading here</h1>\n",
       "<p>My First paragraph</p>\n",
       "<p>My <em>second</em> paragraph</p>\n",
       "<hr/>\n",
       "</div>"
      ]
     },
     "execution_count": 27,
     "metadata": {},
     "output_type": "execute_result"
    }
   ],
   "source": [
    "soup.find('div')"
   ]
  },
  {
   "cell_type": "code",
   "execution_count": 28,
   "id": "e7e3d33a",
   "metadata": {},
   "outputs": [
    {
     "data": {
      "text/plain": [
       "'\\nHeading here\\nMy First paragraph\\nMy second paragraph\\n\\n'"
      ]
     },
     "execution_count": 28,
     "metadata": {},
     "output_type": "execute_result"
    }
   ],
   "source": [
    "soup.find('div').text"
   ]
  },
  {
   "cell_type": "code",
   "execution_count": 29,
   "id": "7331ff79",
   "metadata": {},
   "outputs": [
    {
     "data": {
      "text/plain": [
       "{'id': 'content'}"
      ]
     },
     "execution_count": 29,
     "metadata": {},
     "output_type": "execute_result"
    }
   ],
   "source": [
    "soup.find('div').attrs"
   ]
  },
  {
   "cell_type": "code",
   "execution_count": 30,
   "id": "32d5e41c",
   "metadata": {},
   "outputs": [
    {
     "data": {
      "text/plain": [
       "'content'"
      ]
     },
     "execution_count": 30,
     "metadata": {},
     "output_type": "execute_result"
    }
   ],
   "source": [
    "soup.find('div').get('id')"
   ]
  },
  {
   "cell_type": "markdown",
   "id": "3e5f874f",
   "metadata": {
    "slideshow": {
     "slide_type": "slide"
    }
   },
   "source": [
    "The `get` method must be called directly on the node that contains the attribute you're looking for."
   ]
  },
  {
   "cell_type": "code",
   "execution_count": 31,
   "id": "dbae92f9",
   "metadata": {},
   "outputs": [
    {
     "data": {
      "text/plain": [
       "<html>\n",
       "<body>\n",
       "<div id=\"content\">\n",
       "<h1>Heading here</h1>\n",
       "<p>My First paragraph</p>\n",
       "<p>My <em>second</em> paragraph</p>\n",
       "<hr/>\n",
       "</div>\n",
       "<div id=\"nav\">\n",
       "<ul>\n",
       "<li>item 1</li>\n",
       "<li>item 2</li>\n",
       "<li>item 3</li>\n",
       "</ul>\n",
       "</div>\n",
       "</body>\n",
       "</html>"
      ]
     },
     "execution_count": 31,
     "metadata": {},
     "output_type": "execute_result"
    }
   ],
   "source": [
    "soup"
   ]
  },
  {
   "cell_type": "code",
   "execution_count": 32,
   "id": "ddff20a7",
   "metadata": {},
   "outputs": [],
   "source": [
    "# While there are multiple 'id' attributes, none of them are in the <html> tag at the top.\n",
    "soup.get('id')"
   ]
  },
  {
   "cell_type": "code",
   "execution_count": 33,
   "id": "24b4116d",
   "metadata": {
    "scrolled": true
   },
   "outputs": [
    {
     "data": {
      "text/plain": [
       "'content'"
      ]
     },
     "execution_count": 33,
     "metadata": {},
     "output_type": "execute_result"
    }
   ],
   "source": [
    "soup.find('div').get('id')"
   ]
  },
  {
   "cell_type": "markdown",
   "id": "a1b3ab55",
   "metadata": {
    "slideshow": {
     "slide_type": "slide"
    }
   },
   "source": [
    "<div class=\"alert alert-warning\">\n",
    "    <h3>Question 🤔 (Answer at <a class=\"alert-link\" href=\"http://q.dsc80.com\">q.dsc80.com)</h3>\n",
    "\n",
    "Consider the following HTML document, which represents a webpage containing the top few songs with the most streams on Spotify today in Canada.\n",
    "\n",
    "```html\n",
    "<head>\n",
    "    <title>3*Canada-2022-06-04</title>\n",
    "</head>\n",
    "<body>\n",
    "    <h1>Spotify Top 3 - Canada</h1>\n",
    "    <table>\n",
    "        <tr class='heading'>\n",
    "            <th>Rank</th>\n",
    "            <th>Artist(s)</th> \n",
    "            <th>Song</th>\n",
    "        </tr>\n",
    "        <tr class=1>\n",
    "            <td>1</td>\n",
    "            <td>Harry Styles</td> \n",
    "            <td>As It Was</td>\n",
    "        </tr>\n",
    "        <tr class=2>\n",
    "            <td>2</td>\n",
    "            <td>Jack Harlow</td> \n",
    "            <td>First Class</td>\n",
    "        </tr>\n",
    "        <tr class=3>\n",
    "            <td>3</td>\n",
    "            <td>Kendrick Lamar</td> \n",
    "            <td>N95</td>\n",
    "        </tr>\n",
    "    </table>\n",
    "</body>\n",
    "```"
   ]
  },
  {
   "cell_type": "markdown",
   "id": "96a70b6e",
   "metadata": {},
   "source": [
    "**Part 1**: How many leaf nodes are there in the DOM tree of the previous document — that is, how many nodes have no children?"
   ]
  },
  {
   "cell_type": "markdown",
   "id": "1d6f3382",
   "metadata": {},
   "source": [
    "**Part 2**: What does the following line of code evaluate to?\n",
    "\n",
    "```py\n",
    "len(soup.find_all(\"td\"))\n",
    "```"
   ]
  },
  {
   "cell_type": "markdown",
   "id": "9cb5d79b",
   "metadata": {},
   "source": [
    "**Part 3**: What does the following line of code evaluate to?\n",
    "\n",
    "```py\n",
    "soup.find(\"tr\").get(\"class\")\n",
    "```"
   ]
  },
  {
   "cell_type": "markdown",
   "id": "b931a7c9",
   "metadata": {
    "slideshow": {
     "slide_type": "slide"
    }
   },
   "source": [
    "## Example: Scraping quotes"
   ]
  },
  {
   "cell_type": "markdown",
   "id": "a635662b",
   "metadata": {
    "slideshow": {
     "slide_type": "slide"
    }
   },
   "source": [
    "### Example: Scraping quotes\n",
    "\n",
    "Consider [quotes.toscrape.com](https://quotes.toscrape.com).\n",
    "\n",
    "<center><img src=\"imgs/quotes2scrape.png\" width=60%></center>\n",
    "\n",
    "Goal: Extract quotes (and relevant metadata) into a DataFrame."
   ]
  },
  {
   "cell_type": "markdown",
   "id": "bb141b04",
   "metadata": {
    "slideshow": {
     "slide_type": "fragment"
    }
   },
   "source": [
    "Specifically, let's try to make a DataFrame that looks like the one below:\n",
    "\n",
    "<table border=\"1\" class=\"dataframe\">\n",
    "  <thead>\n",
    "    <tr style=\"text-align: right;\">\n",
    "      <th></th>\n",
    "      <th>quote</th>\n",
    "      <th>author</th>\n",
    "      <th>author_url</th>\n",
    "      <th>tags</th>\n",
    "    </tr>\n",
    "  </thead>\n",
    "  <tbody>\n",
    "    <tr>\n",
    "      <th>0</th>\n",
    "      <td>“The world as we have created it is a process of our thinking. It cannot be changed without changing our thinking.”</td>\n",
    "      <td>Albert Einstein</td>\n",
    "      <td>https://quotes.toscrape.com/author/Albert-Einstein</td>\n",
    "      <td>change,deep-thoughts,thinking,world</td>\n",
    "    </tr>\n",
    "    <tr>\n",
    "      <th>1</th>\n",
    "      <td>“It is our choices, Harry, that show what we truly are, far more than our abilities.”</td>\n",
    "      <td>J.K. Rowling</td>\n",
    "      <td>https://quotes.toscrape.com/author/J-K-Rowling</td>\n",
    "      <td>abilities,choices</td>\n",
    "    </tr>\n",
    "    <tr>\n",
    "      <th>2</th>\n",
    "      <td>“There are only two ways to live your life. One is as though nothing is a miracle. The other is as though everything is a miracle.”</td>\n",
    "      <td>Albert Einstein</td>\n",
    "      <td>https://quotes.toscrape.com/author/Albert-Einstein</td>\n",
    "      <td>inspirational,life,live,miracle,miracles</td>\n",
    "    </tr>\n",
    "  </tbody>\n",
    "</table>"
   ]
  },
  {
   "cell_type": "markdown",
   "id": "50e5db5f",
   "metadata": {
    "slideshow": {
     "slide_type": "slide"
    }
   },
   "source": [
    "<div class=\"alert alert-warning\">\n",
    "    <h3>Question 🤔 (Answer at <a class=\"alert-link\" href=\"http://q.dsc80.com\">q.dsc80.com)</h3>\n",
    "        \n",
    "Ask an LLM to write code to scrape the first ten pages of quotes from https://quotes.toscrape.com/ into a DataFrame called `quotes_llm`. The first three rows of `quotes_llm` should have the three quotes above. The last row of `quotes_llm` should contain a quote from George R.R. Martin.\n",
    "        \n",
    "After having an LLM write code, paste it below and see if it works. If it doesn't work, try to adjust your prompt until it does. Once you have something that works, submit your final prompt and generated code to http://q.dsc80.com.\n",
    "\n",
    "</div>"
   ]
  },
  {
   "cell_type": "code",
   "execution_count": null,
   "id": "cea5047e",
   "metadata": {},
   "outputs": [],
   "source": []
  },
  {
   "cell_type": "markdown",
   "id": "53e66358",
   "metadata": {
    "slideshow": {
     "slide_type": "slide"
    }
   },
   "source": [
    "### The plan\n",
    "\n",
    "Eventually, we will create a single function – `make_quote_df` – which takes in an integer `n` and returns a **DataFrame** with the quotes on the **first `n` pages** of [quotes.toscrape.com](https://quotes.toscrape.com).\n",
    "\n",
    "To do this, we will define several helper functions:\n",
    "\n",
    "- `download_page(i)`, which downloads a **single page** (page `i`) and returns a `BeautifulSoup` object of the response.\n",
    "\n",
    "- `process_quote(div)`, which takes in a `<div>` tree corresponding to a **single quote** and returns a dictionary containing all of the relevant information for that quote.\n",
    "\n",
    "- `process_page(divs)`, which takes in a list of `<div>` trees corresponding to a **single page** and returns a DataFrame containing all of the relevant information for all quotes on that page."
   ]
  },
  {
   "cell_type": "markdown",
   "id": "66214488",
   "metadata": {
    "slideshow": {
     "slide_type": "slide"
    }
   },
   "source": [
    "Key principle: some of our helper functions will make **requests**, and others will **parse**, but none will do both! \n",
    "- Easier to debug and catch errors.\n",
    "- Avoids unnecessary requests."
   ]
  },
  {
   "cell_type": "markdown",
   "id": "c90a4563",
   "metadata": {
    "slideshow": {
     "slide_type": "slide"
    }
   },
   "source": [
    "### Downloading a single page"
   ]
  },
  {
   "cell_type": "code",
   "execution_count": 34,
   "id": "6db125af",
   "metadata": {
    "slideshow": {
     "slide_type": "-"
    }
   },
   "outputs": [],
   "source": [
    "def download_page(i):\n",
    "    url = f'https://quotes.toscrape.com/page/{i}'\n",
    "    request = requests.get(url)\n",
    "    return bs4.BeautifulSoup(request.text)"
   ]
  },
  {
   "cell_type": "markdown",
   "id": "e452bb34",
   "metadata": {},
   "source": [
    "In `make_quote_df`, we will call `download_page` repeatedly – once for `i=1`, once for `i=2`, ..., `i=n`. For now, we will work with just page 1 (chosen arbitrarily)."
   ]
  },
  {
   "cell_type": "code",
   "execution_count": 35,
   "id": "27aa68f3",
   "metadata": {},
   "outputs": [],
   "source": [
    "soup = download_page(1)"
   ]
  },
  {
   "cell_type": "markdown",
   "id": "d59697cc",
   "metadata": {
    "slideshow": {
     "slide_type": "slide"
    }
   },
   "source": [
    "### Parsing a single page\n",
    "\n",
    "Let's look at the page's source code (right click the page and click \"Inspect\" in Chrome) to find where the quotes in the page are located."
   ]
  },
  {
   "cell_type": "code",
   "execution_count": 36,
   "id": "67152459",
   "metadata": {},
   "outputs": [],
   "source": [
    "divs = soup.find_all('div', class_='quote')\n",
    "# Shortcut for the following, just for when the attribute key is class:\n",
    "# divs = soup.find_all('div', attrs={'class': 'quote'})"
   ]
  },
  {
   "cell_type": "code",
   "execution_count": 37,
   "id": "b387c27b",
   "metadata": {},
   "outputs": [
    {
     "data": {
      "text/plain": [
       "<div class=\"quote\" itemscope=\"\" itemtype=\"http://schema.org/CreativeWork\">\n",
       "<span class=\"text\" itemprop=\"text\">“The world as we have created it is a process of our thinking. It cannot be changed without changing our thinking.”</span>\n",
       "<span>by <small class=\"author\" itemprop=\"author\">Albert Einstein</small>\n",
       "<a href=\"/author/Albert-Einstein\">(about)</a>\n",
       "</span>\n",
       "<div class=\"tags\">\n",
       "            Tags:\n",
       "            <meta class=\"keywords\" content=\"change,deep-thoughts,thinking,world\" itemprop=\"keywords\"/>\n",
       "<a class=\"tag\" href=\"/tag/change/page/1/\">change</a>\n",
       "<a class=\"tag\" href=\"/tag/deep-thoughts/page/1/\">deep-thoughts</a>\n",
       "<a class=\"tag\" href=\"/tag/thinking/page/1/\">thinking</a>\n",
       "<a class=\"tag\" href=\"/tag/world/page/1/\">world</a>\n",
       "</div>\n",
       "</div>"
      ]
     },
     "execution_count": 37,
     "metadata": {},
     "output_type": "execute_result"
    }
   ],
   "source": [
    "divs[0]"
   ]
  },
  {
   "cell_type": "markdown",
   "id": "c6757bf4",
   "metadata": {
    "slideshow": {
     "slide_type": "slide"
    }
   },
   "source": [
    "From this `<div>`, we can extract the quote, author name, author's URL, and tags."
   ]
  },
  {
   "cell_type": "code",
   "execution_count": 38,
   "id": "3c97342e",
   "metadata": {},
   "outputs": [
    {
     "data": {
      "text/plain": [
       "<div class=\"quote\" itemscope=\"\" itemtype=\"http://schema.org/CreativeWork\">\n",
       "<span class=\"text\" itemprop=\"text\">“The world as we have created it is a process of our thinking. It cannot be changed without changing our thinking.”</span>\n",
       "<span>by <small class=\"author\" itemprop=\"author\">Albert Einstein</small>\n",
       "<a href=\"/author/Albert-Einstein\">(about)</a>\n",
       "</span>\n",
       "<div class=\"tags\">\n",
       "            Tags:\n",
       "            <meta class=\"keywords\" content=\"change,deep-thoughts,thinking,world\" itemprop=\"keywords\"/>\n",
       "<a class=\"tag\" href=\"/tag/change/page/1/\">change</a>\n",
       "<a class=\"tag\" href=\"/tag/deep-thoughts/page/1/\">deep-thoughts</a>\n",
       "<a class=\"tag\" href=\"/tag/thinking/page/1/\">thinking</a>\n",
       "<a class=\"tag\" href=\"/tag/world/page/1/\">world</a>\n",
       "</div>\n",
       "</div>"
      ]
     },
     "execution_count": 38,
     "metadata": {},
     "output_type": "execute_result"
    }
   ],
   "source": [
    "divs[0]"
   ]
  },
  {
   "cell_type": "code",
   "execution_count": 39,
   "id": "4f30262c",
   "metadata": {},
   "outputs": [
    {
     "data": {
      "text/plain": [
       "'“The world as we have created it is a process of our thinking. It cannot be changed without changing our thinking.”'"
      ]
     },
     "execution_count": 39,
     "metadata": {},
     "output_type": "execute_result"
    }
   ],
   "source": [
    "# The quote.\n",
    "divs[0].find('span', class_='text').text"
   ]
  },
  {
   "cell_type": "code",
   "execution_count": 40,
   "id": "1272c502",
   "metadata": {},
   "outputs": [
    {
     "data": {
      "text/plain": [
       "'Albert Einstein'"
      ]
     },
     "execution_count": 40,
     "metadata": {},
     "output_type": "execute_result"
    }
   ],
   "source": [
    "# The author.\n",
    "divs[0].find('small', class_='author').text"
   ]
  },
  {
   "cell_type": "code",
   "execution_count": 41,
   "id": "f718f109",
   "metadata": {},
   "outputs": [
    {
     "data": {
      "text/plain": [
       "'/author/Albert-Einstein'"
      ]
     },
     "execution_count": 41,
     "metadata": {},
     "output_type": "execute_result"
    }
   ],
   "source": [
    "# The URL for the author.\n",
    "divs[0].find('a').get('href')"
   ]
  },
  {
   "cell_type": "code",
   "execution_count": 42,
   "id": "12aafc18",
   "metadata": {},
   "outputs": [
    {
     "data": {
      "text/plain": [
       "'change,deep-thoughts,thinking,world'"
      ]
     },
     "execution_count": 42,
     "metadata": {},
     "output_type": "execute_result"
    }
   ],
   "source": [
    "# The quote's tags.\n",
    "divs[0].find('meta', class_='keywords').get('content')"
   ]
  },
  {
   "cell_type": "markdown",
   "id": "c497f2fc",
   "metadata": {
    "slideshow": {
     "slide_type": "slide"
    }
   },
   "source": [
    "Let's implement our next function, `process_quote`, which takes in a `<div>` corresponding to a single quote and returns a dictionary containing the quote's information.\n",
    "\n",
    "Why use a dictionary? Passing `pd.DataFrame` a list of dictionaries is an easy way to create a DataFrame."
   ]
  },
  {
   "cell_type": "code",
   "execution_count": 43,
   "id": "7e51643f",
   "metadata": {},
   "outputs": [],
   "source": [
    "def process_quote(div):\n",
    "    quote = div.find('span', class_='text').text\n",
    "    author = div.find('small', class_='author').text\n",
    "    author_url = 'https://quotes.toscrape.com' + div.find('a').get('href')\n",
    "    tags = div.find('meta', class_='keywords').get('content')\n",
    "    \n",
    "    return {'quote': quote, 'author': author, 'author_url': author_url, 'tags': tags}"
   ]
  },
  {
   "cell_type": "code",
   "execution_count": 44,
   "id": "3b620164",
   "metadata": {},
   "outputs": [
    {
     "data": {
      "text/plain": [
       "{'quote': '“A day without sunshine is like, you know, night.”',\n",
       " 'author': 'Steve Martin',\n",
       " 'author_url': 'https://quotes.toscrape.com/author/Steve-Martin',\n",
       " 'tags': 'humor,obvious,simile'}"
      ]
     },
     "execution_count": 44,
     "metadata": {},
     "output_type": "execute_result"
    }
   ],
   "source": [
    "process_quote(divs[-1])"
   ]
  },
  {
   "cell_type": "markdown",
   "id": "f70a761e",
   "metadata": {
    "slideshow": {
     "slide_type": "slide"
    }
   },
   "source": [
    "Our last helper function will take in a **list** of `<div>`s, call `process_quote` on each `<div>` in the list, and return a **DataFrame**."
   ]
  },
  {
   "cell_type": "code",
   "execution_count": 45,
   "id": "100b9953",
   "metadata": {},
   "outputs": [],
   "source": [
    "def process_page(divs):\n",
    "    return pd.DataFrame([process_quote(div) for div in divs])"
   ]
  },
  {
   "cell_type": "code",
   "execution_count": 46,
   "id": "c8b3625b",
   "metadata": {
    "scrolled": true
   },
   "outputs": [
    {
     "data": {
      "text/html": [
       "<div>\n",
       "<style scoped>\n",
       "    .dataframe tbody tr th:only-of-type {\n",
       "        vertical-align: middle;\n",
       "    }\n",
       "\n",
       "    .dataframe tbody tr th {\n",
       "        vertical-align: top;\n",
       "    }\n",
       "\n",
       "    .dataframe thead th {\n",
       "        text-align: right;\n",
       "    }\n",
       "</style>\n",
       "<table border=\"1\" class=\"dataframe\">\n",
       "  <thead>\n",
       "    <tr style=\"text-align: right;\">\n",
       "      <th></th>\n",
       "      <th>quote</th>\n",
       "      <th>author</th>\n",
       "      <th>author_url</th>\n",
       "      <th>tags</th>\n",
       "    </tr>\n",
       "  </thead>\n",
       "  <tbody>\n",
       "    <tr>\n",
       "      <th>0</th>\n",
       "      <td>“The world as we have created it is a process ...</td>\n",
       "      <td>Albert Einstein</td>\n",
       "      <td>https://quotes.toscrape.com/author/Albert-Eins...</td>\n",
       "      <td>change,deep-thoughts,thinking,world</td>\n",
       "    </tr>\n",
       "    <tr>\n",
       "      <th>1</th>\n",
       "      <td>“It is our choices, Harry, that show what we t...</td>\n",
       "      <td>J.K. Rowling</td>\n",
       "      <td>https://quotes.toscrape.com/author/J-K-Rowling</td>\n",
       "      <td>abilities,choices</td>\n",
       "    </tr>\n",
       "    <tr>\n",
       "      <th>2</th>\n",
       "      <td>“There are only two ways to live your life. On...</td>\n",
       "      <td>Albert Einstein</td>\n",
       "      <td>https://quotes.toscrape.com/author/Albert-Eins...</td>\n",
       "      <td>inspirational,life,live,miracle,miracles</td>\n",
       "    </tr>\n",
       "    <tr>\n",
       "      <th>...</th>\n",
       "      <td>...</td>\n",
       "      <td>...</td>\n",
       "      <td>...</td>\n",
       "      <td>...</td>\n",
       "    </tr>\n",
       "    <tr>\n",
       "      <th>7</th>\n",
       "      <td>“I have not failed. I've just found 10,000 way...</td>\n",
       "      <td>Thomas A. Edison</td>\n",
       "      <td>https://quotes.toscrape.com/author/Thomas-A-Ed...</td>\n",
       "      <td>edison,failure,inspirational,paraphrased</td>\n",
       "    </tr>\n",
       "    <tr>\n",
       "      <th>8</th>\n",
       "      <td>“A woman is like a tea bag; you never know how...</td>\n",
       "      <td>Eleanor Roosevelt</td>\n",
       "      <td>https://quotes.toscrape.com/author/Eleanor-Roo...</td>\n",
       "      <td>misattributed-eleanor-roosevelt</td>\n",
       "    </tr>\n",
       "    <tr>\n",
       "      <th>9</th>\n",
       "      <td>“A day without sunshine is like, you know, nig...</td>\n",
       "      <td>Steve Martin</td>\n",
       "      <td>https://quotes.toscrape.com/author/Steve-Martin</td>\n",
       "      <td>humor,obvious,simile</td>\n",
       "    </tr>\n",
       "  </tbody>\n",
       "</table>\n",
       "<p>10 rows × 4 columns</p>\n",
       "</div>"
      ],
      "text/plain": [
       "                                                quote             author  \\\n",
       "0   “The world as we have created it is a process ...    Albert Einstein   \n",
       "1   “It is our choices, Harry, that show what we t...       J.K. Rowling   \n",
       "2   “There are only two ways to live your life. On...    Albert Einstein   \n",
       "..                                                ...                ...   \n",
       "7   “I have not failed. I've just found 10,000 way...   Thomas A. Edison   \n",
       "8   “A woman is like a tea bag; you never know how...  Eleanor Roosevelt   \n",
       "9   “A day without sunshine is like, you know, nig...       Steve Martin   \n",
       "\n",
       "                                           author_url  \\\n",
       "0   https://quotes.toscrape.com/author/Albert-Eins...   \n",
       "1      https://quotes.toscrape.com/author/J-K-Rowling   \n",
       "2   https://quotes.toscrape.com/author/Albert-Eins...   \n",
       "..                                                ...   \n",
       "7   https://quotes.toscrape.com/author/Thomas-A-Ed...   \n",
       "8   https://quotes.toscrape.com/author/Eleanor-Roo...   \n",
       "9     https://quotes.toscrape.com/author/Steve-Martin   \n",
       "\n",
       "                                        tags  \n",
       "0        change,deep-thoughts,thinking,world  \n",
       "1                          abilities,choices  \n",
       "2   inspirational,life,live,miracle,miracles  \n",
       "..                                       ...  \n",
       "7   edison,failure,inspirational,paraphrased  \n",
       "8            misattributed-eleanor-roosevelt  \n",
       "9                       humor,obvious,simile  \n",
       "\n",
       "[10 rows x 4 columns]"
      ]
     },
     "execution_count": 46,
     "metadata": {},
     "output_type": "execute_result"
    }
   ],
   "source": [
    "process_page(divs)"
   ]
  },
  {
   "cell_type": "markdown",
   "id": "a0408fbd",
   "metadata": {
    "slideshow": {
     "slide_type": "slide"
    }
   },
   "source": [
    "### Putting it all together"
   ]
  },
  {
   "cell_type": "code",
   "execution_count": 47,
   "id": "40f71cb1",
   "metadata": {},
   "outputs": [],
   "source": [
    "def make_quote_df(n):\n",
    "    '''Returns a DataFrame containing the quotes on the first n pages of https://quotes.toscrape.com/.'''\n",
    "    dfs = []\n",
    "    for i in range(1, n+1):\n",
    "        # Download page n and create a BeautifulSoup object.\n",
    "        soup = download_page(i)\n",
    "        \n",
    "        # Create DataFrame using the information in that page.\n",
    "        divs = soup.find_all('div', class_='quote')\n",
    "        df = process_page(divs)\n",
    "        \n",
    "        # Append DataFrame to dfs.\n",
    "        dfs.append(df)\n",
    "        \n",
    "    # Stitch all DataFrames together.\n",
    "    return pd.concat(dfs).reset_index(drop=True)"
   ]
  },
  {
   "cell_type": "code",
   "execution_count": 48,
   "id": "5a410385",
   "metadata": {
    "scrolled": true
   },
   "outputs": [
    {
     "data": {
      "text/html": [
       "<div>\n",
       "<style scoped>\n",
       "    .dataframe tbody tr th:only-of-type {\n",
       "        vertical-align: middle;\n",
       "    }\n",
       "\n",
       "    .dataframe tbody tr th {\n",
       "        vertical-align: top;\n",
       "    }\n",
       "\n",
       "    .dataframe thead th {\n",
       "        text-align: right;\n",
       "    }\n",
       "</style>\n",
       "<table border=\"1\" class=\"dataframe\">\n",
       "  <thead>\n",
       "    <tr style=\"text-align: right;\">\n",
       "      <th></th>\n",
       "      <th>quote</th>\n",
       "      <th>author</th>\n",
       "      <th>author_url</th>\n",
       "      <th>tags</th>\n",
       "    </tr>\n",
       "  </thead>\n",
       "  <tbody>\n",
       "    <tr>\n",
       "      <th>0</th>\n",
       "      <td>“The world as we have created it is a process ...</td>\n",
       "      <td>Albert Einstein</td>\n",
       "      <td>https://quotes.toscrape.com/author/Albert-Eins...</td>\n",
       "      <td>change,deep-thoughts,thinking,world</td>\n",
       "    </tr>\n",
       "    <tr>\n",
       "      <th>1</th>\n",
       "      <td>“It is our choices, Harry, that show what we t...</td>\n",
       "      <td>J.K. Rowling</td>\n",
       "      <td>https://quotes.toscrape.com/author/J-K-Rowling</td>\n",
       "      <td>abilities,choices</td>\n",
       "    </tr>\n",
       "    <tr>\n",
       "      <th>2</th>\n",
       "      <td>“There are only two ways to live your life. On...</td>\n",
       "      <td>Albert Einstein</td>\n",
       "      <td>https://quotes.toscrape.com/author/Albert-Eins...</td>\n",
       "      <td>inspirational,life,live,miracle,miracles</td>\n",
       "    </tr>\n",
       "    <tr>\n",
       "      <th>3</th>\n",
       "      <td>“The person, be it gentleman or lady, who has ...</td>\n",
       "      <td>Jane Austen</td>\n",
       "      <td>https://quotes.toscrape.com/author/Jane-Austen</td>\n",
       "      <td>aliteracy,books,classic,humor</td>\n",
       "    </tr>\n",
       "    <tr>\n",
       "      <th>4</th>\n",
       "      <td>“Imperfection is beauty, madness is genius and...</td>\n",
       "      <td>Marilyn Monroe</td>\n",
       "      <td>https://quotes.toscrape.com/author/Marilyn-Monroe</td>\n",
       "      <td>be-yourself,inspirational</td>\n",
       "    </tr>\n",
       "  </tbody>\n",
       "</table>\n",
       "</div>"
      ],
      "text/plain": [
       "                                               quote           author  \\\n",
       "0  “The world as we have created it is a process ...  Albert Einstein   \n",
       "1  “It is our choices, Harry, that show what we t...     J.K. Rowling   \n",
       "2  “There are only two ways to live your life. On...  Albert Einstein   \n",
       "3  “The person, be it gentleman or lady, who has ...      Jane Austen   \n",
       "4  “Imperfection is beauty, madness is genius and...   Marilyn Monroe   \n",
       "\n",
       "                                          author_url  \\\n",
       "0  https://quotes.toscrape.com/author/Albert-Eins...   \n",
       "1     https://quotes.toscrape.com/author/J-K-Rowling   \n",
       "2  https://quotes.toscrape.com/author/Albert-Eins...   \n",
       "3     https://quotes.toscrape.com/author/Jane-Austen   \n",
       "4  https://quotes.toscrape.com/author/Marilyn-Monroe   \n",
       "\n",
       "                                       tags  \n",
       "0       change,deep-thoughts,thinking,world  \n",
       "1                         abilities,choices  \n",
       "2  inspirational,life,live,miracle,miracles  \n",
       "3             aliteracy,books,classic,humor  \n",
       "4                 be-yourself,inspirational  "
      ]
     },
     "execution_count": 48,
     "metadata": {},
     "output_type": "execute_result"
    }
   ],
   "source": [
    "quotes = make_quote_df(3)\n",
    "quotes.head()"
   ]
  },
  {
   "cell_type": "code",
   "execution_count": 49,
   "id": "c02b79e2",
   "metadata": {},
   "outputs": [
    {
     "data": {
      "text/html": [
       "<div>\n",
       "<style scoped>\n",
       "    .dataframe tbody tr th:only-of-type {\n",
       "        vertical-align: middle;\n",
       "    }\n",
       "\n",
       "    .dataframe tbody tr th {\n",
       "        vertical-align: top;\n",
       "    }\n",
       "\n",
       "    .dataframe thead th {\n",
       "        text-align: right;\n",
       "    }\n",
       "</style>\n",
       "<table border=\"1\" class=\"dataframe\">\n",
       "  <thead>\n",
       "    <tr style=\"text-align: right;\">\n",
       "      <th></th>\n",
       "      <th>quote</th>\n",
       "      <th>author</th>\n",
       "      <th>author_url</th>\n",
       "      <th>tags</th>\n",
       "    </tr>\n",
       "  </thead>\n",
       "  <tbody>\n",
       "    <tr>\n",
       "      <th>0</th>\n",
       "      <td>“The world as we have created it is a process ...</td>\n",
       "      <td>Albert Einstein</td>\n",
       "      <td>https://quotes.toscrape.com/author/Albert-Eins...</td>\n",
       "      <td>change,deep-thoughts,thinking,world</td>\n",
       "    </tr>\n",
       "    <tr>\n",
       "      <th>2</th>\n",
       "      <td>“There are only two ways to live your life. On...</td>\n",
       "      <td>Albert Einstein</td>\n",
       "      <td>https://quotes.toscrape.com/author/Albert-Eins...</td>\n",
       "      <td>inspirational,life,live,miracle,miracles</td>\n",
       "    </tr>\n",
       "    <tr>\n",
       "      <th>5</th>\n",
       "      <td>“Try not to become a man of success. Rather be...</td>\n",
       "      <td>Albert Einstein</td>\n",
       "      <td>https://quotes.toscrape.com/author/Albert-Eins...</td>\n",
       "      <td>adulthood,success,value</td>\n",
       "    </tr>\n",
       "    <tr>\n",
       "      <th>12</th>\n",
       "      <td>“If you can't explain it to a six year old, yo...</td>\n",
       "      <td>Albert Einstein</td>\n",
       "      <td>https://quotes.toscrape.com/author/Albert-Eins...</td>\n",
       "      <td>simplicity,understand</td>\n",
       "    </tr>\n",
       "    <tr>\n",
       "      <th>26</th>\n",
       "      <td>“If you want your children to be intelligent, ...</td>\n",
       "      <td>Albert Einstein</td>\n",
       "      <td>https://quotes.toscrape.com/author/Albert-Eins...</td>\n",
       "      <td>children,fairy-tales</td>\n",
       "    </tr>\n",
       "    <tr>\n",
       "      <th>28</th>\n",
       "      <td>“Logic will get you from A to Z; imagination w...</td>\n",
       "      <td>Albert Einstein</td>\n",
       "      <td>https://quotes.toscrape.com/author/Albert-Eins...</td>\n",
       "      <td>imagination</td>\n",
       "    </tr>\n",
       "  </tbody>\n",
       "</table>\n",
       "</div>"
      ],
      "text/plain": [
       "                                                quote           author  \\\n",
       "0   “The world as we have created it is a process ...  Albert Einstein   \n",
       "2   “There are only two ways to live your life. On...  Albert Einstein   \n",
       "5   “Try not to become a man of success. Rather be...  Albert Einstein   \n",
       "12  “If you can't explain it to a six year old, yo...  Albert Einstein   \n",
       "26  “If you want your children to be intelligent, ...  Albert Einstein   \n",
       "28  “Logic will get you from A to Z; imagination w...  Albert Einstein   \n",
       "\n",
       "                                           author_url  \\\n",
       "0   https://quotes.toscrape.com/author/Albert-Eins...   \n",
       "2   https://quotes.toscrape.com/author/Albert-Eins...   \n",
       "5   https://quotes.toscrape.com/author/Albert-Eins...   \n",
       "12  https://quotes.toscrape.com/author/Albert-Eins...   \n",
       "26  https://quotes.toscrape.com/author/Albert-Eins...   \n",
       "28  https://quotes.toscrape.com/author/Albert-Eins...   \n",
       "\n",
       "                                        tags  \n",
       "0        change,deep-thoughts,thinking,world  \n",
       "2   inspirational,life,live,miracle,miracles  \n",
       "5                    adulthood,success,value  \n",
       "12                     simplicity,understand  \n",
       "26                      children,fairy-tales  \n",
       "28                               imagination  "
      ]
     },
     "execution_count": 49,
     "metadata": {},
     "output_type": "execute_result"
    }
   ],
   "source": [
    "quotes[quotes['author'] == 'Albert Einstein']"
   ]
  },
  {
   "cell_type": "markdown",
   "id": "1d64de1c",
   "metadata": {},
   "source": [
    "The elements in the `'tags'` column are all strings, but they look like lists. This is not ideal, as we will see shortly."
   ]
  },
  {
   "cell_type": "markdown",
   "id": "843566af",
   "metadata": {
    "slideshow": {
     "slide_type": "slide"
    }
   },
   "source": [
    "## Example: Scraping the HDSI faculty page"
   ]
  },
  {
   "cell_type": "markdown",
   "id": "369eb99b",
   "metadata": {
    "slideshow": {
     "slide_type": "slide"
    }
   },
   "source": [
    "### Example: Scraping the HDSI faculty page\n",
    "\n",
    "Let's try and extract a list of HDSI Faculty from [datascience.ucsd.edu/faculty](https://datascience.ucsd.edu/faculty).\n",
    "\n",
    "- As usual, we start by opening the page, right clicking somewhere on the page, and clicking \"Inspect\" in Chrome.\n",
    "- As we can see, the HTML is much more complicated – this is usually the case for websites in the wild."
   ]
  },
  {
   "cell_type": "code",
   "execution_count": 50,
   "id": "e3632dec",
   "metadata": {},
   "outputs": [
    {
     "data": {
      "text/plain": [
       "<Response [200]>"
      ]
     },
     "execution_count": 50,
     "metadata": {},
     "output_type": "execute_result"
    }
   ],
   "source": [
    "fac_response = requests.get('https://datascience.ucsd.edu/faculty/')\n",
    "fac_response"
   ]
  },
  {
   "cell_type": "code",
   "execution_count": 51,
   "id": "f7f1ceaf",
   "metadata": {},
   "outputs": [],
   "source": [
    "soup = bs4.BeautifulSoup(fac_response.text)"
   ]
  },
  {
   "cell_type": "markdown",
   "id": "72d81b5d",
   "metadata": {
    "slideshow": {
     "slide_type": "slide"
    }
   },
   "source": [
    "It's not easy identifying which `<div>`s we want. The Inspect tool makes this easier, but it's good to verify that `find_all` is finding the right number of elements."
   ]
  },
  {
   "cell_type": "code",
   "execution_count": 52,
   "id": "211b2796",
   "metadata": {
    "slideshow": {
     "slide_type": "-"
    }
   },
   "outputs": [],
   "source": [
    "divs = soup.find_all(\n",
    "    class_='vc_grid-item',\n",
    ")"
   ]
  },
  {
   "cell_type": "code",
   "execution_count": 53,
   "id": "f99ff002",
   "metadata": {},
   "outputs": [
    {
     "data": {
      "text/plain": [
       "63"
      ]
     },
     "execution_count": 53,
     "metadata": {},
     "output_type": "execute_result"
    }
   ],
   "source": [
    "len(divs)"
   ]
  },
  {
   "cell_type": "markdown",
   "id": "64ba3737",
   "metadata": {
    "slideshow": {
     "slide_type": "fragment"
    }
   },
   "source": [
    "Within here, we need to extract each faculty member's name. It seems like names are stored as text within the `<h4>` tag."
   ]
  },
  {
   "cell_type": "code",
   "execution_count": 54,
   "id": "30fe9134",
   "metadata": {},
   "outputs": [
    {
     "data": {
      "text/plain": [
       "<div class=\"vc_grid-item vc_clearfix col_1-5 vc_grid-item-zone-c-bottom vc_visible-item vc_grid-term-council vc_grid-term-faculty vc_grid-term-faculty-fellows\">\n",
       "<a class=\"anchor-link\" id=\"ilkay-altintas\" name=\"ilkay-altintas\"></a>\n",
       "<div class=\"vc_grid-item-mini vc_clearfix\"><div class=\"vc_gitem-animated-block\">\n",
       "<div class=\"vc_gitem-zone vc_gitem-zone-a vc-gitem-zone-height-mode-auto vc-gitem-zone-height-mode-auto-1-1\" style=\"background-image: url(https://datascience.ucsd.edu/wp-content/uploads/2022/10/ilkayaltintas_headshot.jpg) !important;\"><a class=\"vc_gitem-link vc-zone-link\" href=\"https://datascience.ucsd.edu/people/ilkay-altintas/\"></a><img alt=\"Ilkay Altintas\" class=\"vc_gitem-zone-img\" decoding=\"async\" src=\"https://datascience.ucsd.edu/wp-content/uploads/2022/10/ilkayaltintas_headshot.jpg\"/>\n",
       "<div class=\"vc_gitem-zone-mini\"></div>\n",
       "</div>\n",
       "</div><div class=\"vc_gitem-zone vc_gitem-zone-c\">\n",
       "<div class=\"vc_gitem-zone-mini\">\n",
       "<div class=\"vc_gitem_row vc_row vc_gitem-row-position-top\">\n",
       "<div class=\"vc_col-sm-12 vc_gitem-col vc_gitem-col-align-\">\n",
       "<div class=\"vc_custom_heading vc_gitem-post-data vc_gitem-post-data-source-post_title\">\n",
       "<h4 style=\"text-align: left\"><a href=\"https://datascience.ucsd.edu/people/ilkay-altintas/\">Ilkay Altintas</a></h4>\n",
       "</div>\n",
       "<div class=\"vc_gitem-align-left fields\">\n",
       "<div class=\"field pendari_people_title\">SDSC Chief Data Science Officer &amp; HDSI Founding Faculty Fellow</div>\n",
       "</div>\n",
       "<div class=\"excerpt\">\n",
       "</div>\n",
       "<div class=\"terms\">\n",
       "                        Council Faculty Faculty Fellows \n",
       "                      </div>\n",
       "</div>\n",
       "</div>\n",
       "</div>\n",
       "</div></div></div>"
      ]
     },
     "execution_count": 54,
     "metadata": {},
     "output_type": "execute_result"
    }
   ],
   "source": [
    "divs[0]"
   ]
  },
  {
   "cell_type": "code",
   "execution_count": 55,
   "id": "b5f561fd",
   "metadata": {
    "scrolled": true
   },
   "outputs": [
    {
     "data": {
      "text/plain": [
       "'Ilkay Altintas'"
      ]
     },
     "execution_count": 55,
     "metadata": {},
     "output_type": "execute_result"
    }
   ],
   "source": [
    "divs[0].find('h4').text"
   ]
  },
  {
   "cell_type": "markdown",
   "id": "0aebbac3",
   "metadata": {
    "slideshow": {
     "slide_type": "fragment"
    }
   },
   "source": [
    "We can also extract job titles:"
   ]
  },
  {
   "cell_type": "code",
   "execution_count": 56,
   "id": "8eb91b1c",
   "metadata": {},
   "outputs": [
    {
     "data": {
      "text/plain": [
       "'SDSC Chief Data Science Officer & HDSI Founding Faculty Fellow'"
      ]
     },
     "execution_count": 56,
     "metadata": {},
     "output_type": "execute_result"
    }
   ],
   "source": [
    "divs[0].find(class_='field').text"
   ]
  },
  {
   "cell_type": "markdown",
   "id": "95094856",
   "metadata": {
    "slideshow": {
     "slide_type": "slide"
    }
   },
   "source": [
    "Let's create a DataFrame consisting of names and job titles for each faculty member."
   ]
  },
  {
   "cell_type": "code",
   "execution_count": 57,
   "id": "62ac3b1d",
   "metadata": {
    "scrolled": true
   },
   "outputs": [
    {
     "data": {
      "text/plain": [
       "['Ilkay Altintas',\n",
       " 'Tiffany Amariuta',\n",
       " 'Mikio Aoi',\n",
       " 'Ery Arias-Castro',\n",
       " 'Vineet Bafna',\n",
       " 'Mikhail Belkin',\n",
       " 'Jelena Bradic',\n",
       " 'Henrik Christensen',\n",
       " 'Alex Cloninger',\n",
       " 'Anders Dale']"
      ]
     },
     "execution_count": 57,
     "metadata": {},
     "output_type": "execute_result"
    }
   ],
   "source": [
    "names = [div.find('h4').text for div in divs]\n",
    "names[:10]"
   ]
  },
  {
   "cell_type": "code",
   "execution_count": 58,
   "id": "87ba7fa8",
   "metadata": {
    "scrolled": true
   },
   "outputs": [
    {
     "data": {
      "text/plain": [
       "['SDSC Chief Data Science Officer & HDSI Founding Faculty Fellow',\n",
       " 'Assistant Professor',\n",
       " 'Assistant Professor',\n",
       " 'Professor',\n",
       " 'Professor',\n",
       " 'Professor',\n",
       " 'Professor',\n",
       " 'Distinguished Scientist, Professor',\n",
       " 'Associate Professor',\n",
       " 'Distinguished Scientist, Professor']"
      ]
     },
     "execution_count": 58,
     "metadata": {},
     "output_type": "execute_result"
    }
   ],
   "source": [
    "titles = [div.find(class_='field').text for div in divs]\n",
    "titles[:10]"
   ]
  },
  {
   "cell_type": "code",
   "execution_count": 59,
   "id": "e446de43",
   "metadata": {},
   "outputs": [
    {
     "data": {
      "text/html": [
       "<div>\n",
       "<style scoped>\n",
       "    .dataframe tbody tr th:only-of-type {\n",
       "        vertical-align: middle;\n",
       "    }\n",
       "\n",
       "    .dataframe tbody tr th {\n",
       "        vertical-align: top;\n",
       "    }\n",
       "\n",
       "    .dataframe thead th {\n",
       "        text-align: right;\n",
       "    }\n",
       "</style>\n",
       "<table border=\"1\" class=\"dataframe\">\n",
       "  <thead>\n",
       "    <tr style=\"text-align: right;\">\n",
       "      <th></th>\n",
       "      <th>name</th>\n",
       "      <th>title</th>\n",
       "    </tr>\n",
       "  </thead>\n",
       "  <tbody>\n",
       "    <tr>\n",
       "      <th>0</th>\n",
       "      <td>Ilkay Altintas</td>\n",
       "      <td>SDSC Chief Data Science Officer &amp; HDSI Foundin...</td>\n",
       "    </tr>\n",
       "    <tr>\n",
       "      <th>1</th>\n",
       "      <td>Tiffany Amariuta</td>\n",
       "      <td>Assistant Professor</td>\n",
       "    </tr>\n",
       "    <tr>\n",
       "      <th>2</th>\n",
       "      <td>Mikio Aoi</td>\n",
       "      <td>Assistant Professor</td>\n",
       "    </tr>\n",
       "    <tr>\n",
       "      <th>3</th>\n",
       "      <td>Ery Arias-Castro</td>\n",
       "      <td>Professor</td>\n",
       "    </tr>\n",
       "    <tr>\n",
       "      <th>4</th>\n",
       "      <td>Vineet Bafna</td>\n",
       "      <td>Professor</td>\n",
       "    </tr>\n",
       "  </tbody>\n",
       "</table>\n",
       "</div>"
      ],
      "text/plain": [
       "               name                                              title\n",
       "0    Ilkay Altintas  SDSC Chief Data Science Officer & HDSI Foundin...\n",
       "1  Tiffany Amariuta                                Assistant Professor\n",
       "2         Mikio Aoi                                Assistant Professor\n",
       "3  Ery Arias-Castro                                          Professor\n",
       "4      Vineet Bafna                                          Professor"
      ]
     },
     "execution_count": 59,
     "metadata": {},
     "output_type": "execute_result"
    }
   ],
   "source": [
    "faculty = pd.DataFrame({\n",
    "    'name': names, \n",
    "    'title': titles, \n",
    "})\n",
    "faculty.head()"
   ]
  },
  {
   "cell_type": "markdown",
   "id": "f5ce49fa",
   "metadata": {},
   "source": [
    "Now we have a DataFrame!"
   ]
  },
  {
   "cell_type": "code",
   "execution_count": 60,
   "id": "d4a53b16",
   "metadata": {},
   "outputs": [
    {
     "data": {
      "text/html": [
       "<div>\n",
       "<style scoped>\n",
       "    .dataframe tbody tr th:only-of-type {\n",
       "        vertical-align: middle;\n",
       "    }\n",
       "\n",
       "    .dataframe tbody tr th {\n",
       "        vertical-align: top;\n",
       "    }\n",
       "\n",
       "    .dataframe thead th {\n",
       "        text-align: right;\n",
       "    }\n",
       "</style>\n",
       "<table border=\"1\" class=\"dataframe\">\n",
       "  <thead>\n",
       "    <tr style=\"text-align: right;\">\n",
       "      <th></th>\n",
       "      <th>name</th>\n",
       "      <th>title</th>\n",
       "    </tr>\n",
       "  </thead>\n",
       "  <tbody>\n",
       "    <tr>\n",
       "      <th>12</th>\n",
       "      <td>Justin Eldridge</td>\n",
       "      <td>Assistant Teaching Professor</td>\n",
       "    </tr>\n",
       "    <tr>\n",
       "      <th>13</th>\n",
       "      <td>Shannon Ellis</td>\n",
       "      <td>Associate Teaching Professor</td>\n",
       "    </tr>\n",
       "    <tr>\n",
       "      <th>27</th>\n",
       "      <td>Marina Langlois</td>\n",
       "      <td>Lecturer</td>\n",
       "    </tr>\n",
       "    <tr>\n",
       "      <th>...</th>\n",
       "      <td>...</td>\n",
       "      <td>...</td>\n",
       "    </tr>\n",
       "    <tr>\n",
       "      <th>39</th>\n",
       "      <td>Suraj Rampure</td>\n",
       "      <td>Lecturer</td>\n",
       "    </tr>\n",
       "    <tr>\n",
       "      <th>47</th>\n",
       "      <td>Jack Silberman</td>\n",
       "      <td>Lecturer</td>\n",
       "    </tr>\n",
       "    <tr>\n",
       "      <th>51</th>\n",
       "      <td>Janine Tiefenbruck</td>\n",
       "      <td>Lecturer</td>\n",
       "    </tr>\n",
       "  </tbody>\n",
       "</table>\n",
       "<p>9 rows × 2 columns</p>\n",
       "</div>"
      ],
      "text/plain": [
       "                  name                         title\n",
       "12     Justin Eldridge  Assistant Teaching Professor\n",
       "13       Shannon Ellis  Associate Teaching Professor\n",
       "27     Marina Langlois                      Lecturer\n",
       "..                 ...                           ...\n",
       "39       Suraj Rampure                      Lecturer\n",
       "47      Jack Silberman                      Lecturer\n",
       "51  Janine Tiefenbruck                      Lecturer\n",
       "\n",
       "[9 rows x 2 columns]"
      ]
     },
     "execution_count": 60,
     "metadata": {},
     "output_type": "execute_result"
    }
   ],
   "source": [
    "faculty[faculty['title'].str.contains('Teaching') | faculty['title'].str.contains('Lecturer')]"
   ]
  },
  {
   "cell_type": "markdown",
   "id": "7247b351",
   "metadata": {
    "slideshow": {
     "slide_type": "slide"
    }
   },
   "source": [
    "What if we want to get faculty members' pictures? "
   ]
  },
  {
   "cell_type": "code",
   "execution_count": 61,
   "id": "5fadc445",
   "metadata": {},
   "outputs": [
    {
     "data": {
      "image/jpeg": "[encoded data removed]",
      "text/plain": [
       "<IPython.core.display.Image object>"
      ]
     },
     "metadata": {
      "image/jpeg": {
       "height": 200,
       "width": 200
      }
     },
     "output_type": "display_data"
    }
   ],
   "source": [
    "from IPython.display import Image, display\n",
    "\n",
    "def show_picture(name):\n",
    "    idx = faculty[faculty['name'].str.lower().str.contains(name.lower())].index[0]\n",
    "    display(Image(divs[idx].find('img')['src'], width=200, height=200))\n",
    "    \n",
    "show_picture('marina')"
   ]
  },
  {
   "cell_type": "markdown",
   "id": "4bbbd8ff",
   "metadata": {
    "slideshow": {
     "slide_type": "slide"
    }
   },
   "source": [
    "<div class=\"alert alert-warning\">\n",
    "    <h3>Question 🤔 (Answer at <a class=\"alert-link\" href=\"http://q.dsc80.com\">q.dsc80.com)</h3>\n",
    "\n",
    "Consider the following HTML document, which represents a webpage containing the top few songs with the most streams on Spotify today in Canada.\n",
    "\n",
    "```html\n",
    "<head>\n",
    "    <title>3*Canada-2022-06-04</title>\n",
    "</head>\n",
    "<body>\n",
    "    <h1>Spotify Top 3 - Canada</h1>\n",
    "    <table>\n",
    "        <tr class='heading'>\n",
    "            <th>Rank</th>\n",
    "            <th>Artist(s)</th> \n",
    "            <th>Song</th>\n",
    "        </tr>\n",
    "        <tr class=1>\n",
    "            <td>1</td>\n",
    "            <td>Harry Styles</td> \n",
    "            <td>As It Was</td>\n",
    "        </tr>\n",
    "        <tr class=2>\n",
    "            <td>2</td>\n",
    "            <td>Jack Harlow</td> \n",
    "            <td>First Class</td>\n",
    "        </tr>\n",
    "        <tr class=3>\n",
    "            <td>3</td>\n",
    "            <td>Kendrick Lamar</td> \n",
    "            <td>N95</td>\n",
    "        </tr>\n",
    "    </table>\n",
    "</body>\n",
    "```\n",
    "\n",
    "</div>\n",
    "\n",
    "**Part 4**: Complete the implementation of the function `top_nth`, which takes in a positive integer `n` and returns the name of the n-th ranked song in the HTML document. For instance, `top_nth(2)` should evaluate to `\"First Class\"` (`n=1` corresponds to the top song).\n",
    "\n",
    "Note: Your implementation should work in the case that the page contains more than 3 songs.\n",
    "\n",
    "```py\n",
    "def top_nth(n):\n",
    "    return soup.find(\"tr\", attrs=__(a)__).find_all(\"td\")__(b)__\n",
    "```"
   ]
  },
  {
   "cell_type": "markdown",
   "id": "a6ad66d4",
   "metadata": {
    "slideshow": {
     "slide_type": "slide"
    }
   },
   "source": [
    "### Web data in practice\n",
    "\n",
    "[The spread of true and false news online](https://www.science.org/doi/full/10.1126/science.aap9559) by Vosoughi et al. compared how true and false news spreads via Twitter:\n",
    "\n",
    "> There is worldwide concern over false news and the possibility that it can influence political, economic, and social well-being. To understand how false news spreads, Vosoughi et al. used a data set of rumor cascades on Twitter from 2006 to 2017. About 126,000 rumors were spread by ∼3 million people. False news reached more people than the truth; the top 1% of false news cascades diffused to between 1000 and 100,000 people, whereas the truth rarely diffused to more than 1000 people. Falsehood also diffused faster than the truth. The degree of novelty and the emotional reactions of recipients may be responsible for the differences observed.\n",
    "\n",
    "To conduct this study, the authors used the Twitter API for accessing tweets and web-scraped fact-checking websites to verify whether news was false or not."
   ]
  },
  {
   "cell_type": "markdown",
   "id": "269efd96",
   "metadata": {
    "slideshow": {
     "slide_type": "slide"
    }
   },
   "source": [
    "## Summary, next time\n",
    "\n",
    "- Beautiful Soup is an HTML parser that allows us to (somewhat) easily extract information from HTML documents.\n",
    "    - `soup.find` and `soup.find_all` are the functions you will use most often.\n",
    "- When writing scraping code:\n",
    "    - Use \"inspect element\" to identify the names of tags and attributes that are relevant to the information you want to extract.\n",
    "    - Separate your logic for making requests and for parsing."
   ]
  },
  {
   "cell_type": "markdown",
   "id": "5d72e61d",
   "metadata": {
    "slideshow": {
     "slide_type": "slide"
    }
   },
   "source": [
    "### Next time\n",
    "\n",
    "Regular expressions!"
   ]
  }
 ],
 "metadata": {
  "kernelspec": {
   "display_name": "Python 3 (ipykernel)",
   "language": "python",
   "name": "python3"
  },
  "language_info": {
   "codemirror_mode": {
    "name": "ipython",
    "version": 3
   },
   "file_extension": ".py",
   "mimetype": "text/x-python",
   "name": "python",
   "nbconvert_exporter": "python",
   "pygments_lexer": "ipython3",
   "version": "3.8.18"
  },
  "livereveal": {
   "scroll": true
  },
  "rise": {
   "transition": "none"
  }
 },
 "nbformat": 4,
 "nbformat_minor": 5
}
